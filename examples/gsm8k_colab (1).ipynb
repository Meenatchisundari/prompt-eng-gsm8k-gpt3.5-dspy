{
  "cells": [
    {
      "cell_type": "markdown",
      "metadata": {
        "id": "tZYV6WwjOVBj"
      },
      "source": [
        "# GSM8K Prompting Techniques Benchmark\n",
        "\n",
        "[![Open In Colab](https://colab.research.google.com/assets/colab-badge.svg)](https://colab.research.google.com/github/Meenatchisundari/prompt-eng-gsm8k-gpt3.5-dspy/blob/main/examples/gsm8k_colab.ipynb)\n",
        "\n",
        "This notebook demonstrates a comprehensive benchmark of **5 core prompting techniques** on GSM8K math word problems:\n",
        "\n",
        "1. **Zero-Shot** - Direct problem solving\n",
        "2. **Few-Shot** - Learning from examples  \n",
        "3. **Chain-of-Thought** - Step-by-step reasoning\n",
        "4. **Self-Consistency** - Multiple reasoning paths with voting\n",
        "5. **Prolog-Style** - Logical reasoning with facts, rules, and derivation\n",
        "\n",
        "## What You'll Learn\n",
        "- How to implement and compare different prompting techniques\n",
        "- Which techniques work best for mathematical reasoning\n",
        "- Cost vs. accuracy trade-offs\n",
        "- How to analyze and visualize results\n",
        "- Advanced techniques like ensemble methods and fine-tuning"
      ]
    },
    {
      "cell_type": "markdown",
      "metadata": {
        "id": "fQSLP8UvOVBl"
      },
      "source": [
        "## Setup & Installation\n",
        "\n",
        "First, let's install all required dependencies and set up our environment."
      ]
    },
    {
      "cell_type": "code",
      "execution_count": 1,
      "metadata": {
        "collapsed": true,
        "colab": {
          "base_uri": "https://localhost:8080/"
        },
        "id": "R6t8x8BBOVBm",
        "outputId": "8c8e62db-b021-4ef7-cf52-edee2f83c713"
      },
      "outputs": [
        {
          "output_type": "stream",
          "name": "stdout",
          "text": [
            "Requirement already satisfied: dspy-ai in /usr/local/lib/python3.11/dist-packages (3.0.1)\n",
            "Requirement already satisfied: openai in /usr/local/lib/python3.11/dist-packages (1.99.9)\n",
            "Requirement already satisfied: pandas in /usr/local/lib/python3.11/dist-packages (2.2.2)\n",
            "Requirement already satisfied: numpy in /usr/local/lib/python3.11/dist-packages (2.0.2)\n",
            "Requirement already satisfied: matplotlib in /usr/local/lib/python3.11/dist-packages (3.10.0)\n",
            "Requirement already satisfied: seaborn in /usr/local/lib/python3.11/dist-packages (0.13.2)\n",
            "Requirement already satisfied: datasets in /usr/local/lib/python3.11/dist-packages (4.0.0)\n",
            "Requirement already satisfied: dspy>=3.0.1 in /usr/local/lib/python3.11/dist-packages (from dspy-ai) (3.0.1)\n",
            "Requirement already satisfied: anyio<5,>=3.5.0 in /usr/local/lib/python3.11/dist-packages (from openai) (4.10.0)\n",
            "Requirement already satisfied: distro<2,>=1.7.0 in /usr/local/lib/python3.11/dist-packages (from openai) (1.9.0)\n",
            "Requirement already satisfied: httpx<1,>=0.23.0 in /usr/local/lib/python3.11/dist-packages (from openai) (0.28.1)\n",
            "Requirement already satisfied: jiter<1,>=0.4.0 in /usr/local/lib/python3.11/dist-packages (from openai) (0.10.0)\n",
            "Requirement already satisfied: pydantic<3,>=1.9.0 in /usr/local/lib/python3.11/dist-packages (from openai) (2.11.7)\n",
            "Requirement already satisfied: sniffio in /usr/local/lib/python3.11/dist-packages (from openai) (1.3.1)\n",
            "Requirement already satisfied: tqdm>4 in /usr/local/lib/python3.11/dist-packages (from openai) (4.67.1)\n",
            "Requirement already satisfied: typing-extensions<5,>=4.11 in /usr/local/lib/python3.11/dist-packages (from openai) (4.14.1)\n",
            "Requirement already satisfied: python-dateutil>=2.8.2 in /usr/local/lib/python3.11/dist-packages (from pandas) (2.9.0.post0)\n",
            "Requirement already satisfied: pytz>=2020.1 in /usr/local/lib/python3.11/dist-packages (from pandas) (2025.2)\n",
            "Requirement already satisfied: tzdata>=2022.7 in /usr/local/lib/python3.11/dist-packages (from pandas) (2025.2)\n",
            "Requirement already satisfied: contourpy>=1.0.1 in /usr/local/lib/python3.11/dist-packages (from matplotlib) (1.3.3)\n",
            "Requirement already satisfied: cycler>=0.10 in /usr/local/lib/python3.11/dist-packages (from matplotlib) (0.12.1)\n",
            "Requirement already satisfied: fonttools>=4.22.0 in /usr/local/lib/python3.11/dist-packages (from matplotlib) (4.59.0)\n",
            "Requirement already satisfied: kiwisolver>=1.3.1 in /usr/local/lib/python3.11/dist-packages (from matplotlib) (1.4.9)\n",
            "Requirement already satisfied: packaging>=20.0 in /usr/local/lib/python3.11/dist-packages (from matplotlib) (25.0)\n",
            "Requirement already satisfied: pillow>=8 in /usr/local/lib/python3.11/dist-packages (from matplotlib) (11.3.0)\n",
            "Requirement already satisfied: pyparsing>=2.3.1 in /usr/local/lib/python3.11/dist-packages (from matplotlib) (3.2.3)\n",
            "Requirement already satisfied: filelock in /usr/local/lib/python3.11/dist-packages (from datasets) (3.18.0)\n",
            "Requirement already satisfied: pyarrow>=15.0.0 in /usr/local/lib/python3.11/dist-packages (from datasets) (18.1.0)\n",
            "Requirement already satisfied: dill<0.3.9,>=0.3.0 in /usr/local/lib/python3.11/dist-packages (from datasets) (0.3.8)\n",
            "Requirement already satisfied: requests>=2.32.2 in /usr/local/lib/python3.11/dist-packages (from datasets) (2.32.3)\n",
            "Requirement already satisfied: xxhash in /usr/local/lib/python3.11/dist-packages (from datasets) (3.5.0)\n",
            "Requirement already satisfied: multiprocess<0.70.17 in /usr/local/lib/python3.11/dist-packages (from datasets) (0.70.16)\n",
            "Requirement already satisfied: fsspec<=2025.3.0,>=2023.1.0 in /usr/local/lib/python3.11/dist-packages (from fsspec[http]<=2025.3.0,>=2023.1.0->datasets) (2025.3.0)\n",
            "Requirement already satisfied: huggingface-hub>=0.24.0 in /usr/local/lib/python3.11/dist-packages (from datasets) (0.34.4)\n",
            "Requirement already satisfied: pyyaml>=5.1 in /usr/local/lib/python3.11/dist-packages (from datasets) (6.0.2)\n",
            "Requirement already satisfied: idna>=2.8 in /usr/local/lib/python3.11/dist-packages (from anyio<5,>=3.5.0->openai) (3.10)\n",
            "Requirement already satisfied: backoff>=2.2 in /usr/local/lib/python3.11/dist-packages (from dspy>=3.0.1->dspy-ai) (2.2.1)\n",
            "Requirement already satisfied: joblib~=1.3 in /usr/local/lib/python3.11/dist-packages (from dspy>=3.0.1->dspy-ai) (1.5.1)\n",
            "Requirement already satisfied: regex>=2023.10.3 in /usr/local/lib/python3.11/dist-packages (from dspy>=3.0.1->dspy-ai) (2024.11.6)\n",
            "Requirement already satisfied: ujson>=5.8.0 in /usr/local/lib/python3.11/dist-packages (from dspy>=3.0.1->dspy-ai) (5.10.0)\n",
            "Requirement already satisfied: optuna>=3.4.0 in /usr/local/lib/python3.11/dist-packages (from dspy>=3.0.1->dspy-ai) (4.5.0)\n",
            "Requirement already satisfied: magicattr>=0.1.6 in /usr/local/lib/python3.11/dist-packages (from dspy>=3.0.1->dspy-ai) (0.1.6)\n",
            "Requirement already satisfied: litellm>=1.64.0 in /usr/local/lib/python3.11/dist-packages (from dspy>=3.0.1->dspy-ai) (1.75.8)\n",
            "Requirement already satisfied: diskcache>=5.6.0 in /usr/local/lib/python3.11/dist-packages (from dspy>=3.0.1->dspy-ai) (5.6.3)\n",
            "Requirement already satisfied: json-repair>=0.30.0 in /usr/local/lib/python3.11/dist-packages (from dspy>=3.0.1->dspy-ai) (0.49.0)\n",
            "Requirement already satisfied: tenacity>=8.2.3 in /usr/local/lib/python3.11/dist-packages (from dspy>=3.0.1->dspy-ai) (9.1.2)\n",
            "Requirement already satisfied: asyncer==0.0.8 in /usr/local/lib/python3.11/dist-packages (from dspy>=3.0.1->dspy-ai) (0.0.8)\n",
            "Requirement already satisfied: cachetools>=5.5.0 in /usr/local/lib/python3.11/dist-packages (from dspy>=3.0.1->dspy-ai) (5.5.2)\n",
            "Requirement already satisfied: cloudpickle>=3.0.0 in /usr/local/lib/python3.11/dist-packages (from dspy>=3.0.1->dspy-ai) (3.1.1)\n",
            "Requirement already satisfied: rich>=13.7.1 in /usr/local/lib/python3.11/dist-packages (from dspy>=3.0.1->dspy-ai) (13.9.4)\n",
            "Requirement already satisfied: gepa==0.0.4 in /usr/local/lib/python3.11/dist-packages (from gepa[dspy]==0.0.4->dspy>=3.0.1->dspy-ai) (0.0.4)\n",
            "Requirement already satisfied: aiohttp!=4.0.0a0,!=4.0.0a1 in /usr/local/lib/python3.11/dist-packages (from fsspec[http]<=2025.3.0,>=2023.1.0->datasets) (3.12.15)\n",
            "Requirement already satisfied: certifi in /usr/local/lib/python3.11/dist-packages (from httpx<1,>=0.23.0->openai) (2025.8.3)\n",
            "Requirement already satisfied: httpcore==1.* in /usr/local/lib/python3.11/dist-packages (from httpx<1,>=0.23.0->openai) (1.0.9)\n",
            "Requirement already satisfied: h11>=0.16 in /usr/local/lib/python3.11/dist-packages (from httpcore==1.*->httpx<1,>=0.23.0->openai) (0.16.0)\n",
            "Requirement already satisfied: hf-xet<2.0.0,>=1.1.3 in /usr/local/lib/python3.11/dist-packages (from huggingface-hub>=0.24.0->datasets) (1.1.7)\n",
            "Requirement already satisfied: annotated-types>=0.6.0 in /usr/local/lib/python3.11/dist-packages (from pydantic<3,>=1.9.0->openai) (0.7.0)\n",
            "Requirement already satisfied: pydantic-core==2.33.2 in /usr/local/lib/python3.11/dist-packages (from pydantic<3,>=1.9.0->openai) (2.33.2)\n",
            "Requirement already satisfied: typing-inspection>=0.4.0 in /usr/local/lib/python3.11/dist-packages (from pydantic<3,>=1.9.0->openai) (0.4.1)\n",
            "Requirement already satisfied: six>=1.5 in /usr/local/lib/python3.11/dist-packages (from python-dateutil>=2.8.2->pandas) (1.17.0)\n",
            "Requirement already satisfied: charset-normalizer<4,>=2 in /usr/local/lib/python3.11/dist-packages (from requests>=2.32.2->datasets) (3.4.3)\n",
            "Requirement already satisfied: urllib3<3,>=1.21.1 in /usr/local/lib/python3.11/dist-packages (from requests>=2.32.2->datasets) (2.5.0)\n",
            "Requirement already satisfied: aiohappyeyeballs>=2.5.0 in /usr/local/lib/python3.11/dist-packages (from aiohttp!=4.0.0a0,!=4.0.0a1->fsspec[http]<=2025.3.0,>=2023.1.0->datasets) (2.6.1)\n",
            "Requirement already satisfied: aiosignal>=1.4.0 in /usr/local/lib/python3.11/dist-packages (from aiohttp!=4.0.0a0,!=4.0.0a1->fsspec[http]<=2025.3.0,>=2023.1.0->datasets) (1.4.0)\n",
            "Requirement already satisfied: attrs>=17.3.0 in /usr/local/lib/python3.11/dist-packages (from aiohttp!=4.0.0a0,!=4.0.0a1->fsspec[http]<=2025.3.0,>=2023.1.0->datasets) (25.3.0)\n",
            "Requirement already satisfied: frozenlist>=1.1.1 in /usr/local/lib/python3.11/dist-packages (from aiohttp!=4.0.0a0,!=4.0.0a1->fsspec[http]<=2025.3.0,>=2023.1.0->datasets) (1.7.0)\n",
            "Requirement already satisfied: multidict<7.0,>=4.5 in /usr/local/lib/python3.11/dist-packages (from aiohttp!=4.0.0a0,!=4.0.0a1->fsspec[http]<=2025.3.0,>=2023.1.0->datasets) (6.6.4)\n",
            "Requirement already satisfied: propcache>=0.2.0 in /usr/local/lib/python3.11/dist-packages (from aiohttp!=4.0.0a0,!=4.0.0a1->fsspec[http]<=2025.3.0,>=2023.1.0->datasets) (0.3.2)\n",
            "Requirement already satisfied: yarl<2.0,>=1.17.0 in /usr/local/lib/python3.11/dist-packages (from aiohttp!=4.0.0a0,!=4.0.0a1->fsspec[http]<=2025.3.0,>=2023.1.0->datasets) (1.20.1)\n",
            "Requirement already satisfied: click in /usr/local/lib/python3.11/dist-packages (from litellm>=1.64.0->dspy>=3.0.1->dspy-ai) (8.2.1)\n",
            "Requirement already satisfied: importlib-metadata>=6.8.0 in /usr/local/lib/python3.11/dist-packages (from litellm>=1.64.0->dspy>=3.0.1->dspy-ai) (8.7.0)\n",
            "Requirement already satisfied: jinja2<4.0.0,>=3.1.2 in /usr/local/lib/python3.11/dist-packages (from litellm>=1.64.0->dspy>=3.0.1->dspy-ai) (3.1.6)\n",
            "Requirement already satisfied: jsonschema<5.0.0,>=4.22.0 in /usr/local/lib/python3.11/dist-packages (from litellm>=1.64.0->dspy>=3.0.1->dspy-ai) (4.25.0)\n",
            "Requirement already satisfied: python-dotenv>=0.2.0 in /usr/local/lib/python3.11/dist-packages (from litellm>=1.64.0->dspy>=3.0.1->dspy-ai) (1.1.1)\n",
            "Requirement already satisfied: tiktoken>=0.7.0 in /usr/local/lib/python3.11/dist-packages (from litellm>=1.64.0->dspy>=3.0.1->dspy-ai) (0.11.0)\n",
            "Requirement already satisfied: tokenizers in /usr/local/lib/python3.11/dist-packages (from litellm>=1.64.0->dspy>=3.0.1->dspy-ai) (0.21.4)\n",
            "Requirement already satisfied: alembic>=1.5.0 in /usr/local/lib/python3.11/dist-packages (from optuna>=3.4.0->dspy>=3.0.1->dspy-ai) (1.16.4)\n",
            "Requirement already satisfied: colorlog in /usr/local/lib/python3.11/dist-packages (from optuna>=3.4.0->dspy>=3.0.1->dspy-ai) (6.9.0)\n",
            "Requirement already satisfied: sqlalchemy>=1.4.2 in /usr/local/lib/python3.11/dist-packages (from optuna>=3.4.0->dspy>=3.0.1->dspy-ai) (2.0.43)\n",
            "Requirement already satisfied: markdown-it-py>=2.2.0 in /usr/local/lib/python3.11/dist-packages (from rich>=13.7.1->dspy>=3.0.1->dspy-ai) (4.0.0)\n",
            "Requirement already satisfied: pygments<3.0.0,>=2.13.0 in /usr/local/lib/python3.11/dist-packages (from rich>=13.7.1->dspy>=3.0.1->dspy-ai) (2.19.2)\n",
            "Requirement already satisfied: Mako in /usr/lib/python3/dist-packages (from alembic>=1.5.0->optuna>=3.4.0->dspy>=3.0.1->dspy-ai) (1.1.3)\n",
            "Requirement already satisfied: zipp>=3.20 in /usr/local/lib/python3.11/dist-packages (from importlib-metadata>=6.8.0->litellm>=1.64.0->dspy>=3.0.1->dspy-ai) (3.23.0)\n",
            "Requirement already satisfied: MarkupSafe>=2.0 in /usr/local/lib/python3.11/dist-packages (from jinja2<4.0.0,>=3.1.2->litellm>=1.64.0->dspy>=3.0.1->dspy-ai) (3.0.2)\n",
            "Requirement already satisfied: jsonschema-specifications>=2023.03.6 in /usr/local/lib/python3.11/dist-packages (from jsonschema<5.0.0,>=4.22.0->litellm>=1.64.0->dspy>=3.0.1->dspy-ai) (2025.4.1)\n",
            "Requirement already satisfied: referencing>=0.28.4 in /usr/local/lib/python3.11/dist-packages (from jsonschema<5.0.0,>=4.22.0->litellm>=1.64.0->dspy>=3.0.1->dspy-ai) (0.36.2)\n",
            "Requirement already satisfied: rpds-py>=0.7.1 in /usr/local/lib/python3.11/dist-packages (from jsonschema<5.0.0,>=4.22.0->litellm>=1.64.0->dspy>=3.0.1->dspy-ai) (0.27.0)\n",
            "Requirement already satisfied: mdurl~=0.1 in /usr/local/lib/python3.11/dist-packages (from markdown-it-py>=2.2.0->rich>=13.7.1->dspy>=3.0.1->dspy-ai) (0.1.2)\n",
            "Requirement already satisfied: greenlet>=1 in /usr/local/lib/python3.11/dist-packages (from sqlalchemy>=1.4.2->optuna>=3.4.0->dspy>=3.0.1->dspy-ai) (3.2.4)\n",
            "Requirement already satisfied: transformers in /usr/local/lib/python3.11/dist-packages (4.55.2)\n",
            "Requirement already satisfied: torch in /usr/local/lib/python3.11/dist-packages (2.6.0+cu124)\n",
            "Requirement already satisfied: accelerate in /usr/local/lib/python3.11/dist-packages (1.10.0)\n",
            "Requirement already satisfied: scipy in /usr/local/lib/python3.11/dist-packages (1.16.1)\n",
            "Requirement already satisfied: scikit-learn in /usr/local/lib/python3.11/dist-packages (1.6.1)\n",
            "Requirement already satisfied: filelock in /usr/local/lib/python3.11/dist-packages (from transformers) (3.18.0)\n",
            "Requirement already satisfied: huggingface-hub<1.0,>=0.34.0 in /usr/local/lib/python3.11/dist-packages (from transformers) (0.34.4)\n",
            "Requirement already satisfied: numpy>=1.17 in /usr/local/lib/python3.11/dist-packages (from transformers) (2.0.2)\n",
            "Requirement already satisfied: packaging>=20.0 in /usr/local/lib/python3.11/dist-packages (from transformers) (25.0)\n",
            "Requirement already satisfied: pyyaml>=5.1 in /usr/local/lib/python3.11/dist-packages (from transformers) (6.0.2)\n",
            "Requirement already satisfied: regex!=2019.12.17 in /usr/local/lib/python3.11/dist-packages (from transformers) (2024.11.6)\n",
            "Requirement already satisfied: requests in /usr/local/lib/python3.11/dist-packages (from transformers) (2.32.3)\n",
            "Requirement already satisfied: tokenizers<0.22,>=0.21 in /usr/local/lib/python3.11/dist-packages (from transformers) (0.21.4)\n",
            "Requirement already satisfied: safetensors>=0.4.3 in /usr/local/lib/python3.11/dist-packages (from transformers) (0.6.2)\n",
            "Requirement already satisfied: tqdm>=4.27 in /usr/local/lib/python3.11/dist-packages (from transformers) (4.67.1)\n",
            "Requirement already satisfied: typing-extensions>=4.10.0 in /usr/local/lib/python3.11/dist-packages (from torch) (4.14.1)\n",
            "Requirement already satisfied: networkx in /usr/local/lib/python3.11/dist-packages (from torch) (3.5)\n",
            "Requirement already satisfied: jinja2 in /usr/local/lib/python3.11/dist-packages (from torch) (3.1.6)\n",
            "Requirement already satisfied: fsspec in /usr/local/lib/python3.11/dist-packages (from torch) (2025.3.0)\n",
            "Requirement already satisfied: nvidia-cuda-nvrtc-cu12==12.4.127 in /usr/local/lib/python3.11/dist-packages (from torch) (12.4.127)\n",
            "Requirement already satisfied: nvidia-cuda-runtime-cu12==12.4.127 in /usr/local/lib/python3.11/dist-packages (from torch) (12.4.127)\n",
            "Requirement already satisfied: nvidia-cuda-cupti-cu12==12.4.127 in /usr/local/lib/python3.11/dist-packages (from torch) (12.4.127)\n",
            "Requirement already satisfied: nvidia-cudnn-cu12==9.1.0.70 in /usr/local/lib/python3.11/dist-packages (from torch) (9.1.0.70)\n",
            "Requirement already satisfied: nvidia-cublas-cu12==12.4.5.8 in /usr/local/lib/python3.11/dist-packages (from torch) (12.4.5.8)\n",
            "Requirement already satisfied: nvidia-cufft-cu12==11.2.1.3 in /usr/local/lib/python3.11/dist-packages (from torch) (11.2.1.3)\n",
            "Requirement already satisfied: nvidia-curand-cu12==10.3.5.147 in /usr/local/lib/python3.11/dist-packages (from torch) (10.3.5.147)\n",
            "Requirement already satisfied: nvidia-cusolver-cu12==11.6.1.9 in /usr/local/lib/python3.11/dist-packages (from torch) (11.6.1.9)\n",
            "Requirement already satisfied: nvidia-cusparse-cu12==12.3.1.170 in /usr/local/lib/python3.11/dist-packages (from torch) (12.3.1.170)\n",
            "Requirement already satisfied: nvidia-cusparselt-cu12==0.6.2 in /usr/local/lib/python3.11/dist-packages (from torch) (0.6.2)\n",
            "Requirement already satisfied: nvidia-nccl-cu12==2.21.5 in /usr/local/lib/python3.11/dist-packages (from torch) (2.21.5)\n",
            "Requirement already satisfied: nvidia-nvtx-cu12==12.4.127 in /usr/local/lib/python3.11/dist-packages (from torch) (12.4.127)\n",
            "Requirement already satisfied: nvidia-nvjitlink-cu12==12.4.127 in /usr/local/lib/python3.11/dist-packages (from torch) (12.4.127)\n",
            "Requirement already satisfied: triton==3.2.0 in /usr/local/lib/python3.11/dist-packages (from torch) (3.2.0)\n",
            "Requirement already satisfied: sympy==1.13.1 in /usr/local/lib/python3.11/dist-packages (from torch) (1.13.1)\n",
            "Requirement already satisfied: mpmath<1.4,>=1.1.0 in /usr/local/lib/python3.11/dist-packages (from sympy==1.13.1->torch) (1.3.0)\n",
            "Requirement already satisfied: psutil in /usr/local/lib/python3.11/dist-packages (from accelerate) (5.9.5)\n",
            "Requirement already satisfied: joblib>=1.2.0 in /usr/local/lib/python3.11/dist-packages (from scikit-learn) (1.5.1)\n",
            "Requirement already satisfied: threadpoolctl>=3.1.0 in /usr/local/lib/python3.11/dist-packages (from scikit-learn) (3.6.0)\n",
            "Requirement already satisfied: hf-xet<2.0.0,>=1.1.3 in /usr/local/lib/python3.11/dist-packages (from huggingface-hub<1.0,>=0.34.0->transformers) (1.1.7)\n",
            "Requirement already satisfied: MarkupSafe>=2.0 in /usr/local/lib/python3.11/dist-packages (from jinja2->torch) (3.0.2)\n",
            "Requirement already satisfied: charset-normalizer<4,>=2 in /usr/local/lib/python3.11/dist-packages (from requests->transformers) (3.4.3)\n",
            "Requirement already satisfied: idna<4,>=2.5 in /usr/local/lib/python3.11/dist-packages (from requests->transformers) (3.10)\n",
            "Requirement already satisfied: urllib3<3,>=1.21.1 in /usr/local/lib/python3.11/dist-packages (from requests->transformers) (2.5.0)\n",
            "Requirement already satisfied: certifi>=2017.4.17 in /usr/local/lib/python3.11/dist-packages (from requests->transformers) (2025.8.3)\n"
          ]
        }
      ],
      "source": [
        "# Install the GSM8K benchmark package and dependencies\n",
        "%pip install dspy-ai openai pandas numpy matplotlib seaborn datasets\n",
        "%pip install transformers torch accelerate scipy scikit-learn"
      ]
    },
    {
      "cell_type": "code",
      "source": [
        "import os, sys\n",
        "\n",
        "# Clone your repo\n",
        "!git clone https://github.com/Meenatchisundari/prompt-eng-gsm8k-gpt3.5-dspy.git\n",
        "os.chdir('/content/prompt-eng-gsm8k-gpt3.5-dspy')\n",
        "\n",
        "# Install in editable mode\n",
        "%pip install -e .\n",
        "\n",
        "# Optional: only if imports fail without it\n",
        "# sys.path.insert(0, '/content/prompt-eng-gsm8k-gpt3.5-dspy/src')\n",
        "\n",
        "print(\"Repository cloned and installed!\")\n",
        "print(f\"Current directory: {os.getcwd()}\")\n"
      ],
      "metadata": {
        "collapsed": true,
        "colab": {
          "base_uri": "https://localhost:8080/"
        },
        "id": "ivBK5cN7Uuvi",
        "outputId": "5643fff2-c808-4029-e3e9-149d2340fe3a"
      },
      "execution_count": 2,
      "outputs": [
        {
          "output_type": "stream",
          "name": "stdout",
          "text": [
            "fatal: destination path 'prompt-eng-gsm8k-gpt3.5-dspy' already exists and is not an empty directory.\n",
            "Obtaining file:///content/prompt-eng-gsm8k-gpt3.5-dspy\n",
            "  Preparing metadata (setup.py) ... \u001b[?25l\u001b[?25hdone\n",
            "Requirement already satisfied: dspy-ai>=2.4.0 in /usr/local/lib/python3.11/dist-packages (from gsm8k-bench==0.1.0) (3.0.1)\n",
            "Requirement already satisfied: openai>=1.0.0 in /usr/local/lib/python3.11/dist-packages (from gsm8k-bench==0.1.0) (1.99.9)\n",
            "Requirement already satisfied: datasets>=2.14.0 in /usr/local/lib/python3.11/dist-packages (from gsm8k-bench==0.1.0) (4.0.0)\n",
            "Requirement already satisfied: pandas>=2.0.0 in /usr/local/lib/python3.11/dist-packages (from gsm8k-bench==0.1.0) (2.2.2)\n",
            "Requirement already satisfied: numpy>=1.24.0 in /usr/local/lib/python3.11/dist-packages (from gsm8k-bench==0.1.0) (2.0.2)\n",
            "Requirement already satisfied: matplotlib>=3.7.0 in /usr/local/lib/python3.11/dist-packages (from gsm8k-bench==0.1.0) (3.10.0)\n",
            "Requirement already satisfied: seaborn>=0.12.0 in /usr/local/lib/python3.11/dist-packages (from gsm8k-bench==0.1.0) (0.13.2)\n",
            "Requirement already satisfied: transformers>=4.30.0 in /usr/local/lib/python3.11/dist-packages (from gsm8k-bench==0.1.0) (4.55.2)\n",
            "Requirement already satisfied: torch>=2.0.0 in /usr/local/lib/python3.11/dist-packages (from gsm8k-bench==0.1.0) (2.6.0+cu124)\n",
            "Requirement already satisfied: accelerate>=0.20.0 in /usr/local/lib/python3.11/dist-packages (from gsm8k-bench==0.1.0) (1.10.0)\n",
            "Requirement already satisfied: peft>=0.4.0 in /usr/local/lib/python3.11/dist-packages (from gsm8k-bench==0.1.0) (0.17.0)\n",
            "Requirement already satisfied: bitsandbytes>=0.39.0 in /usr/local/lib/python3.11/dist-packages (from gsm8k-bench==0.1.0) (0.47.0)\n",
            "Requirement already satisfied: scipy>=1.10.0 in /usr/local/lib/python3.11/dist-packages (from gsm8k-bench==0.1.0) (1.16.1)\n",
            "Requirement already satisfied: scikit-learn>=1.3.0 in /usr/local/lib/python3.11/dist-packages (from gsm8k-bench==0.1.0) (1.6.1)\n",
            "Requirement already satisfied: pytest>=7.0.0 in /usr/local/lib/python3.11/dist-packages (from gsm8k-bench==0.1.0) (8.4.1)\n",
            "Requirement already satisfied: black>=23.0.0 in /usr/local/lib/python3.11/dist-packages (from gsm8k-bench==0.1.0) (25.1.0)\n",
            "Requirement already satisfied: flake8>=6.0.0 in /usr/local/lib/python3.11/dist-packages (from gsm8k-bench==0.1.0) (7.3.0)\n",
            "Requirement already satisfied: click>=8.0.0 in /usr/local/lib/python3.11/dist-packages (from gsm8k-bench==0.1.0) (8.2.1)\n",
            "Requirement already satisfied: jupyter>=1.0.0 in /usr/local/lib/python3.11/dist-packages (from gsm8k-bench==0.1.0) (1.1.1)\n",
            "Requirement already satisfied: ipywidgets>=8.0.0 in /usr/local/lib/python3.11/dist-packages (from gsm8k-bench==0.1.0) (8.1.7)\n",
            "Requirement already satisfied: packaging>=20.0 in /usr/local/lib/python3.11/dist-packages (from accelerate>=0.20.0->gsm8k-bench==0.1.0) (25.0)\n",
            "Requirement already satisfied: psutil in /usr/local/lib/python3.11/dist-packages (from accelerate>=0.20.0->gsm8k-bench==0.1.0) (5.9.5)\n",
            "Requirement already satisfied: pyyaml in /usr/local/lib/python3.11/dist-packages (from accelerate>=0.20.0->gsm8k-bench==0.1.0) (6.0.2)\n",
            "Requirement already satisfied: huggingface_hub>=0.21.0 in /usr/local/lib/python3.11/dist-packages (from accelerate>=0.20.0->gsm8k-bench==0.1.0) (0.34.4)\n",
            "Requirement already satisfied: safetensors>=0.4.3 in /usr/local/lib/python3.11/dist-packages (from accelerate>=0.20.0->gsm8k-bench==0.1.0) (0.6.2)\n",
            "Requirement already satisfied: mypy-extensions>=0.4.3 in /usr/local/lib/python3.11/dist-packages (from black>=23.0.0->gsm8k-bench==0.1.0) (1.1.0)\n",
            "Requirement already satisfied: pathspec>=0.9.0 in /usr/local/lib/python3.11/dist-packages (from black>=23.0.0->gsm8k-bench==0.1.0) (0.12.1)\n",
            "Requirement already satisfied: platformdirs>=2 in /usr/local/lib/python3.11/dist-packages (from black>=23.0.0->gsm8k-bench==0.1.0) (4.3.8)\n",
            "Requirement already satisfied: filelock in /usr/local/lib/python3.11/dist-packages (from datasets>=2.14.0->gsm8k-bench==0.1.0) (3.18.0)\n",
            "Requirement already satisfied: pyarrow>=15.0.0 in /usr/local/lib/python3.11/dist-packages (from datasets>=2.14.0->gsm8k-bench==0.1.0) (18.1.0)\n",
            "Requirement already satisfied: dill<0.3.9,>=0.3.0 in /usr/local/lib/python3.11/dist-packages (from datasets>=2.14.0->gsm8k-bench==0.1.0) (0.3.8)\n",
            "Requirement already satisfied: requests>=2.32.2 in /usr/local/lib/python3.11/dist-packages (from datasets>=2.14.0->gsm8k-bench==0.1.0) (2.32.3)\n",
            "Requirement already satisfied: tqdm>=4.66.3 in /usr/local/lib/python3.11/dist-packages (from datasets>=2.14.0->gsm8k-bench==0.1.0) (4.67.1)\n",
            "Requirement already satisfied: xxhash in /usr/local/lib/python3.11/dist-packages (from datasets>=2.14.0->gsm8k-bench==0.1.0) (3.5.0)\n",
            "Requirement already satisfied: multiprocess<0.70.17 in /usr/local/lib/python3.11/dist-packages (from datasets>=2.14.0->gsm8k-bench==0.1.0) (0.70.16)\n",
            "Requirement already satisfied: fsspec<=2025.3.0,>=2023.1.0 in /usr/local/lib/python3.11/dist-packages (from fsspec[http]<=2025.3.0,>=2023.1.0->datasets>=2.14.0->gsm8k-bench==0.1.0) (2025.3.0)\n",
            "Requirement already satisfied: dspy>=3.0.1 in /usr/local/lib/python3.11/dist-packages (from dspy-ai>=2.4.0->gsm8k-bench==0.1.0) (3.0.1)\n",
            "Requirement already satisfied: mccabe<0.8.0,>=0.7.0 in /usr/local/lib/python3.11/dist-packages (from flake8>=6.0.0->gsm8k-bench==0.1.0) (0.7.0)\n",
            "Requirement already satisfied: pycodestyle<2.15.0,>=2.14.0 in /usr/local/lib/python3.11/dist-packages (from flake8>=6.0.0->gsm8k-bench==0.1.0) (2.14.0)\n",
            "Requirement already satisfied: pyflakes<3.5.0,>=3.4.0 in /usr/local/lib/python3.11/dist-packages (from flake8>=6.0.0->gsm8k-bench==0.1.0) (3.4.0)\n",
            "Requirement already satisfied: comm>=0.1.3 in /usr/local/lib/python3.11/dist-packages (from ipywidgets>=8.0.0->gsm8k-bench==0.1.0) (0.2.3)\n",
            "Requirement already satisfied: ipython>=6.1.0 in /usr/local/lib/python3.11/dist-packages (from ipywidgets>=8.0.0->gsm8k-bench==0.1.0) (7.34.0)\n",
            "Requirement already satisfied: traitlets>=4.3.1 in /usr/local/lib/python3.11/dist-packages (from ipywidgets>=8.0.0->gsm8k-bench==0.1.0) (5.7.1)\n",
            "Requirement already satisfied: widgetsnbextension~=4.0.14 in /usr/local/lib/python3.11/dist-packages (from ipywidgets>=8.0.0->gsm8k-bench==0.1.0) (4.0.14)\n",
            "Requirement already satisfied: jupyterlab_widgets~=3.0.15 in /usr/local/lib/python3.11/dist-packages (from ipywidgets>=8.0.0->gsm8k-bench==0.1.0) (3.0.15)\n",
            "Requirement already satisfied: notebook in /usr/local/lib/python3.11/dist-packages (from jupyter>=1.0.0->gsm8k-bench==0.1.0) (6.5.7)\n",
            "Requirement already satisfied: jupyter-console in /usr/local/lib/python3.11/dist-packages (from jupyter>=1.0.0->gsm8k-bench==0.1.0) (6.1.0)\n",
            "Requirement already satisfied: nbconvert in /usr/local/lib/python3.11/dist-packages (from jupyter>=1.0.0->gsm8k-bench==0.1.0) (7.16.6)\n",
            "Requirement already satisfied: ipykernel in /usr/local/lib/python3.11/dist-packages (from jupyter>=1.0.0->gsm8k-bench==0.1.0) (6.17.1)\n",
            "Requirement already satisfied: jupyterlab in /usr/local/lib/python3.11/dist-packages (from jupyter>=1.0.0->gsm8k-bench==0.1.0) (4.4.6)\n",
            "Requirement already satisfied: contourpy>=1.0.1 in /usr/local/lib/python3.11/dist-packages (from matplotlib>=3.7.0->gsm8k-bench==0.1.0) (1.3.3)\n",
            "Requirement already satisfied: cycler>=0.10 in /usr/local/lib/python3.11/dist-packages (from matplotlib>=3.7.0->gsm8k-bench==0.1.0) (0.12.1)\n",
            "Requirement already satisfied: fonttools>=4.22.0 in /usr/local/lib/python3.11/dist-packages (from matplotlib>=3.7.0->gsm8k-bench==0.1.0) (4.59.0)\n",
            "Requirement already satisfied: kiwisolver>=1.3.1 in /usr/local/lib/python3.11/dist-packages (from matplotlib>=3.7.0->gsm8k-bench==0.1.0) (1.4.9)\n",
            "Requirement already satisfied: pillow>=8 in /usr/local/lib/python3.11/dist-packages (from matplotlib>=3.7.0->gsm8k-bench==0.1.0) (11.3.0)\n",
            "Requirement already satisfied: pyparsing>=2.3.1 in /usr/local/lib/python3.11/dist-packages (from matplotlib>=3.7.0->gsm8k-bench==0.1.0) (3.2.3)\n",
            "Requirement already satisfied: python-dateutil>=2.7 in /usr/local/lib/python3.11/dist-packages (from matplotlib>=3.7.0->gsm8k-bench==0.1.0) (2.9.0.post0)\n",
            "Requirement already satisfied: anyio<5,>=3.5.0 in /usr/local/lib/python3.11/dist-packages (from openai>=1.0.0->gsm8k-bench==0.1.0) (4.10.0)\n",
            "Requirement already satisfied: distro<2,>=1.7.0 in /usr/local/lib/python3.11/dist-packages (from openai>=1.0.0->gsm8k-bench==0.1.0) (1.9.0)\n",
            "Requirement already satisfied: httpx<1,>=0.23.0 in /usr/local/lib/python3.11/dist-packages (from openai>=1.0.0->gsm8k-bench==0.1.0) (0.28.1)\n",
            "Requirement already satisfied: jiter<1,>=0.4.0 in /usr/local/lib/python3.11/dist-packages (from openai>=1.0.0->gsm8k-bench==0.1.0) (0.10.0)\n",
            "Requirement already satisfied: pydantic<3,>=1.9.0 in /usr/local/lib/python3.11/dist-packages (from openai>=1.0.0->gsm8k-bench==0.1.0) (2.11.7)\n",
            "Requirement already satisfied: sniffio in /usr/local/lib/python3.11/dist-packages (from openai>=1.0.0->gsm8k-bench==0.1.0) (1.3.1)\n",
            "Requirement already satisfied: typing-extensions<5,>=4.11 in /usr/local/lib/python3.11/dist-packages (from openai>=1.0.0->gsm8k-bench==0.1.0) (4.14.1)\n",
            "Requirement already satisfied: pytz>=2020.1 in /usr/local/lib/python3.11/dist-packages (from pandas>=2.0.0->gsm8k-bench==0.1.0) (2025.2)\n",
            "Requirement already satisfied: tzdata>=2022.7 in /usr/local/lib/python3.11/dist-packages (from pandas>=2.0.0->gsm8k-bench==0.1.0) (2025.2)\n",
            "Requirement already satisfied: iniconfig>=1 in /usr/local/lib/python3.11/dist-packages (from pytest>=7.0.0->gsm8k-bench==0.1.0) (2.1.0)\n",
            "Requirement already satisfied: pluggy<2,>=1.5 in /usr/local/lib/python3.11/dist-packages (from pytest>=7.0.0->gsm8k-bench==0.1.0) (1.6.0)\n",
            "Requirement already satisfied: pygments>=2.7.2 in /usr/local/lib/python3.11/dist-packages (from pytest>=7.0.0->gsm8k-bench==0.1.0) (2.19.2)\n",
            "Requirement already satisfied: joblib>=1.2.0 in /usr/local/lib/python3.11/dist-packages (from scikit-learn>=1.3.0->gsm8k-bench==0.1.0) (1.5.1)\n",
            "Requirement already satisfied: threadpoolctl>=3.1.0 in /usr/local/lib/python3.11/dist-packages (from scikit-learn>=1.3.0->gsm8k-bench==0.1.0) (3.6.0)\n",
            "Requirement already satisfied: networkx in /usr/local/lib/python3.11/dist-packages (from torch>=2.0.0->gsm8k-bench==0.1.0) (3.5)\n",
            "Requirement already satisfied: jinja2 in /usr/local/lib/python3.11/dist-packages (from torch>=2.0.0->gsm8k-bench==0.1.0) (3.1.6)\n",
            "Requirement already satisfied: nvidia-cuda-nvrtc-cu12==12.4.127 in /usr/local/lib/python3.11/dist-packages (from torch>=2.0.0->gsm8k-bench==0.1.0) (12.4.127)\n",
            "Requirement already satisfied: nvidia-cuda-runtime-cu12==12.4.127 in /usr/local/lib/python3.11/dist-packages (from torch>=2.0.0->gsm8k-bench==0.1.0) (12.4.127)\n",
            "Requirement already satisfied: nvidia-cuda-cupti-cu12==12.4.127 in /usr/local/lib/python3.11/dist-packages (from torch>=2.0.0->gsm8k-bench==0.1.0) (12.4.127)\n",
            "Requirement already satisfied: nvidia-cudnn-cu12==9.1.0.70 in /usr/local/lib/python3.11/dist-packages (from torch>=2.0.0->gsm8k-bench==0.1.0) (9.1.0.70)\n",
            "Requirement already satisfied: nvidia-cublas-cu12==12.4.5.8 in /usr/local/lib/python3.11/dist-packages (from torch>=2.0.0->gsm8k-bench==0.1.0) (12.4.5.8)\n",
            "Requirement already satisfied: nvidia-cufft-cu12==11.2.1.3 in /usr/local/lib/python3.11/dist-packages (from torch>=2.0.0->gsm8k-bench==0.1.0) (11.2.1.3)\n",
            "Requirement already satisfied: nvidia-curand-cu12==10.3.5.147 in /usr/local/lib/python3.11/dist-packages (from torch>=2.0.0->gsm8k-bench==0.1.0) (10.3.5.147)\n",
            "Requirement already satisfied: nvidia-cusolver-cu12==11.6.1.9 in /usr/local/lib/python3.11/dist-packages (from torch>=2.0.0->gsm8k-bench==0.1.0) (11.6.1.9)\n",
            "Requirement already satisfied: nvidia-cusparse-cu12==12.3.1.170 in /usr/local/lib/python3.11/dist-packages (from torch>=2.0.0->gsm8k-bench==0.1.0) (12.3.1.170)\n",
            "Requirement already satisfied: nvidia-cusparselt-cu12==0.6.2 in /usr/local/lib/python3.11/dist-packages (from torch>=2.0.0->gsm8k-bench==0.1.0) (0.6.2)\n",
            "Requirement already satisfied: nvidia-nccl-cu12==2.21.5 in /usr/local/lib/python3.11/dist-packages (from torch>=2.0.0->gsm8k-bench==0.1.0) (2.21.5)\n",
            "Requirement already satisfied: nvidia-nvtx-cu12==12.4.127 in /usr/local/lib/python3.11/dist-packages (from torch>=2.0.0->gsm8k-bench==0.1.0) (12.4.127)\n",
            "Requirement already satisfied: nvidia-nvjitlink-cu12==12.4.127 in /usr/local/lib/python3.11/dist-packages (from torch>=2.0.0->gsm8k-bench==0.1.0) (12.4.127)\n",
            "Requirement already satisfied: triton==3.2.0 in /usr/local/lib/python3.11/dist-packages (from torch>=2.0.0->gsm8k-bench==0.1.0) (3.2.0)\n",
            "Requirement already satisfied: sympy==1.13.1 in /usr/local/lib/python3.11/dist-packages (from torch>=2.0.0->gsm8k-bench==0.1.0) (1.13.1)\n",
            "Requirement already satisfied: mpmath<1.4,>=1.1.0 in /usr/local/lib/python3.11/dist-packages (from sympy==1.13.1->torch>=2.0.0->gsm8k-bench==0.1.0) (1.3.0)\n",
            "Requirement already satisfied: regex!=2019.12.17 in /usr/local/lib/python3.11/dist-packages (from transformers>=4.30.0->gsm8k-bench==0.1.0) (2024.11.6)\n",
            "Requirement already satisfied: tokenizers<0.22,>=0.21 in /usr/local/lib/python3.11/dist-packages (from transformers>=4.30.0->gsm8k-bench==0.1.0) (0.21.4)\n",
            "Requirement already satisfied: idna>=2.8 in /usr/local/lib/python3.11/dist-packages (from anyio<5,>=3.5.0->openai>=1.0.0->gsm8k-bench==0.1.0) (3.10)\n",
            "Requirement already satisfied: backoff>=2.2 in /usr/local/lib/python3.11/dist-packages (from dspy>=3.0.1->dspy-ai>=2.4.0->gsm8k-bench==0.1.0) (2.2.1)\n",
            "Requirement already satisfied: ujson>=5.8.0 in /usr/local/lib/python3.11/dist-packages (from dspy>=3.0.1->dspy-ai>=2.4.0->gsm8k-bench==0.1.0) (5.10.0)\n",
            "Requirement already satisfied: optuna>=3.4.0 in /usr/local/lib/python3.11/dist-packages (from dspy>=3.0.1->dspy-ai>=2.4.0->gsm8k-bench==0.1.0) (4.5.0)\n",
            "Requirement already satisfied: magicattr>=0.1.6 in /usr/local/lib/python3.11/dist-packages (from dspy>=3.0.1->dspy-ai>=2.4.0->gsm8k-bench==0.1.0) (0.1.6)\n",
            "Requirement already satisfied: litellm>=1.64.0 in /usr/local/lib/python3.11/dist-packages (from dspy>=3.0.1->dspy-ai>=2.4.0->gsm8k-bench==0.1.0) (1.75.8)\n",
            "Requirement already satisfied: diskcache>=5.6.0 in /usr/local/lib/python3.11/dist-packages (from dspy>=3.0.1->dspy-ai>=2.4.0->gsm8k-bench==0.1.0) (5.6.3)\n",
            "Requirement already satisfied: json-repair>=0.30.0 in /usr/local/lib/python3.11/dist-packages (from dspy>=3.0.1->dspy-ai>=2.4.0->gsm8k-bench==0.1.0) (0.49.0)\n",
            "Requirement already satisfied: tenacity>=8.2.3 in /usr/local/lib/python3.11/dist-packages (from dspy>=3.0.1->dspy-ai>=2.4.0->gsm8k-bench==0.1.0) (9.1.2)\n",
            "Requirement already satisfied: asyncer==0.0.8 in /usr/local/lib/python3.11/dist-packages (from dspy>=3.0.1->dspy-ai>=2.4.0->gsm8k-bench==0.1.0) (0.0.8)\n",
            "Requirement already satisfied: cachetools>=5.5.0 in /usr/local/lib/python3.11/dist-packages (from dspy>=3.0.1->dspy-ai>=2.4.0->gsm8k-bench==0.1.0) (5.5.2)\n",
            "Requirement already satisfied: cloudpickle>=3.0.0 in /usr/local/lib/python3.11/dist-packages (from dspy>=3.0.1->dspy-ai>=2.4.0->gsm8k-bench==0.1.0) (3.1.1)\n",
            "Requirement already satisfied: rich>=13.7.1 in /usr/local/lib/python3.11/dist-packages (from dspy>=3.0.1->dspy-ai>=2.4.0->gsm8k-bench==0.1.0) (13.9.4)\n",
            "Requirement already satisfied: gepa==0.0.4 in /usr/local/lib/python3.11/dist-packages (from gepa[dspy]==0.0.4->dspy>=3.0.1->dspy-ai>=2.4.0->gsm8k-bench==0.1.0) (0.0.4)\n",
            "Requirement already satisfied: aiohttp!=4.0.0a0,!=4.0.0a1 in /usr/local/lib/python3.11/dist-packages (from fsspec[http]<=2025.3.0,>=2023.1.0->datasets>=2.14.0->gsm8k-bench==0.1.0) (3.12.15)\n",
            "Requirement already satisfied: certifi in /usr/local/lib/python3.11/dist-packages (from httpx<1,>=0.23.0->openai>=1.0.0->gsm8k-bench==0.1.0) (2025.8.3)\n",
            "Requirement already satisfied: httpcore==1.* in /usr/local/lib/python3.11/dist-packages (from httpx<1,>=0.23.0->openai>=1.0.0->gsm8k-bench==0.1.0) (1.0.9)\n",
            "Requirement already satisfied: h11>=0.16 in /usr/local/lib/python3.11/dist-packages (from httpcore==1.*->httpx<1,>=0.23.0->openai>=1.0.0->gsm8k-bench==0.1.0) (0.16.0)\n",
            "Requirement already satisfied: hf-xet<2.0.0,>=1.1.3 in /usr/local/lib/python3.11/dist-packages (from huggingface_hub>=0.21.0->accelerate>=0.20.0->gsm8k-bench==0.1.0) (1.1.7)\n",
            "Requirement already satisfied: setuptools>=18.5 in /usr/local/lib/python3.11/dist-packages (from ipython>=6.1.0->ipywidgets>=8.0.0->gsm8k-bench==0.1.0) (75.2.0)\n",
            "Requirement already satisfied: jedi>=0.16 in /usr/local/lib/python3.11/dist-packages (from ipython>=6.1.0->ipywidgets>=8.0.0->gsm8k-bench==0.1.0) (0.19.2)\n",
            "Requirement already satisfied: decorator in /usr/local/lib/python3.11/dist-packages (from ipython>=6.1.0->ipywidgets>=8.0.0->gsm8k-bench==0.1.0) (4.4.2)\n",
            "Requirement already satisfied: pickleshare in /usr/local/lib/python3.11/dist-packages (from ipython>=6.1.0->ipywidgets>=8.0.0->gsm8k-bench==0.1.0) (0.7.5)\n",
            "Requirement already satisfied: prompt-toolkit!=3.0.0,!=3.0.1,<3.1.0,>=2.0.0 in /usr/local/lib/python3.11/dist-packages (from ipython>=6.1.0->ipywidgets>=8.0.0->gsm8k-bench==0.1.0) (3.0.51)\n",
            "Requirement already satisfied: backcall in /usr/local/lib/python3.11/dist-packages (from ipython>=6.1.0->ipywidgets>=8.0.0->gsm8k-bench==0.1.0) (0.2.0)\n",
            "Requirement already satisfied: matplotlib-inline in /usr/local/lib/python3.11/dist-packages (from ipython>=6.1.0->ipywidgets>=8.0.0->gsm8k-bench==0.1.0) (0.1.7)\n",
            "Requirement already satisfied: pexpect>4.3 in /usr/local/lib/python3.11/dist-packages (from ipython>=6.1.0->ipywidgets>=8.0.0->gsm8k-bench==0.1.0) (4.9.0)\n",
            "Requirement already satisfied: annotated-types>=0.6.0 in /usr/local/lib/python3.11/dist-packages (from pydantic<3,>=1.9.0->openai>=1.0.0->gsm8k-bench==0.1.0) (0.7.0)\n",
            "Requirement already satisfied: pydantic-core==2.33.2 in /usr/local/lib/python3.11/dist-packages (from pydantic<3,>=1.9.0->openai>=1.0.0->gsm8k-bench==0.1.0) (2.33.2)\n",
            "Requirement already satisfied: typing-inspection>=0.4.0 in /usr/local/lib/python3.11/dist-packages (from pydantic<3,>=1.9.0->openai>=1.0.0->gsm8k-bench==0.1.0) (0.4.1)\n",
            "Requirement already satisfied: six>=1.5 in /usr/local/lib/python3.11/dist-packages (from python-dateutil>=2.7->matplotlib>=3.7.0->gsm8k-bench==0.1.0) (1.17.0)\n",
            "Requirement already satisfied: charset-normalizer<4,>=2 in /usr/local/lib/python3.11/dist-packages (from requests>=2.32.2->datasets>=2.14.0->gsm8k-bench==0.1.0) (3.4.3)\n",
            "Requirement already satisfied: urllib3<3,>=1.21.1 in /usr/local/lib/python3.11/dist-packages (from requests>=2.32.2->datasets>=2.14.0->gsm8k-bench==0.1.0) (2.5.0)\n",
            "Requirement already satisfied: debugpy>=1.0 in /usr/local/lib/python3.11/dist-packages (from ipykernel->jupyter>=1.0.0->gsm8k-bench==0.1.0) (1.8.15)\n",
            "Requirement already satisfied: jupyter-client>=6.1.12 in /usr/local/lib/python3.11/dist-packages (from ipykernel->jupyter>=1.0.0->gsm8k-bench==0.1.0) (7.4.9)\n",
            "Requirement already satisfied: nest-asyncio in /usr/local/lib/python3.11/dist-packages (from ipykernel->jupyter>=1.0.0->gsm8k-bench==0.1.0) (1.6.0)\n",
            "Requirement already satisfied: pyzmq>=17 in /usr/local/lib/python3.11/dist-packages (from ipykernel->jupyter>=1.0.0->gsm8k-bench==0.1.0) (26.2.1)\n",
            "Requirement already satisfied: tornado>=6.1 in /usr/local/lib/python3.11/dist-packages (from ipykernel->jupyter>=1.0.0->gsm8k-bench==0.1.0) (6.4.2)\n",
            "Requirement already satisfied: MarkupSafe>=2.0 in /usr/local/lib/python3.11/dist-packages (from jinja2->torch>=2.0.0->gsm8k-bench==0.1.0) (3.0.2)\n",
            "Requirement already satisfied: async-lru>=1.0.0 in /usr/local/lib/python3.11/dist-packages (from jupyterlab->jupyter>=1.0.0->gsm8k-bench==0.1.0) (2.0.5)\n",
            "Requirement already satisfied: jupyter-core in /usr/local/lib/python3.11/dist-packages (from jupyterlab->jupyter>=1.0.0->gsm8k-bench==0.1.0) (5.8.1)\n",
            "Requirement already satisfied: jupyter-lsp>=2.0.0 in /usr/local/lib/python3.11/dist-packages (from jupyterlab->jupyter>=1.0.0->gsm8k-bench==0.1.0) (2.2.6)\n",
            "Requirement already satisfied: jupyter-server<3,>=2.4.0 in /usr/local/lib/python3.11/dist-packages (from jupyterlab->jupyter>=1.0.0->gsm8k-bench==0.1.0) (2.16.0)\n",
            "Requirement already satisfied: jupyterlab-server<3,>=2.27.1 in /usr/local/lib/python3.11/dist-packages (from jupyterlab->jupyter>=1.0.0->gsm8k-bench==0.1.0) (2.27.3)\n",
            "Requirement already satisfied: notebook-shim>=0.2 in /usr/local/lib/python3.11/dist-packages (from jupyterlab->jupyter>=1.0.0->gsm8k-bench==0.1.0) (0.2.4)\n",
            "Requirement already satisfied: beautifulsoup4 in /usr/local/lib/python3.11/dist-packages (from nbconvert->jupyter>=1.0.0->gsm8k-bench==0.1.0) (4.13.4)\n",
            "Requirement already satisfied: bleach!=5.0.0 in /usr/local/lib/python3.11/dist-packages (from bleach[css]!=5.0.0->nbconvert->jupyter>=1.0.0->gsm8k-bench==0.1.0) (6.2.0)\n",
            "Requirement already satisfied: defusedxml in /usr/local/lib/python3.11/dist-packages (from nbconvert->jupyter>=1.0.0->gsm8k-bench==0.1.0) (0.7.1)\n",
            "Requirement already satisfied: jupyterlab-pygments in /usr/local/lib/python3.11/dist-packages (from nbconvert->jupyter>=1.0.0->gsm8k-bench==0.1.0) (0.3.0)\n",
            "Requirement already satisfied: mistune<4,>=2.0.3 in /usr/local/lib/python3.11/dist-packages (from nbconvert->jupyter>=1.0.0->gsm8k-bench==0.1.0) (3.1.3)\n",
            "Requirement already satisfied: nbclient>=0.5.0 in /usr/local/lib/python3.11/dist-packages (from nbconvert->jupyter>=1.0.0->gsm8k-bench==0.1.0) (0.10.2)\n",
            "Requirement already satisfied: nbformat>=5.7 in /usr/local/lib/python3.11/dist-packages (from nbconvert->jupyter>=1.0.0->gsm8k-bench==0.1.0) (5.10.4)\n",
            "Requirement already satisfied: pandocfilters>=1.4.1 in /usr/local/lib/python3.11/dist-packages (from nbconvert->jupyter>=1.0.0->gsm8k-bench==0.1.0) (1.5.1)\n",
            "Requirement already satisfied: argon2-cffi in /usr/local/lib/python3.11/dist-packages (from notebook->jupyter>=1.0.0->gsm8k-bench==0.1.0) (25.1.0)\n",
            "Requirement already satisfied: ipython-genutils in /usr/local/lib/python3.11/dist-packages (from notebook->jupyter>=1.0.0->gsm8k-bench==0.1.0) (0.2.0)\n",
            "Requirement already satisfied: Send2Trash>=1.8.0 in /usr/local/lib/python3.11/dist-packages (from notebook->jupyter>=1.0.0->gsm8k-bench==0.1.0) (1.8.3)\n",
            "Requirement already satisfied: terminado>=0.8.3 in /usr/local/lib/python3.11/dist-packages (from notebook->jupyter>=1.0.0->gsm8k-bench==0.1.0) (0.18.1)\n",
            "Requirement already satisfied: prometheus-client in /usr/local/lib/python3.11/dist-packages (from notebook->jupyter>=1.0.0->gsm8k-bench==0.1.0) (0.22.1)\n",
            "Requirement already satisfied: nbclassic>=0.4.7 in /usr/local/lib/python3.11/dist-packages (from notebook->jupyter>=1.0.0->gsm8k-bench==0.1.0) (1.3.1)\n",
            "Requirement already satisfied: aiohappyeyeballs>=2.5.0 in /usr/local/lib/python3.11/dist-packages (from aiohttp!=4.0.0a0,!=4.0.0a1->fsspec[http]<=2025.3.0,>=2023.1.0->datasets>=2.14.0->gsm8k-bench==0.1.0) (2.6.1)\n",
            "Requirement already satisfied: aiosignal>=1.4.0 in /usr/local/lib/python3.11/dist-packages (from aiohttp!=4.0.0a0,!=4.0.0a1->fsspec[http]<=2025.3.0,>=2023.1.0->datasets>=2.14.0->gsm8k-bench==0.1.0) (1.4.0)\n",
            "Requirement already satisfied: attrs>=17.3.0 in /usr/local/lib/python3.11/dist-packages (from aiohttp!=4.0.0a0,!=4.0.0a1->fsspec[http]<=2025.3.0,>=2023.1.0->datasets>=2.14.0->gsm8k-bench==0.1.0) (25.3.0)\n",
            "Requirement already satisfied: frozenlist>=1.1.1 in /usr/local/lib/python3.11/dist-packages (from aiohttp!=4.0.0a0,!=4.0.0a1->fsspec[http]<=2025.3.0,>=2023.1.0->datasets>=2.14.0->gsm8k-bench==0.1.0) (1.7.0)\n",
            "Requirement already satisfied: multidict<7.0,>=4.5 in /usr/local/lib/python3.11/dist-packages (from aiohttp!=4.0.0a0,!=4.0.0a1->fsspec[http]<=2025.3.0,>=2023.1.0->datasets>=2.14.0->gsm8k-bench==0.1.0) (6.6.4)\n",
            "Requirement already satisfied: propcache>=0.2.0 in /usr/local/lib/python3.11/dist-packages (from aiohttp!=4.0.0a0,!=4.0.0a1->fsspec[http]<=2025.3.0,>=2023.1.0->datasets>=2.14.0->gsm8k-bench==0.1.0) (0.3.2)\n",
            "Requirement already satisfied: yarl<2.0,>=1.17.0 in /usr/local/lib/python3.11/dist-packages (from aiohttp!=4.0.0a0,!=4.0.0a1->fsspec[http]<=2025.3.0,>=2023.1.0->datasets>=2.14.0->gsm8k-bench==0.1.0) (1.20.1)\n",
            "Requirement already satisfied: webencodings in /usr/local/lib/python3.11/dist-packages (from bleach!=5.0.0->bleach[css]!=5.0.0->nbconvert->jupyter>=1.0.0->gsm8k-bench==0.1.0) (0.5.1)\n",
            "Requirement already satisfied: tinycss2<1.5,>=1.1.0 in /usr/local/lib/python3.11/dist-packages (from bleach[css]!=5.0.0->nbconvert->jupyter>=1.0.0->gsm8k-bench==0.1.0) (1.4.0)\n",
            "Requirement already satisfied: parso<0.9.0,>=0.8.4 in /usr/local/lib/python3.11/dist-packages (from jedi>=0.16->ipython>=6.1.0->ipywidgets>=8.0.0->gsm8k-bench==0.1.0) (0.8.4)\n",
            "Requirement already satisfied: entrypoints in /usr/local/lib/python3.11/dist-packages (from jupyter-client>=6.1.12->ipykernel->jupyter>=1.0.0->gsm8k-bench==0.1.0) (0.4)\n",
            "Requirement already satisfied: jupyter-events>=0.11.0 in /usr/local/lib/python3.11/dist-packages (from jupyter-server<3,>=2.4.0->jupyterlab->jupyter>=1.0.0->gsm8k-bench==0.1.0) (0.12.0)\n",
            "Requirement already satisfied: jupyter-server-terminals>=0.4.4 in /usr/local/lib/python3.11/dist-packages (from jupyter-server<3,>=2.4.0->jupyterlab->jupyter>=1.0.0->gsm8k-bench==0.1.0) (0.5.3)\n",
            "Requirement already satisfied: overrides>=5.0 in /usr/local/lib/python3.11/dist-packages (from jupyter-server<3,>=2.4.0->jupyterlab->jupyter>=1.0.0->gsm8k-bench==0.1.0) (7.7.0)\n",
            "Requirement already satisfied: websocket-client>=1.7 in /usr/local/lib/python3.11/dist-packages (from jupyter-server<3,>=2.4.0->jupyterlab->jupyter>=1.0.0->gsm8k-bench==0.1.0) (1.8.0)\n",
            "Requirement already satisfied: argon2-cffi-bindings in /usr/local/lib/python3.11/dist-packages (from argon2-cffi->notebook->jupyter>=1.0.0->gsm8k-bench==0.1.0) (25.1.0)\n",
            "Requirement already satisfied: babel>=2.10 in /usr/local/lib/python3.11/dist-packages (from jupyterlab-server<3,>=2.27.1->jupyterlab->jupyter>=1.0.0->gsm8k-bench==0.1.0) (2.17.0)\n",
            "Requirement already satisfied: json5>=0.9.0 in /usr/local/lib/python3.11/dist-packages (from jupyterlab-server<3,>=2.27.1->jupyterlab->jupyter>=1.0.0->gsm8k-bench==0.1.0) (0.12.1)\n",
            "Requirement already satisfied: jsonschema>=4.18.0 in /usr/local/lib/python3.11/dist-packages (from jupyterlab-server<3,>=2.27.1->jupyterlab->jupyter>=1.0.0->gsm8k-bench==0.1.0) (4.25.0)\n",
            "Requirement already satisfied: importlib-metadata>=6.8.0 in /usr/local/lib/python3.11/dist-packages (from litellm>=1.64.0->dspy>=3.0.1->dspy-ai>=2.4.0->gsm8k-bench==0.1.0) (8.7.0)\n",
            "Requirement already satisfied: python-dotenv>=0.2.0 in /usr/local/lib/python3.11/dist-packages (from litellm>=1.64.0->dspy>=3.0.1->dspy-ai>=2.4.0->gsm8k-bench==0.1.0) (1.1.1)\n",
            "Requirement already satisfied: tiktoken>=0.7.0 in /usr/local/lib/python3.11/dist-packages (from litellm>=1.64.0->dspy>=3.0.1->dspy-ai>=2.4.0->gsm8k-bench==0.1.0) (0.11.0)\n",
            "Requirement already satisfied: fastjsonschema>=2.15 in /usr/local/lib/python3.11/dist-packages (from nbformat>=5.7->nbconvert->jupyter>=1.0.0->gsm8k-bench==0.1.0) (2.21.1)\n",
            "Requirement already satisfied: alembic>=1.5.0 in /usr/local/lib/python3.11/dist-packages (from optuna>=3.4.0->dspy>=3.0.1->dspy-ai>=2.4.0->gsm8k-bench==0.1.0) (1.16.4)\n",
            "Requirement already satisfied: colorlog in /usr/local/lib/python3.11/dist-packages (from optuna>=3.4.0->dspy>=3.0.1->dspy-ai>=2.4.0->gsm8k-bench==0.1.0) (6.9.0)\n",
            "Requirement already satisfied: sqlalchemy>=1.4.2 in /usr/local/lib/python3.11/dist-packages (from optuna>=3.4.0->dspy>=3.0.1->dspy-ai>=2.4.0->gsm8k-bench==0.1.0) (2.0.43)\n",
            "Requirement already satisfied: ptyprocess>=0.5 in /usr/local/lib/python3.11/dist-packages (from pexpect>4.3->ipython>=6.1.0->ipywidgets>=8.0.0->gsm8k-bench==0.1.0) (0.7.0)\n",
            "Requirement already satisfied: wcwidth in /usr/local/lib/python3.11/dist-packages (from prompt-toolkit!=3.0.0,!=3.0.1,<3.1.0,>=2.0.0->ipython>=6.1.0->ipywidgets>=8.0.0->gsm8k-bench==0.1.0) (0.2.13)\n",
            "Requirement already satisfied: markdown-it-py>=2.2.0 in /usr/local/lib/python3.11/dist-packages (from rich>=13.7.1->dspy>=3.0.1->dspy-ai>=2.4.0->gsm8k-bench==0.1.0) (4.0.0)\n",
            "Requirement already satisfied: soupsieve>1.2 in /usr/local/lib/python3.11/dist-packages (from beautifulsoup4->nbconvert->jupyter>=1.0.0->gsm8k-bench==0.1.0) (2.7)\n",
            "Requirement already satisfied: Mako in /usr/lib/python3/dist-packages (from alembic>=1.5.0->optuna>=3.4.0->dspy>=3.0.1->dspy-ai>=2.4.0->gsm8k-bench==0.1.0) (1.1.3)\n",
            "Requirement already satisfied: zipp>=3.20 in /usr/local/lib/python3.11/dist-packages (from importlib-metadata>=6.8.0->litellm>=1.64.0->dspy>=3.0.1->dspy-ai>=2.4.0->gsm8k-bench==0.1.0) (3.23.0)\n",
            "Requirement already satisfied: jsonschema-specifications>=2023.03.6 in /usr/local/lib/python3.11/dist-packages (from jsonschema>=4.18.0->jupyterlab-server<3,>=2.27.1->jupyterlab->jupyter>=1.0.0->gsm8k-bench==0.1.0) (2025.4.1)\n",
            "Requirement already satisfied: referencing>=0.28.4 in /usr/local/lib/python3.11/dist-packages (from jsonschema>=4.18.0->jupyterlab-server<3,>=2.27.1->jupyterlab->jupyter>=1.0.0->gsm8k-bench==0.1.0) (0.36.2)\n",
            "Requirement already satisfied: rpds-py>=0.7.1 in /usr/local/lib/python3.11/dist-packages (from jsonschema>=4.18.0->jupyterlab-server<3,>=2.27.1->jupyterlab->jupyter>=1.0.0->gsm8k-bench==0.1.0) (0.27.0)\n",
            "Requirement already satisfied: python-json-logger>=2.0.4 in /usr/local/lib/python3.11/dist-packages (from jupyter-events>=0.11.0->jupyter-server<3,>=2.4.0->jupyterlab->jupyter>=1.0.0->gsm8k-bench==0.1.0) (3.3.0)\n",
            "Requirement already satisfied: rfc3339-validator in /usr/local/lib/python3.11/dist-packages (from jupyter-events>=0.11.0->jupyter-server<3,>=2.4.0->jupyterlab->jupyter>=1.0.0->gsm8k-bench==0.1.0) (0.1.4)\n",
            "Requirement already satisfied: rfc3986-validator>=0.1.1 in /usr/local/lib/python3.11/dist-packages (from jupyter-events>=0.11.0->jupyter-server<3,>=2.4.0->jupyterlab->jupyter>=1.0.0->gsm8k-bench==0.1.0) (0.1.1)\n",
            "Requirement already satisfied: mdurl~=0.1 in /usr/local/lib/python3.11/dist-packages (from markdown-it-py>=2.2.0->rich>=13.7.1->dspy>=3.0.1->dspy-ai>=2.4.0->gsm8k-bench==0.1.0) (0.1.2)\n",
            "Requirement already satisfied: greenlet>=1 in /usr/local/lib/python3.11/dist-packages (from sqlalchemy>=1.4.2->optuna>=3.4.0->dspy>=3.0.1->dspy-ai>=2.4.0->gsm8k-bench==0.1.0) (3.2.4)\n",
            "Requirement already satisfied: cffi>=1.0.1 in /usr/local/lib/python3.11/dist-packages (from argon2-cffi-bindings->argon2-cffi->notebook->jupyter>=1.0.0->gsm8k-bench==0.1.0) (1.17.1)\n",
            "Requirement already satisfied: pycparser in /usr/local/lib/python3.11/dist-packages (from cffi>=1.0.1->argon2-cffi-bindings->argon2-cffi->notebook->jupyter>=1.0.0->gsm8k-bench==0.1.0) (2.22)\n",
            "Requirement already satisfied: fqdn in /usr/local/lib/python3.11/dist-packages (from jsonschema[format-nongpl]>=4.18.0->jupyter-events>=0.11.0->jupyter-server<3,>=2.4.0->jupyterlab->jupyter>=1.0.0->gsm8k-bench==0.1.0) (1.5.1)\n",
            "Requirement already satisfied: isoduration in /usr/local/lib/python3.11/dist-packages (from jsonschema[format-nongpl]>=4.18.0->jupyter-events>=0.11.0->jupyter-server<3,>=2.4.0->jupyterlab->jupyter>=1.0.0->gsm8k-bench==0.1.0) (20.11.0)\n",
            "Requirement already satisfied: jsonpointer>1.13 in /usr/local/lib/python3.11/dist-packages (from jsonschema[format-nongpl]>=4.18.0->jupyter-events>=0.11.0->jupyter-server<3,>=2.4.0->jupyterlab->jupyter>=1.0.0->gsm8k-bench==0.1.0) (3.0.0)\n",
            "Requirement already satisfied: rfc3987-syntax>=1.1.0 in /usr/local/lib/python3.11/dist-packages (from jsonschema[format-nongpl]>=4.18.0->jupyter-events>=0.11.0->jupyter-server<3,>=2.4.0->jupyterlab->jupyter>=1.0.0->gsm8k-bench==0.1.0) (1.1.0)\n",
            "Requirement already satisfied: uri-template in /usr/local/lib/python3.11/dist-packages (from jsonschema[format-nongpl]>=4.18.0->jupyter-events>=0.11.0->jupyter-server<3,>=2.4.0->jupyterlab->jupyter>=1.0.0->gsm8k-bench==0.1.0) (1.3.0)\n",
            "Requirement already satisfied: webcolors>=24.6.0 in /usr/local/lib/python3.11/dist-packages (from jsonschema[format-nongpl]>=4.18.0->jupyter-events>=0.11.0->jupyter-server<3,>=2.4.0->jupyterlab->jupyter>=1.0.0->gsm8k-bench==0.1.0) (24.11.1)\n",
            "Requirement already satisfied: lark>=1.2.2 in /usr/local/lib/python3.11/dist-packages (from rfc3987-syntax>=1.1.0->jsonschema[format-nongpl]>=4.18.0->jupyter-events>=0.11.0->jupyter-server<3,>=2.4.0->jupyterlab->jupyter>=1.0.0->gsm8k-bench==0.1.0) (1.2.2)\n",
            "Requirement already satisfied: arrow>=0.15.0 in /usr/local/lib/python3.11/dist-packages (from isoduration->jsonschema[format-nongpl]>=4.18.0->jupyter-events>=0.11.0->jupyter-server<3,>=2.4.0->jupyterlab->jupyter>=1.0.0->gsm8k-bench==0.1.0) (1.3.0)\n",
            "Requirement already satisfied: types-python-dateutil>=2.8.10 in /usr/local/lib/python3.11/dist-packages (from arrow>=0.15.0->isoduration->jsonschema[format-nongpl]>=4.18.0->jupyter-events>=0.11.0->jupyter-server<3,>=2.4.0->jupyterlab->jupyter>=1.0.0->gsm8k-bench==0.1.0) (2.9.0.20250809)\n",
            "Installing collected packages: gsm8k-bench\n",
            "  Attempting uninstall: gsm8k-bench\n",
            "    Found existing installation: gsm8k-bench 0.1.0\n",
            "    Uninstalling gsm8k-bench-0.1.0:\n",
            "      Successfully uninstalled gsm8k-bench-0.1.0\n",
            "  Running setup.py develop for gsm8k-bench\n",
            "Successfully installed gsm8k-bench-0.1.0\n",
            "Repository cloned and installed!\n",
            "Current directory: /content/prompt-eng-gsm8k-gpt3.5-dspy\n"
          ]
        }
      ]
    },
    {
      "cell_type": "code",
      "execution_count": 2,
      "metadata": {
        "collapsed": true,
        "colab": {
          "base_uri": "https://localhost:8080/"
        },
        "id": "4a11nzTKOVBn",
        "outputId": "67ddfe93-412c-4d79-b878-9c3e006488bd"
      },
      "outputs": [
        {
          "output_type": "stream",
          "name": "stdout",
          "text": [
            "Cloning into 'prompt-eng-gsm8k-gpt3.5-dspy'...\n",
            "remote: Enumerating objects: 225, done.\u001b[K\n",
            "remote: Counting objects: 100% (225/225), done.\u001b[K\n",
            "remote: Compressing objects: 100% (187/187), done.\u001b[K\n",
            "remote: Total 225 (delta 91), reused 0 (delta 0), pack-reused 0 (from 0)\u001b[K\n",
            "Receiving objects: 100% (225/225), 137.20 KiB | 5.08 MiB/s, done.\n",
            "Resolving deltas: 100% (91/91), done.\n",
            "Obtaining file:///content/prompt-eng-gsm8k-gpt3.5-dspy\n",
            "  Preparing metadata (setup.py) ... \u001b[?25l\u001b[?25hdone\n",
            "Requirement already satisfied: dspy-ai>=2.4.0 in /usr/local/lib/python3.11/dist-packages (from gsm8k-bench==0.1.0) (3.0.1)\n",
            "Requirement already satisfied: openai>=1.0.0 in /usr/local/lib/python3.11/dist-packages (from gsm8k-bench==0.1.0) (1.99.9)\n",
            "Requirement already satisfied: datasets>=2.14.0 in /usr/local/lib/python3.11/dist-packages (from gsm8k-bench==0.1.0) (4.0.0)\n",
            "Requirement already satisfied: pandas>=2.0.0 in /usr/local/lib/python3.11/dist-packages (from gsm8k-bench==0.1.0) (2.2.2)\n",
            "Requirement already satisfied: numpy>=1.24.0 in /usr/local/lib/python3.11/dist-packages (from gsm8k-bench==0.1.0) (2.0.2)\n",
            "Requirement already satisfied: matplotlib>=3.7.0 in /usr/local/lib/python3.11/dist-packages (from gsm8k-bench==0.1.0) (3.10.0)\n",
            "Requirement already satisfied: seaborn>=0.12.0 in /usr/local/lib/python3.11/dist-packages (from gsm8k-bench==0.1.0) (0.13.2)\n",
            "Requirement already satisfied: transformers>=4.30.0 in /usr/local/lib/python3.11/dist-packages (from gsm8k-bench==0.1.0) (4.55.2)\n",
            "Requirement already satisfied: torch>=2.0.0 in /usr/local/lib/python3.11/dist-packages (from gsm8k-bench==0.1.0) (2.6.0+cu124)\n",
            "Requirement already satisfied: accelerate>=0.20.0 in /usr/local/lib/python3.11/dist-packages (from gsm8k-bench==0.1.0) (1.10.0)\n",
            "Requirement already satisfied: peft>=0.4.0 in /usr/local/lib/python3.11/dist-packages (from gsm8k-bench==0.1.0) (0.17.0)\n",
            "Collecting bitsandbytes>=0.39.0 (from gsm8k-bench==0.1.0)\n",
            "  Downloading bitsandbytes-0.47.0-py3-none-manylinux_2_24_x86_64.whl.metadata (11 kB)\n",
            "Requirement already satisfied: scipy>=1.10.0 in /usr/local/lib/python3.11/dist-packages (from gsm8k-bench==0.1.0) (1.16.1)\n",
            "Requirement already satisfied: scikit-learn>=1.3.0 in /usr/local/lib/python3.11/dist-packages (from gsm8k-bench==0.1.0) (1.6.1)\n",
            "Requirement already satisfied: pytest>=7.0.0 in /usr/local/lib/python3.11/dist-packages (from gsm8k-bench==0.1.0) (8.4.1)\n",
            "Collecting black>=23.0.0 (from gsm8k-bench==0.1.0)\n",
            "  Downloading black-25.1.0-cp311-cp311-manylinux_2_17_x86_64.manylinux2014_x86_64.manylinux_2_28_x86_64.whl.metadata (81 kB)\n",
            "\u001b[2K     \u001b[90m━━━━━━━━━━━━━━━━━━━━━━━━━━━━━━━━━━━━━━━━\u001b[0m \u001b[32m81.3/81.3 kB\u001b[0m \u001b[31m7.1 MB/s\u001b[0m eta \u001b[36m0:00:00\u001b[0m\n",
            "\u001b[?25hCollecting flake8>=6.0.0 (from gsm8k-bench==0.1.0)\n",
            "  Downloading flake8-7.3.0-py2.py3-none-any.whl.metadata (3.8 kB)\n",
            "Requirement already satisfied: click>=8.0.0 in /usr/local/lib/python3.11/dist-packages (from gsm8k-bench==0.1.0) (8.2.1)\n",
            "Collecting jupyter>=1.0.0 (from gsm8k-bench==0.1.0)\n",
            "  Downloading jupyter-1.1.1-py2.py3-none-any.whl.metadata (2.0 kB)\n",
            "Collecting ipywidgets>=8.0.0 (from gsm8k-bench==0.1.0)\n",
            "  Downloading ipywidgets-8.1.7-py3-none-any.whl.metadata (2.4 kB)\n",
            "Requirement already satisfied: packaging>=20.0 in /usr/local/lib/python3.11/dist-packages (from accelerate>=0.20.0->gsm8k-bench==0.1.0) (25.0)\n",
            "Requirement already satisfied: psutil in /usr/local/lib/python3.11/dist-packages (from accelerate>=0.20.0->gsm8k-bench==0.1.0) (5.9.5)\n",
            "Requirement already satisfied: pyyaml in /usr/local/lib/python3.11/dist-packages (from accelerate>=0.20.0->gsm8k-bench==0.1.0) (6.0.2)\n",
            "Requirement already satisfied: huggingface_hub>=0.21.0 in /usr/local/lib/python3.11/dist-packages (from accelerate>=0.20.0->gsm8k-bench==0.1.0) (0.34.4)\n",
            "Requirement already satisfied: safetensors>=0.4.3 in /usr/local/lib/python3.11/dist-packages (from accelerate>=0.20.0->gsm8k-bench==0.1.0) (0.6.2)\n",
            "Collecting mypy-extensions>=0.4.3 (from black>=23.0.0->gsm8k-bench==0.1.0)\n",
            "  Downloading mypy_extensions-1.1.0-py3-none-any.whl.metadata (1.1 kB)\n",
            "Collecting pathspec>=0.9.0 (from black>=23.0.0->gsm8k-bench==0.1.0)\n",
            "  Downloading pathspec-0.12.1-py3-none-any.whl.metadata (21 kB)\n",
            "Requirement already satisfied: platformdirs>=2 in /usr/local/lib/python3.11/dist-packages (from black>=23.0.0->gsm8k-bench==0.1.0) (4.3.8)\n",
            "Requirement already satisfied: filelock in /usr/local/lib/python3.11/dist-packages (from datasets>=2.14.0->gsm8k-bench==0.1.0) (3.18.0)\n",
            "Requirement already satisfied: pyarrow>=15.0.0 in /usr/local/lib/python3.11/dist-packages (from datasets>=2.14.0->gsm8k-bench==0.1.0) (18.1.0)\n",
            "Requirement already satisfied: dill<0.3.9,>=0.3.0 in /usr/local/lib/python3.11/dist-packages (from datasets>=2.14.0->gsm8k-bench==0.1.0) (0.3.8)\n",
            "Requirement already satisfied: requests>=2.32.2 in /usr/local/lib/python3.11/dist-packages (from datasets>=2.14.0->gsm8k-bench==0.1.0) (2.32.3)\n",
            "Requirement already satisfied: tqdm>=4.66.3 in /usr/local/lib/python3.11/dist-packages (from datasets>=2.14.0->gsm8k-bench==0.1.0) (4.67.1)\n",
            "Requirement already satisfied: xxhash in /usr/local/lib/python3.11/dist-packages (from datasets>=2.14.0->gsm8k-bench==0.1.0) (3.5.0)\n",
            "Requirement already satisfied: multiprocess<0.70.17 in /usr/local/lib/python3.11/dist-packages (from datasets>=2.14.0->gsm8k-bench==0.1.0) (0.70.16)\n",
            "Requirement already satisfied: fsspec<=2025.3.0,>=2023.1.0 in /usr/local/lib/python3.11/dist-packages (from fsspec[http]<=2025.3.0,>=2023.1.0->datasets>=2.14.0->gsm8k-bench==0.1.0) (2025.3.0)\n",
            "Requirement already satisfied: dspy>=3.0.1 in /usr/local/lib/python3.11/dist-packages (from dspy-ai>=2.4.0->gsm8k-bench==0.1.0) (3.0.1)\n",
            "Collecting mccabe<0.8.0,>=0.7.0 (from flake8>=6.0.0->gsm8k-bench==0.1.0)\n",
            "  Downloading mccabe-0.7.0-py2.py3-none-any.whl.metadata (5.0 kB)\n",
            "Collecting pycodestyle<2.15.0,>=2.14.0 (from flake8>=6.0.0->gsm8k-bench==0.1.0)\n",
            "  Downloading pycodestyle-2.14.0-py2.py3-none-any.whl.metadata (4.5 kB)\n",
            "Collecting pyflakes<3.5.0,>=3.4.0 (from flake8>=6.0.0->gsm8k-bench==0.1.0)\n",
            "  Downloading pyflakes-3.4.0-py2.py3-none-any.whl.metadata (3.5 kB)\n",
            "Collecting comm>=0.1.3 (from ipywidgets>=8.0.0->gsm8k-bench==0.1.0)\n",
            "  Downloading comm-0.2.3-py3-none-any.whl.metadata (3.7 kB)\n",
            "Requirement already satisfied: ipython>=6.1.0 in /usr/local/lib/python3.11/dist-packages (from ipywidgets>=8.0.0->gsm8k-bench==0.1.0) (7.34.0)\n",
            "Requirement already satisfied: traitlets>=4.3.1 in /usr/local/lib/python3.11/dist-packages (from ipywidgets>=8.0.0->gsm8k-bench==0.1.0) (5.7.1)\n",
            "Collecting widgetsnbextension~=4.0.14 (from ipywidgets>=8.0.0->gsm8k-bench==0.1.0)\n",
            "  Downloading widgetsnbextension-4.0.14-py3-none-any.whl.metadata (1.6 kB)\n",
            "Requirement already satisfied: jupyterlab_widgets~=3.0.15 in /usr/local/lib/python3.11/dist-packages (from ipywidgets>=8.0.0->gsm8k-bench==0.1.0) (3.0.15)\n",
            "Requirement already satisfied: notebook in /usr/local/lib/python3.11/dist-packages (from jupyter>=1.0.0->gsm8k-bench==0.1.0) (6.5.7)\n",
            "Requirement already satisfied: jupyter-console in /usr/local/lib/python3.11/dist-packages (from jupyter>=1.0.0->gsm8k-bench==0.1.0) (6.1.0)\n",
            "Requirement already satisfied: nbconvert in /usr/local/lib/python3.11/dist-packages (from jupyter>=1.0.0->gsm8k-bench==0.1.0) (7.16.6)\n",
            "Requirement already satisfied: ipykernel in /usr/local/lib/python3.11/dist-packages (from jupyter>=1.0.0->gsm8k-bench==0.1.0) (6.17.1)\n",
            "Collecting jupyterlab (from jupyter>=1.0.0->gsm8k-bench==0.1.0)\n",
            "  Downloading jupyterlab-4.4.6-py3-none-any.whl.metadata (16 kB)\n",
            "Requirement already satisfied: contourpy>=1.0.1 in /usr/local/lib/python3.11/dist-packages (from matplotlib>=3.7.0->gsm8k-bench==0.1.0) (1.3.3)\n",
            "Requirement already satisfied: cycler>=0.10 in /usr/local/lib/python3.11/dist-packages (from matplotlib>=3.7.0->gsm8k-bench==0.1.0) (0.12.1)\n",
            "Requirement already satisfied: fonttools>=4.22.0 in /usr/local/lib/python3.11/dist-packages (from matplotlib>=3.7.0->gsm8k-bench==0.1.0) (4.59.0)\n",
            "Requirement already satisfied: kiwisolver>=1.3.1 in /usr/local/lib/python3.11/dist-packages (from matplotlib>=3.7.0->gsm8k-bench==0.1.0) (1.4.9)\n",
            "Requirement already satisfied: pillow>=8 in /usr/local/lib/python3.11/dist-packages (from matplotlib>=3.7.0->gsm8k-bench==0.1.0) (11.3.0)\n",
            "Requirement already satisfied: pyparsing>=2.3.1 in /usr/local/lib/python3.11/dist-packages (from matplotlib>=3.7.0->gsm8k-bench==0.1.0) (3.2.3)\n",
            "Requirement already satisfied: python-dateutil>=2.7 in /usr/local/lib/python3.11/dist-packages (from matplotlib>=3.7.0->gsm8k-bench==0.1.0) (2.9.0.post0)\n",
            "Requirement already satisfied: anyio<5,>=3.5.0 in /usr/local/lib/python3.11/dist-packages (from openai>=1.0.0->gsm8k-bench==0.1.0) (4.10.0)\n",
            "Requirement already satisfied: distro<2,>=1.7.0 in /usr/local/lib/python3.11/dist-packages (from openai>=1.0.0->gsm8k-bench==0.1.0) (1.9.0)\n",
            "Requirement already satisfied: httpx<1,>=0.23.0 in /usr/local/lib/python3.11/dist-packages (from openai>=1.0.0->gsm8k-bench==0.1.0) (0.28.1)\n",
            "Requirement already satisfied: jiter<1,>=0.4.0 in /usr/local/lib/python3.11/dist-packages (from openai>=1.0.0->gsm8k-bench==0.1.0) (0.10.0)\n",
            "Requirement already satisfied: pydantic<3,>=1.9.0 in /usr/local/lib/python3.11/dist-packages (from openai>=1.0.0->gsm8k-bench==0.1.0) (2.11.7)\n",
            "Requirement already satisfied: sniffio in /usr/local/lib/python3.11/dist-packages (from openai>=1.0.0->gsm8k-bench==0.1.0) (1.3.1)\n",
            "Requirement already satisfied: typing-extensions<5,>=4.11 in /usr/local/lib/python3.11/dist-packages (from openai>=1.0.0->gsm8k-bench==0.1.0) (4.14.1)\n",
            "Requirement already satisfied: pytz>=2020.1 in /usr/local/lib/python3.11/dist-packages (from pandas>=2.0.0->gsm8k-bench==0.1.0) (2025.2)\n",
            "Requirement already satisfied: tzdata>=2022.7 in /usr/local/lib/python3.11/dist-packages (from pandas>=2.0.0->gsm8k-bench==0.1.0) (2025.2)\n",
            "Requirement already satisfied: iniconfig>=1 in /usr/local/lib/python3.11/dist-packages (from pytest>=7.0.0->gsm8k-bench==0.1.0) (2.1.0)\n",
            "Requirement already satisfied: pluggy<2,>=1.5 in /usr/local/lib/python3.11/dist-packages (from pytest>=7.0.0->gsm8k-bench==0.1.0) (1.6.0)\n",
            "Requirement already satisfied: pygments>=2.7.2 in /usr/local/lib/python3.11/dist-packages (from pytest>=7.0.0->gsm8k-bench==0.1.0) (2.19.2)\n",
            "Requirement already satisfied: joblib>=1.2.0 in /usr/local/lib/python3.11/dist-packages (from scikit-learn>=1.3.0->gsm8k-bench==0.1.0) (1.5.1)\n",
            "Requirement already satisfied: threadpoolctl>=3.1.0 in /usr/local/lib/python3.11/dist-packages (from scikit-learn>=1.3.0->gsm8k-bench==0.1.0) (3.6.0)\n",
            "Requirement already satisfied: networkx in /usr/local/lib/python3.11/dist-packages (from torch>=2.0.0->gsm8k-bench==0.1.0) (3.5)\n",
            "Requirement already satisfied: jinja2 in /usr/local/lib/python3.11/dist-packages (from torch>=2.0.0->gsm8k-bench==0.1.0) (3.1.6)\n",
            "Requirement already satisfied: nvidia-cuda-nvrtc-cu12==12.4.127 in /usr/local/lib/python3.11/dist-packages (from torch>=2.0.0->gsm8k-bench==0.1.0) (12.4.127)\n",
            "Requirement already satisfied: nvidia-cuda-runtime-cu12==12.4.127 in /usr/local/lib/python3.11/dist-packages (from torch>=2.0.0->gsm8k-bench==0.1.0) (12.4.127)\n",
            "Requirement already satisfied: nvidia-cuda-cupti-cu12==12.4.127 in /usr/local/lib/python3.11/dist-packages (from torch>=2.0.0->gsm8k-bench==0.1.0) (12.4.127)\n",
            "Requirement already satisfied: nvidia-cudnn-cu12==9.1.0.70 in /usr/local/lib/python3.11/dist-packages (from torch>=2.0.0->gsm8k-bench==0.1.0) (9.1.0.70)\n",
            "Requirement already satisfied: nvidia-cublas-cu12==12.4.5.8 in /usr/local/lib/python3.11/dist-packages (from torch>=2.0.0->gsm8k-bench==0.1.0) (12.4.5.8)\n",
            "Requirement already satisfied: nvidia-cufft-cu12==11.2.1.3 in /usr/local/lib/python3.11/dist-packages (from torch>=2.0.0->gsm8k-bench==0.1.0) (11.2.1.3)\n",
            "Requirement already satisfied: nvidia-curand-cu12==10.3.5.147 in /usr/local/lib/python3.11/dist-packages (from torch>=2.0.0->gsm8k-bench==0.1.0) (10.3.5.147)\n",
            "Requirement already satisfied: nvidia-cusolver-cu12==11.6.1.9 in /usr/local/lib/python3.11/dist-packages (from torch>=2.0.0->gsm8k-bench==0.1.0) (11.6.1.9)\n",
            "Requirement already satisfied: nvidia-cusparse-cu12==12.3.1.170 in /usr/local/lib/python3.11/dist-packages (from torch>=2.0.0->gsm8k-bench==0.1.0) (12.3.1.170)\n",
            "Requirement already satisfied: nvidia-cusparselt-cu12==0.6.2 in /usr/local/lib/python3.11/dist-packages (from torch>=2.0.0->gsm8k-bench==0.1.0) (0.6.2)\n",
            "Requirement already satisfied: nvidia-nccl-cu12==2.21.5 in /usr/local/lib/python3.11/dist-packages (from torch>=2.0.0->gsm8k-bench==0.1.0) (2.21.5)\n",
            "Requirement already satisfied: nvidia-nvtx-cu12==12.4.127 in /usr/local/lib/python3.11/dist-packages (from torch>=2.0.0->gsm8k-bench==0.1.0) (12.4.127)\n",
            "Requirement already satisfied: nvidia-nvjitlink-cu12==12.4.127 in /usr/local/lib/python3.11/dist-packages (from torch>=2.0.0->gsm8k-bench==0.1.0) (12.4.127)\n",
            "Requirement already satisfied: triton==3.2.0 in /usr/local/lib/python3.11/dist-packages (from torch>=2.0.0->gsm8k-bench==0.1.0) (3.2.0)\n",
            "Requirement already satisfied: sympy==1.13.1 in /usr/local/lib/python3.11/dist-packages (from torch>=2.0.0->gsm8k-bench==0.1.0) (1.13.1)\n",
            "Requirement already satisfied: mpmath<1.4,>=1.1.0 in /usr/local/lib/python3.11/dist-packages (from sympy==1.13.1->torch>=2.0.0->gsm8k-bench==0.1.0) (1.3.0)\n",
            "Requirement already satisfied: regex!=2019.12.17 in /usr/local/lib/python3.11/dist-packages (from transformers>=4.30.0->gsm8k-bench==0.1.0) (2024.11.6)\n",
            "Requirement already satisfied: tokenizers<0.22,>=0.21 in /usr/local/lib/python3.11/dist-packages (from transformers>=4.30.0->gsm8k-bench==0.1.0) (0.21.4)\n",
            "Requirement already satisfied: idna>=2.8 in /usr/local/lib/python3.11/dist-packages (from anyio<5,>=3.5.0->openai>=1.0.0->gsm8k-bench==0.1.0) (3.10)\n",
            "Requirement already satisfied: backoff>=2.2 in /usr/local/lib/python3.11/dist-packages (from dspy>=3.0.1->dspy-ai>=2.4.0->gsm8k-bench==0.1.0) (2.2.1)\n",
            "Requirement already satisfied: ujson>=5.8.0 in /usr/local/lib/python3.11/dist-packages (from dspy>=3.0.1->dspy-ai>=2.4.0->gsm8k-bench==0.1.0) (5.10.0)\n",
            "Requirement already satisfied: optuna>=3.4.0 in /usr/local/lib/python3.11/dist-packages (from dspy>=3.0.1->dspy-ai>=2.4.0->gsm8k-bench==0.1.0) (4.5.0)\n",
            "Requirement already satisfied: magicattr>=0.1.6 in /usr/local/lib/python3.11/dist-packages (from dspy>=3.0.1->dspy-ai>=2.4.0->gsm8k-bench==0.1.0) (0.1.6)\n",
            "Requirement already satisfied: litellm>=1.64.0 in /usr/local/lib/python3.11/dist-packages (from dspy>=3.0.1->dspy-ai>=2.4.0->gsm8k-bench==0.1.0) (1.75.8)\n",
            "Requirement already satisfied: diskcache>=5.6.0 in /usr/local/lib/python3.11/dist-packages (from dspy>=3.0.1->dspy-ai>=2.4.0->gsm8k-bench==0.1.0) (5.6.3)\n",
            "Requirement already satisfied: json-repair>=0.30.0 in /usr/local/lib/python3.11/dist-packages (from dspy>=3.0.1->dspy-ai>=2.4.0->gsm8k-bench==0.1.0) (0.49.0)\n",
            "Requirement already satisfied: tenacity>=8.2.3 in /usr/local/lib/python3.11/dist-packages (from dspy>=3.0.1->dspy-ai>=2.4.0->gsm8k-bench==0.1.0) (9.1.2)\n",
            "Requirement already satisfied: asyncer==0.0.8 in /usr/local/lib/python3.11/dist-packages (from dspy>=3.0.1->dspy-ai>=2.4.0->gsm8k-bench==0.1.0) (0.0.8)\n",
            "Requirement already satisfied: cachetools>=5.5.0 in /usr/local/lib/python3.11/dist-packages (from dspy>=3.0.1->dspy-ai>=2.4.0->gsm8k-bench==0.1.0) (5.5.2)\n",
            "Requirement already satisfied: cloudpickle>=3.0.0 in /usr/local/lib/python3.11/dist-packages (from dspy>=3.0.1->dspy-ai>=2.4.0->gsm8k-bench==0.1.0) (3.1.1)\n",
            "Requirement already satisfied: rich>=13.7.1 in /usr/local/lib/python3.11/dist-packages (from dspy>=3.0.1->dspy-ai>=2.4.0->gsm8k-bench==0.1.0) (13.9.4)\n",
            "Requirement already satisfied: gepa==0.0.4 in /usr/local/lib/python3.11/dist-packages (from gepa[dspy]==0.0.4->dspy>=3.0.1->dspy-ai>=2.4.0->gsm8k-bench==0.1.0) (0.0.4)\n",
            "Requirement already satisfied: aiohttp!=4.0.0a0,!=4.0.0a1 in /usr/local/lib/python3.11/dist-packages (from fsspec[http]<=2025.3.0,>=2023.1.0->datasets>=2.14.0->gsm8k-bench==0.1.0) (3.12.15)\n",
            "Requirement already satisfied: certifi in /usr/local/lib/python3.11/dist-packages (from httpx<1,>=0.23.0->openai>=1.0.0->gsm8k-bench==0.1.0) (2025.8.3)\n",
            "Requirement already satisfied: httpcore==1.* in /usr/local/lib/python3.11/dist-packages (from httpx<1,>=0.23.0->openai>=1.0.0->gsm8k-bench==0.1.0) (1.0.9)\n",
            "Requirement already satisfied: h11>=0.16 in /usr/local/lib/python3.11/dist-packages (from httpcore==1.*->httpx<1,>=0.23.0->openai>=1.0.0->gsm8k-bench==0.1.0) (0.16.0)\n",
            "Requirement already satisfied: hf-xet<2.0.0,>=1.1.3 in /usr/local/lib/python3.11/dist-packages (from huggingface_hub>=0.21.0->accelerate>=0.20.0->gsm8k-bench==0.1.0) (1.1.7)\n",
            "Requirement already satisfied: setuptools>=18.5 in /usr/local/lib/python3.11/dist-packages (from ipython>=6.1.0->ipywidgets>=8.0.0->gsm8k-bench==0.1.0) (75.2.0)\n",
            "Collecting jedi>=0.16 (from ipython>=6.1.0->ipywidgets>=8.0.0->gsm8k-bench==0.1.0)\n",
            "  Downloading jedi-0.19.2-py2.py3-none-any.whl.metadata (22 kB)\n",
            "Requirement already satisfied: decorator in /usr/local/lib/python3.11/dist-packages (from ipython>=6.1.0->ipywidgets>=8.0.0->gsm8k-bench==0.1.0) (4.4.2)\n",
            "Requirement already satisfied: pickleshare in /usr/local/lib/python3.11/dist-packages (from ipython>=6.1.0->ipywidgets>=8.0.0->gsm8k-bench==0.1.0) (0.7.5)\n",
            "Requirement already satisfied: prompt-toolkit!=3.0.0,!=3.0.1,<3.1.0,>=2.0.0 in /usr/local/lib/python3.11/dist-packages (from ipython>=6.1.0->ipywidgets>=8.0.0->gsm8k-bench==0.1.0) (3.0.51)\n",
            "Requirement already satisfied: backcall in /usr/local/lib/python3.11/dist-packages (from ipython>=6.1.0->ipywidgets>=8.0.0->gsm8k-bench==0.1.0) (0.2.0)\n",
            "Requirement already satisfied: matplotlib-inline in /usr/local/lib/python3.11/dist-packages (from ipython>=6.1.0->ipywidgets>=8.0.0->gsm8k-bench==0.1.0) (0.1.7)\n",
            "Requirement already satisfied: pexpect>4.3 in /usr/local/lib/python3.11/dist-packages (from ipython>=6.1.0->ipywidgets>=8.0.0->gsm8k-bench==0.1.0) (4.9.0)\n",
            "Requirement already satisfied: annotated-types>=0.6.0 in /usr/local/lib/python3.11/dist-packages (from pydantic<3,>=1.9.0->openai>=1.0.0->gsm8k-bench==0.1.0) (0.7.0)\n",
            "Requirement already satisfied: pydantic-core==2.33.2 in /usr/local/lib/python3.11/dist-packages (from pydantic<3,>=1.9.0->openai>=1.0.0->gsm8k-bench==0.1.0) (2.33.2)\n",
            "Requirement already satisfied: typing-inspection>=0.4.0 in /usr/local/lib/python3.11/dist-packages (from pydantic<3,>=1.9.0->openai>=1.0.0->gsm8k-bench==0.1.0) (0.4.1)\n",
            "Requirement already satisfied: six>=1.5 in /usr/local/lib/python3.11/dist-packages (from python-dateutil>=2.7->matplotlib>=3.7.0->gsm8k-bench==0.1.0) (1.17.0)\n",
            "Requirement already satisfied: charset-normalizer<4,>=2 in /usr/local/lib/python3.11/dist-packages (from requests>=2.32.2->datasets>=2.14.0->gsm8k-bench==0.1.0) (3.4.3)\n",
            "Requirement already satisfied: urllib3<3,>=1.21.1 in /usr/local/lib/python3.11/dist-packages (from requests>=2.32.2->datasets>=2.14.0->gsm8k-bench==0.1.0) (2.5.0)\n",
            "Requirement already satisfied: debugpy>=1.0 in /usr/local/lib/python3.11/dist-packages (from ipykernel->jupyter>=1.0.0->gsm8k-bench==0.1.0) (1.8.15)\n",
            "Requirement already satisfied: jupyter-client>=6.1.12 in /usr/local/lib/python3.11/dist-packages (from ipykernel->jupyter>=1.0.0->gsm8k-bench==0.1.0) (6.1.12)\n",
            "Requirement already satisfied: nest-asyncio in /usr/local/lib/python3.11/dist-packages (from ipykernel->jupyter>=1.0.0->gsm8k-bench==0.1.0) (1.6.0)\n",
            "Requirement already satisfied: pyzmq>=17 in /usr/local/lib/python3.11/dist-packages (from ipykernel->jupyter>=1.0.0->gsm8k-bench==0.1.0) (26.2.1)\n",
            "Requirement already satisfied: tornado>=6.1 in /usr/local/lib/python3.11/dist-packages (from ipykernel->jupyter>=1.0.0->gsm8k-bench==0.1.0) (6.4.2)\n",
            "Requirement already satisfied: MarkupSafe>=2.0 in /usr/local/lib/python3.11/dist-packages (from jinja2->torch>=2.0.0->gsm8k-bench==0.1.0) (3.0.2)\n",
            "Collecting async-lru>=1.0.0 (from jupyterlab->jupyter>=1.0.0->gsm8k-bench==0.1.0)\n",
            "  Downloading async_lru-2.0.5-py3-none-any.whl.metadata (4.5 kB)\n",
            "Requirement already satisfied: jupyter-core in /usr/local/lib/python3.11/dist-packages (from jupyterlab->jupyter>=1.0.0->gsm8k-bench==0.1.0) (5.8.1)\n",
            "Collecting jupyter-lsp>=2.0.0 (from jupyterlab->jupyter>=1.0.0->gsm8k-bench==0.1.0)\n",
            "  Downloading jupyter_lsp-2.2.6-py3-none-any.whl.metadata (1.8 kB)\n",
            "Collecting jupyter-server<3,>=2.4.0 (from jupyterlab->jupyter>=1.0.0->gsm8k-bench==0.1.0)\n",
            "  Downloading jupyter_server-2.16.0-py3-none-any.whl.metadata (8.5 kB)\n",
            "Collecting jupyterlab-server<3,>=2.27.1 (from jupyterlab->jupyter>=1.0.0->gsm8k-bench==0.1.0)\n",
            "  Downloading jupyterlab_server-2.27.3-py3-none-any.whl.metadata (5.9 kB)\n",
            "Requirement already satisfied: notebook-shim>=0.2 in /usr/local/lib/python3.11/dist-packages (from jupyterlab->jupyter>=1.0.0->gsm8k-bench==0.1.0) (0.2.4)\n",
            "Requirement already satisfied: beautifulsoup4 in /usr/local/lib/python3.11/dist-packages (from nbconvert->jupyter>=1.0.0->gsm8k-bench==0.1.0) (4.13.4)\n",
            "Requirement already satisfied: bleach!=5.0.0 in /usr/local/lib/python3.11/dist-packages (from bleach[css]!=5.0.0->nbconvert->jupyter>=1.0.0->gsm8k-bench==0.1.0) (6.2.0)\n",
            "Requirement already satisfied: defusedxml in /usr/local/lib/python3.11/dist-packages (from nbconvert->jupyter>=1.0.0->gsm8k-bench==0.1.0) (0.7.1)\n",
            "Requirement already satisfied: jupyterlab-pygments in /usr/local/lib/python3.11/dist-packages (from nbconvert->jupyter>=1.0.0->gsm8k-bench==0.1.0) (0.3.0)\n",
            "Requirement already satisfied: mistune<4,>=2.0.3 in /usr/local/lib/python3.11/dist-packages (from nbconvert->jupyter>=1.0.0->gsm8k-bench==0.1.0) (3.1.3)\n",
            "Requirement already satisfied: nbclient>=0.5.0 in /usr/local/lib/python3.11/dist-packages (from nbconvert->jupyter>=1.0.0->gsm8k-bench==0.1.0) (0.10.2)\n",
            "Requirement already satisfied: nbformat>=5.7 in /usr/local/lib/python3.11/dist-packages (from nbconvert->jupyter>=1.0.0->gsm8k-bench==0.1.0) (5.10.4)\n",
            "Requirement already satisfied: pandocfilters>=1.4.1 in /usr/local/lib/python3.11/dist-packages (from nbconvert->jupyter>=1.0.0->gsm8k-bench==0.1.0) (1.5.1)\n",
            "Requirement already satisfied: argon2-cffi in /usr/local/lib/python3.11/dist-packages (from notebook->jupyter>=1.0.0->gsm8k-bench==0.1.0) (25.1.0)\n",
            "Requirement already satisfied: ipython-genutils in /usr/local/lib/python3.11/dist-packages (from notebook->jupyter>=1.0.0->gsm8k-bench==0.1.0) (0.2.0)\n",
            "Requirement already satisfied: Send2Trash>=1.8.0 in /usr/local/lib/python3.11/dist-packages (from notebook->jupyter>=1.0.0->gsm8k-bench==0.1.0) (1.8.3)\n",
            "Requirement already satisfied: terminado>=0.8.3 in /usr/local/lib/python3.11/dist-packages (from notebook->jupyter>=1.0.0->gsm8k-bench==0.1.0) (0.18.1)\n",
            "Requirement already satisfied: prometheus-client in /usr/local/lib/python3.11/dist-packages (from notebook->jupyter>=1.0.0->gsm8k-bench==0.1.0) (0.22.1)\n",
            "Requirement already satisfied: nbclassic>=0.4.7 in /usr/local/lib/python3.11/dist-packages (from notebook->jupyter>=1.0.0->gsm8k-bench==0.1.0) (1.3.1)\n",
            "Requirement already satisfied: aiohappyeyeballs>=2.5.0 in /usr/local/lib/python3.11/dist-packages (from aiohttp!=4.0.0a0,!=4.0.0a1->fsspec[http]<=2025.3.0,>=2023.1.0->datasets>=2.14.0->gsm8k-bench==0.1.0) (2.6.1)\n",
            "Requirement already satisfied: aiosignal>=1.4.0 in /usr/local/lib/python3.11/dist-packages (from aiohttp!=4.0.0a0,!=4.0.0a1->fsspec[http]<=2025.3.0,>=2023.1.0->datasets>=2.14.0->gsm8k-bench==0.1.0) (1.4.0)\n",
            "Requirement already satisfied: attrs>=17.3.0 in /usr/local/lib/python3.11/dist-packages (from aiohttp!=4.0.0a0,!=4.0.0a1->fsspec[http]<=2025.3.0,>=2023.1.0->datasets>=2.14.0->gsm8k-bench==0.1.0) (25.3.0)\n",
            "Requirement already satisfied: frozenlist>=1.1.1 in /usr/local/lib/python3.11/dist-packages (from aiohttp!=4.0.0a0,!=4.0.0a1->fsspec[http]<=2025.3.0,>=2023.1.0->datasets>=2.14.0->gsm8k-bench==0.1.0) (1.7.0)\n",
            "Requirement already satisfied: multidict<7.0,>=4.5 in /usr/local/lib/python3.11/dist-packages (from aiohttp!=4.0.0a0,!=4.0.0a1->fsspec[http]<=2025.3.0,>=2023.1.0->datasets>=2.14.0->gsm8k-bench==0.1.0) (6.6.4)\n",
            "Requirement already satisfied: propcache>=0.2.0 in /usr/local/lib/python3.11/dist-packages (from aiohttp!=4.0.0a0,!=4.0.0a1->fsspec[http]<=2025.3.0,>=2023.1.0->datasets>=2.14.0->gsm8k-bench==0.1.0) (0.3.2)\n",
            "Requirement already satisfied: yarl<2.0,>=1.17.0 in /usr/local/lib/python3.11/dist-packages (from aiohttp!=4.0.0a0,!=4.0.0a1->fsspec[http]<=2025.3.0,>=2023.1.0->datasets>=2.14.0->gsm8k-bench==0.1.0) (1.20.1)\n",
            "Requirement already satisfied: webencodings in /usr/local/lib/python3.11/dist-packages (from bleach!=5.0.0->bleach[css]!=5.0.0->nbconvert->jupyter>=1.0.0->gsm8k-bench==0.1.0) (0.5.1)\n",
            "Requirement already satisfied: tinycss2<1.5,>=1.1.0 in /usr/local/lib/python3.11/dist-packages (from bleach[css]!=5.0.0->nbconvert->jupyter>=1.0.0->gsm8k-bench==0.1.0) (1.4.0)\n",
            "Requirement already satisfied: parso<0.9.0,>=0.8.4 in /usr/local/lib/python3.11/dist-packages (from jedi>=0.16->ipython>=6.1.0->ipywidgets>=8.0.0->gsm8k-bench==0.1.0) (0.8.4)\n",
            "Collecting jupyter-client>=6.1.12 (from ipykernel->jupyter>=1.0.0->gsm8k-bench==0.1.0)\n",
            "  Downloading jupyter_client-7.4.9-py3-none-any.whl.metadata (8.5 kB)\n",
            "Collecting jupyter-events>=0.11.0 (from jupyter-server<3,>=2.4.0->jupyterlab->jupyter>=1.0.0->gsm8k-bench==0.1.0)\n",
            "  Downloading jupyter_events-0.12.0-py3-none-any.whl.metadata (5.8 kB)\n",
            "Collecting jupyter-server-terminals>=0.4.4 (from jupyter-server<3,>=2.4.0->jupyterlab->jupyter>=1.0.0->gsm8k-bench==0.1.0)\n",
            "  Downloading jupyter_server_terminals-0.5.3-py3-none-any.whl.metadata (5.6 kB)\n",
            "Collecting overrides>=5.0 (from jupyter-server<3,>=2.4.0->jupyterlab->jupyter>=1.0.0->gsm8k-bench==0.1.0)\n",
            "  Downloading overrides-7.7.0-py3-none-any.whl.metadata (5.8 kB)\n",
            "Requirement already satisfied: websocket-client>=1.7 in /usr/local/lib/python3.11/dist-packages (from jupyter-server<3,>=2.4.0->jupyterlab->jupyter>=1.0.0->gsm8k-bench==0.1.0) (1.8.0)\n",
            "Requirement already satisfied: argon2-cffi-bindings in /usr/local/lib/python3.11/dist-packages (from argon2-cffi->notebook->jupyter>=1.0.0->gsm8k-bench==0.1.0) (25.1.0)\n",
            "Requirement already satisfied: entrypoints in /usr/local/lib/python3.11/dist-packages (from jupyter-client>=6.1.12->ipykernel->jupyter>=1.0.0->gsm8k-bench==0.1.0) (0.4)\n",
            "Requirement already satisfied: babel>=2.10 in /usr/local/lib/python3.11/dist-packages (from jupyterlab-server<3,>=2.27.1->jupyterlab->jupyter>=1.0.0->gsm8k-bench==0.1.0) (2.17.0)\n",
            "Collecting json5>=0.9.0 (from jupyterlab-server<3,>=2.27.1->jupyterlab->jupyter>=1.0.0->gsm8k-bench==0.1.0)\n",
            "  Downloading json5-0.12.1-py3-none-any.whl.metadata (36 kB)\n",
            "Requirement already satisfied: jsonschema>=4.18.0 in /usr/local/lib/python3.11/dist-packages (from jupyterlab-server<3,>=2.27.1->jupyterlab->jupyter>=1.0.0->gsm8k-bench==0.1.0) (4.25.0)\n",
            "Requirement already satisfied: importlib-metadata>=6.8.0 in /usr/local/lib/python3.11/dist-packages (from litellm>=1.64.0->dspy>=3.0.1->dspy-ai>=2.4.0->gsm8k-bench==0.1.0) (8.7.0)\n",
            "Requirement already satisfied: python-dotenv>=0.2.0 in /usr/local/lib/python3.11/dist-packages (from litellm>=1.64.0->dspy>=3.0.1->dspy-ai>=2.4.0->gsm8k-bench==0.1.0) (1.1.1)\n",
            "Requirement already satisfied: tiktoken>=0.7.0 in /usr/local/lib/python3.11/dist-packages (from litellm>=1.64.0->dspy>=3.0.1->dspy-ai>=2.4.0->gsm8k-bench==0.1.0) (0.11.0)\n",
            "Requirement already satisfied: fastjsonschema>=2.15 in /usr/local/lib/python3.11/dist-packages (from nbformat>=5.7->nbconvert->jupyter>=1.0.0->gsm8k-bench==0.1.0) (2.21.1)\n",
            "Requirement already satisfied: alembic>=1.5.0 in /usr/local/lib/python3.11/dist-packages (from optuna>=3.4.0->dspy>=3.0.1->dspy-ai>=2.4.0->gsm8k-bench==0.1.0) (1.16.4)\n",
            "Requirement already satisfied: colorlog in /usr/local/lib/python3.11/dist-packages (from optuna>=3.4.0->dspy>=3.0.1->dspy-ai>=2.4.0->gsm8k-bench==0.1.0) (6.9.0)\n",
            "Requirement already satisfied: sqlalchemy>=1.4.2 in /usr/local/lib/python3.11/dist-packages (from optuna>=3.4.0->dspy>=3.0.1->dspy-ai>=2.4.0->gsm8k-bench==0.1.0) (2.0.43)\n",
            "Requirement already satisfied: ptyprocess>=0.5 in /usr/local/lib/python3.11/dist-packages (from pexpect>4.3->ipython>=6.1.0->ipywidgets>=8.0.0->gsm8k-bench==0.1.0) (0.7.0)\n",
            "Requirement already satisfied: wcwidth in /usr/local/lib/python3.11/dist-packages (from prompt-toolkit!=3.0.0,!=3.0.1,<3.1.0,>=2.0.0->ipython>=6.1.0->ipywidgets>=8.0.0->gsm8k-bench==0.1.0) (0.2.13)\n",
            "Requirement already satisfied: markdown-it-py>=2.2.0 in /usr/local/lib/python3.11/dist-packages (from rich>=13.7.1->dspy>=3.0.1->dspy-ai>=2.4.0->gsm8k-bench==0.1.0) (4.0.0)\n",
            "Requirement already satisfied: soupsieve>1.2 in /usr/local/lib/python3.11/dist-packages (from beautifulsoup4->nbconvert->jupyter>=1.0.0->gsm8k-bench==0.1.0) (2.7)\n",
            "Requirement already satisfied: Mako in /usr/lib/python3/dist-packages (from alembic>=1.5.0->optuna>=3.4.0->dspy>=3.0.1->dspy-ai>=2.4.0->gsm8k-bench==0.1.0) (1.1.3)\n",
            "Requirement already satisfied: zipp>=3.20 in /usr/local/lib/python3.11/dist-packages (from importlib-metadata>=6.8.0->litellm>=1.64.0->dspy>=3.0.1->dspy-ai>=2.4.0->gsm8k-bench==0.1.0) (3.23.0)\n",
            "Requirement already satisfied: jsonschema-specifications>=2023.03.6 in /usr/local/lib/python3.11/dist-packages (from jsonschema>=4.18.0->jupyterlab-server<3,>=2.27.1->jupyterlab->jupyter>=1.0.0->gsm8k-bench==0.1.0) (2025.4.1)\n",
            "Requirement already satisfied: referencing>=0.28.4 in /usr/local/lib/python3.11/dist-packages (from jsonschema>=4.18.0->jupyterlab-server<3,>=2.27.1->jupyterlab->jupyter>=1.0.0->gsm8k-bench==0.1.0) (0.36.2)\n",
            "Requirement already satisfied: rpds-py>=0.7.1 in /usr/local/lib/python3.11/dist-packages (from jsonschema>=4.18.0->jupyterlab-server<3,>=2.27.1->jupyterlab->jupyter>=1.0.0->gsm8k-bench==0.1.0) (0.27.0)\n",
            "Collecting python-json-logger>=2.0.4 (from jupyter-events>=0.11.0->jupyter-server<3,>=2.4.0->jupyterlab->jupyter>=1.0.0->gsm8k-bench==0.1.0)\n",
            "  Downloading python_json_logger-3.3.0-py3-none-any.whl.metadata (4.0 kB)\n",
            "Collecting rfc3339-validator (from jupyter-events>=0.11.0->jupyter-server<3,>=2.4.0->jupyterlab->jupyter>=1.0.0->gsm8k-bench==0.1.0)\n",
            "  Downloading rfc3339_validator-0.1.4-py2.py3-none-any.whl.metadata (1.5 kB)\n",
            "Collecting rfc3986-validator>=0.1.1 (from jupyter-events>=0.11.0->jupyter-server<3,>=2.4.0->jupyterlab->jupyter>=1.0.0->gsm8k-bench==0.1.0)\n",
            "  Downloading rfc3986_validator-0.1.1-py2.py3-none-any.whl.metadata (1.7 kB)\n",
            "Requirement already satisfied: mdurl~=0.1 in /usr/local/lib/python3.11/dist-packages (from markdown-it-py>=2.2.0->rich>=13.7.1->dspy>=3.0.1->dspy-ai>=2.4.0->gsm8k-bench==0.1.0) (0.1.2)\n",
            "Requirement already satisfied: greenlet>=1 in /usr/local/lib/python3.11/dist-packages (from sqlalchemy>=1.4.2->optuna>=3.4.0->dspy>=3.0.1->dspy-ai>=2.4.0->gsm8k-bench==0.1.0) (3.2.4)\n",
            "Requirement already satisfied: cffi>=1.0.1 in /usr/local/lib/python3.11/dist-packages (from argon2-cffi-bindings->argon2-cffi->notebook->jupyter>=1.0.0->gsm8k-bench==0.1.0) (1.17.1)\n",
            "Requirement already satisfied: pycparser in /usr/local/lib/python3.11/dist-packages (from cffi>=1.0.1->argon2-cffi-bindings->argon2-cffi->notebook->jupyter>=1.0.0->gsm8k-bench==0.1.0) (2.22)\n",
            "Collecting fqdn (from jsonschema[format-nongpl]>=4.18.0->jupyter-events>=0.11.0->jupyter-server<3,>=2.4.0->jupyterlab->jupyter>=1.0.0->gsm8k-bench==0.1.0)\n",
            "  Downloading fqdn-1.5.1-py3-none-any.whl.metadata (1.4 kB)\n",
            "Collecting isoduration (from jsonschema[format-nongpl]>=4.18.0->jupyter-events>=0.11.0->jupyter-server<3,>=2.4.0->jupyterlab->jupyter>=1.0.0->gsm8k-bench==0.1.0)\n",
            "  Downloading isoduration-20.11.0-py3-none-any.whl.metadata (5.7 kB)\n",
            "Requirement already satisfied: jsonpointer>1.13 in /usr/local/lib/python3.11/dist-packages (from jsonschema[format-nongpl]>=4.18.0->jupyter-events>=0.11.0->jupyter-server<3,>=2.4.0->jupyterlab->jupyter>=1.0.0->gsm8k-bench==0.1.0) (3.0.0)\n",
            "Collecting rfc3987-syntax>=1.1.0 (from jsonschema[format-nongpl]>=4.18.0->jupyter-events>=0.11.0->jupyter-server<3,>=2.4.0->jupyterlab->jupyter>=1.0.0->gsm8k-bench==0.1.0)\n",
            "  Downloading rfc3987_syntax-1.1.0-py3-none-any.whl.metadata (7.7 kB)\n",
            "Collecting uri-template (from jsonschema[format-nongpl]>=4.18.0->jupyter-events>=0.11.0->jupyter-server<3,>=2.4.0->jupyterlab->jupyter>=1.0.0->gsm8k-bench==0.1.0)\n",
            "  Downloading uri_template-1.3.0-py3-none-any.whl.metadata (8.8 kB)\n",
            "Requirement already satisfied: webcolors>=24.6.0 in /usr/local/lib/python3.11/dist-packages (from jsonschema[format-nongpl]>=4.18.0->jupyter-events>=0.11.0->jupyter-server<3,>=2.4.0->jupyterlab->jupyter>=1.0.0->gsm8k-bench==0.1.0) (24.11.1)\n",
            "Collecting lark>=1.2.2 (from rfc3987-syntax>=1.1.0->jsonschema[format-nongpl]>=4.18.0->jupyter-events>=0.11.0->jupyter-server<3,>=2.4.0->jupyterlab->jupyter>=1.0.0->gsm8k-bench==0.1.0)\n",
            "  Downloading lark-1.2.2-py3-none-any.whl.metadata (1.8 kB)\n",
            "Collecting arrow>=0.15.0 (from isoduration->jsonschema[format-nongpl]>=4.18.0->jupyter-events>=0.11.0->jupyter-server<3,>=2.4.0->jupyterlab->jupyter>=1.0.0->gsm8k-bench==0.1.0)\n",
            "  Downloading arrow-1.3.0-py3-none-any.whl.metadata (7.5 kB)\n",
            "Collecting types-python-dateutil>=2.8.10 (from arrow>=0.15.0->isoduration->jsonschema[format-nongpl]>=4.18.0->jupyter-events>=0.11.0->jupyter-server<3,>=2.4.0->jupyterlab->jupyter>=1.0.0->gsm8k-bench==0.1.0)\n",
            "  Downloading types_python_dateutil-2.9.0.20250809-py3-none-any.whl.metadata (1.8 kB)\n",
            "Downloading bitsandbytes-0.47.0-py3-none-manylinux_2_24_x86_64.whl (61.3 MB)\n",
            "\u001b[2K   \u001b[90m━━━━━━━━━━━━━━━━━━━━━━━━━━━━━━━━━━━━━━━━\u001b[0m \u001b[32m61.3/61.3 MB\u001b[0m \u001b[31m18.4 MB/s\u001b[0m eta \u001b[36m0:00:00\u001b[0m\n",
            "\u001b[?25hDownloading black-25.1.0-cp311-cp311-manylinux_2_17_x86_64.manylinux2014_x86_64.manylinux_2_28_x86_64.whl (1.7 MB)\n",
            "\u001b[2K   \u001b[90m━━━━━━━━━━━━━━━━━━━━━━━━━━━━━━━━━━━━━━━━\u001b[0m \u001b[32m1.7/1.7 MB\u001b[0m \u001b[31m85.6 MB/s\u001b[0m eta \u001b[36m0:00:00\u001b[0m\n",
            "\u001b[?25hDownloading flake8-7.3.0-py2.py3-none-any.whl (57 kB)\n",
            "\u001b[2K   \u001b[90m━━━━━━━━━━━━━━━━━━━━━━━━━━━━━━━━━━━━━━━━\u001b[0m \u001b[32m57.9/57.9 kB\u001b[0m \u001b[31m5.7 MB/s\u001b[0m eta \u001b[36m0:00:00\u001b[0m\n",
            "\u001b[?25hDownloading ipywidgets-8.1.7-py3-none-any.whl (139 kB)\n",
            "\u001b[2K   \u001b[90m━━━━━━━━━━━━━━━━━━━━━━━━━━━━━━━━━━━━━━━━\u001b[0m \u001b[32m139.8/139.8 kB\u001b[0m \u001b[31m14.4 MB/s\u001b[0m eta \u001b[36m0:00:00\u001b[0m\n",
            "\u001b[?25hDownloading jupyter-1.1.1-py2.py3-none-any.whl (2.7 kB)\n",
            "Downloading comm-0.2.3-py3-none-any.whl (7.3 kB)\n",
            "Downloading mccabe-0.7.0-py2.py3-none-any.whl (7.3 kB)\n",
            "Downloading mypy_extensions-1.1.0-py3-none-any.whl (5.0 kB)\n",
            "Downloading pathspec-0.12.1-py3-none-any.whl (31 kB)\n",
            "Downloading pycodestyle-2.14.0-py2.py3-none-any.whl (31 kB)\n",
            "Downloading pyflakes-3.4.0-py2.py3-none-any.whl (63 kB)\n",
            "\u001b[2K   \u001b[90m━━━━━━━━━━━━━━━━━━━━━━━━━━━━━━━━━━━━━━━━\u001b[0m \u001b[32m63.6/63.6 kB\u001b[0m \u001b[31m6.4 MB/s\u001b[0m eta \u001b[36m0:00:00\u001b[0m\n",
            "\u001b[?25hDownloading widgetsnbextension-4.0.14-py3-none-any.whl (2.2 MB)\n",
            "\u001b[2K   \u001b[90m━━━━━━━━━━━━━━━━━━━━━━━━━━━━━━━━━━━━━━━━\u001b[0m \u001b[32m2.2/2.2 MB\u001b[0m \u001b[31m91.9 MB/s\u001b[0m eta \u001b[36m0:00:00\u001b[0m\n",
            "\u001b[?25hDownloading jupyterlab-4.4.6-py3-none-any.whl (12.3 MB)\n",
            "\u001b[2K   \u001b[90m━━━━━━━━━━━━━━━━━━━━━━━━━━━━━━━━━━━━━━━━\u001b[0m \u001b[32m12.3/12.3 MB\u001b[0m \u001b[31m130.3 MB/s\u001b[0m eta \u001b[36m0:00:00\u001b[0m\n",
            "\u001b[?25hDownloading async_lru-2.0.5-py3-none-any.whl (6.1 kB)\n",
            "Downloading jedi-0.19.2-py2.py3-none-any.whl (1.6 MB)\n",
            "\u001b[2K   \u001b[90m━━━━━━━━━━━━━━━━━━━━━━━━━━━━━━━━━━━━━━━━\u001b[0m \u001b[32m1.6/1.6 MB\u001b[0m \u001b[31m79.0 MB/s\u001b[0m eta \u001b[36m0:00:00\u001b[0m\n",
            "\u001b[?25hDownloading jupyter_lsp-2.2.6-py3-none-any.whl (69 kB)\n",
            "\u001b[2K   \u001b[90m━━━━━━━━━━━━━━━━━━━━━━━━━━━━━━━━━━━━━━━━\u001b[0m \u001b[32m69.4/69.4 kB\u001b[0m \u001b[31m5.5 MB/s\u001b[0m eta \u001b[36m0:00:00\u001b[0m\n",
            "\u001b[?25hDownloading jupyter_server-2.16.0-py3-none-any.whl (386 kB)\n",
            "\u001b[2K   \u001b[90m━━━━━━━━━━━━━━━━━━━━━━━━━━━━━━━━━━━━━━━━\u001b[0m \u001b[32m386.9/386.9 kB\u001b[0m \u001b[31m32.9 MB/s\u001b[0m eta \u001b[36m0:00:00\u001b[0m\n",
            "\u001b[?25hDownloading jupyter_client-7.4.9-py3-none-any.whl (133 kB)\n",
            "\u001b[2K   \u001b[90m━━━━━━━━━━━━━━━━━━━━━━━━━━━━━━━━━━━━━━━━\u001b[0m \u001b[32m133.5/133.5 kB\u001b[0m \u001b[31m13.2 MB/s\u001b[0m eta \u001b[36m0:00:00\u001b[0m\n",
            "\u001b[?25hDownloading jupyterlab_server-2.27.3-py3-none-any.whl (59 kB)\n",
            "\u001b[2K   \u001b[90m━━━━━━━━━━━━━━━━━━━━━━━━━━━━━━━━━━━━━━━━\u001b[0m \u001b[32m59.7/59.7 kB\u001b[0m \u001b[31m5.3 MB/s\u001b[0m eta \u001b[36m0:00:00\u001b[0m\n",
            "\u001b[?25hDownloading json5-0.12.1-py3-none-any.whl (36 kB)\n",
            "Downloading jupyter_events-0.12.0-py3-none-any.whl (19 kB)\n",
            "Downloading jupyter_server_terminals-0.5.3-py3-none-any.whl (13 kB)\n",
            "Downloading overrides-7.7.0-py3-none-any.whl (17 kB)\n",
            "Downloading python_json_logger-3.3.0-py3-none-any.whl (15 kB)\n",
            "Downloading rfc3986_validator-0.1.1-py2.py3-none-any.whl (4.2 kB)\n",
            "Downloading rfc3339_validator-0.1.4-py2.py3-none-any.whl (3.5 kB)\n",
            "Downloading rfc3987_syntax-1.1.0-py3-none-any.whl (8.0 kB)\n",
            "Downloading fqdn-1.5.1-py3-none-any.whl (9.1 kB)\n",
            "Downloading isoduration-20.11.0-py3-none-any.whl (11 kB)\n",
            "Downloading uri_template-1.3.0-py3-none-any.whl (11 kB)\n",
            "Downloading arrow-1.3.0-py3-none-any.whl (66 kB)\n",
            "\u001b[2K   \u001b[90m━━━━━━━━━━━━━━━━━━━━━━━━━━━━━━━━━━━━━━━━\u001b[0m \u001b[32m66.4/66.4 kB\u001b[0m \u001b[31m6.7 MB/s\u001b[0m eta \u001b[36m0:00:00\u001b[0m\n",
            "\u001b[?25hDownloading lark-1.2.2-py3-none-any.whl (111 kB)\n",
            "\u001b[2K   \u001b[90m━━━━━━━━━━━━━━━━━━━━━━━━━━━━━━━━━━━━━━━━\u001b[0m \u001b[32m111.0/111.0 kB\u001b[0m \u001b[31m11.6 MB/s\u001b[0m eta \u001b[36m0:00:00\u001b[0m\n",
            "\u001b[?25hDownloading types_python_dateutil-2.9.0.20250809-py3-none-any.whl (17 kB)\n",
            "Installing collected packages: widgetsnbextension, uri-template, types-python-dateutil, rfc3986-validator, rfc3339-validator, python-json-logger, pyflakes, pycodestyle, pathspec, overrides, mypy-extensions, mccabe, lark, json5, jedi, fqdn, comm, async-lru, rfc3987-syntax, jupyter-server-terminals, jupyter-client, flake8, black, arrow, isoduration, ipywidgets, bitsandbytes, jupyter-events, jupyter-server, jupyterlab-server, jupyter-lsp, jupyterlab, jupyter, gsm8k-bench\n",
            "  Attempting uninstall: widgetsnbextension\n",
            "    Found existing installation: widgetsnbextension 3.6.10\n",
            "    Uninstalling widgetsnbextension-3.6.10:\n",
            "      Successfully uninstalled widgetsnbextension-3.6.10\n",
            "  Attempting uninstall: jupyter-client\n",
            "    Found existing installation: jupyter-client 6.1.12\n",
            "    Uninstalling jupyter-client-6.1.12:\n",
            "      Successfully uninstalled jupyter-client-6.1.12\n",
            "  Attempting uninstall: ipywidgets\n",
            "    Found existing installation: ipywidgets 7.7.1\n",
            "    Uninstalling ipywidgets-7.7.1:\n",
            "      Successfully uninstalled ipywidgets-7.7.1\n",
            "  Attempting uninstall: jupyter-server\n",
            "    Found existing installation: jupyter-server 1.16.0\n",
            "    Uninstalling jupyter-server-1.16.0:\n",
            "      Successfully uninstalled jupyter-server-1.16.0\n",
            "  Running setup.py develop for gsm8k-bench\n",
            "\u001b[31mERROR: pip's dependency resolver does not currently take into account all the packages that are installed. This behaviour is the source of the following dependency conflicts.\n",
            "google-colab 1.0.0 requires jupyter-server==1.16.0, but you have jupyter-server 2.16.0 which is incompatible.\u001b[0m\u001b[31m\n",
            "\u001b[0mSuccessfully installed arrow-1.3.0 async-lru-2.0.5 bitsandbytes-0.47.0 black-25.1.0 comm-0.2.3 flake8-7.3.0 fqdn-1.5.1 gsm8k-bench-0.1.0 ipywidgets-8.1.7 isoduration-20.11.0 jedi-0.19.2 json5-0.12.1 jupyter-1.1.1 jupyter-client-7.4.9 jupyter-events-0.12.0 jupyter-lsp-2.2.6 jupyter-server-2.16.0 jupyter-server-terminals-0.5.3 jupyterlab-4.4.6 jupyterlab-server-2.27.3 lark-1.2.2 mccabe-0.7.0 mypy-extensions-1.1.0 overrides-7.7.0 pathspec-0.12.1 pycodestyle-2.14.0 pyflakes-3.4.0 python-json-logger-3.3.0 rfc3339-validator-0.1.4 rfc3986-validator-0.1.1 rfc3987-syntax-1.1.0 types-python-dateutil-2.9.0.20250809 uri-template-1.3.0 widgetsnbextension-4.0.14\n",
            "Repository cloned and path configured!\n",
            "Current directory: /content/prompt-eng-gsm8k-gpt3.5-dspy\n",
            "Python path: ['/content/prompt-eng-gsm8k-gpt3.5-dspy/src', '/content', '/env/python']\n"
          ]
        }
      ],
      "source": [
        "# Install the benchmark package\n",
        "import os\n",
        "import sys\n",
        "\n",
        "!git clone https://github.com/Meenatchisundari/prompt-eng-gsm8k-gpt3.5-dspy.git\n",
        "os.chdir('/content/prompt-eng-gsm8k-gpt3.5-dspy')\n",
        "!pip install -e .\n",
        "\n",
        "# Add the src directory to Python path\n",
        "sys.path.insert(0, '/content/prompt-eng-gsm8k-gpt3.5-dspy/src')\n",
        "\n",
        "print(\"Repository cloned and path configured!\")\n",
        "print(f\"Current directory: {os.getcwd()}\")\n",
        "print(f\"Python path: {sys.path[:3]}\")"
      ]
    },
    {
      "cell_type": "code",
      "execution_count": 3,
      "metadata": {
        "colab": {
          "base_uri": "https://localhost:8080/"
        },
        "id": "NkKJYJzhOVBn",
        "outputId": "3d7370a7-88c4-46b7-98db-8063fc1f46d7"
      },
      "outputs": [
        {
          "output_type": "stream",
          "name": "stdout",
          "text": [
            "Attempt 1 failed: Error: credential propagation was unsuccessful\n",
            "Retrying in 5 seconds...\n",
            "Mounted at /content/drive\n",
            "Google Drive mounted successfully.\n"
          ]
        }
      ],
      "source": [
        "# Mount Google Drive to save results (optional)\n",
        "from google.colab import drive\n",
        "import time\n",
        "\n",
        "# Retry mounting Google Drive a few times\n",
        "for i in range(3):\n",
        "    try:\n",
        "        drive.mount('/content/drive')\n",
        "        print(\"Google Drive mounted successfully.\")\n",
        "        break\n",
        "    except Exception as e:\n",
        "        print(f\"Attempt {i+1} failed: {e}\")\n",
        "        if i < 2:\n",
        "            print(\"Retrying in 5 seconds...\")\n",
        "            time.sleep(5)\n",
        "        else:\n",
        "            print(\"Failed to mount Google Drive. Results won't be saved to Drive.\")"
      ]
    },
    {
      "cell_type": "code",
      "execution_count": 3,
      "metadata": {
        "colab": {
          "base_uri": "https://localhost:8080/"
        },
        "id": "LL0dewLlOVBn",
        "outputId": "6bab3ffb-b37c-4434-e995-8bdf51b8e9f2"
      },
      "outputs": [
        {
          "output_type": "stream",
          "name": "stdout",
          "text": [
            "Enter your OpenAI API key: ··········\n",
            "API key configured successfully!\n"
          ]
        }
      ],
      "source": [
        "# Set up OpenAI API key\n",
        "import os\n",
        "import getpass\n",
        "\n",
        "# Enter API key securely\n",
        "api_key = getpass.getpass(\"Enter your OpenAI API key: \")\n",
        "os.environ[\"OPENAI_API_KEY\"] = api_key\n",
        "print(\"API key configured successfully!\")"
      ]
    },
    {
      "cell_type": "markdown",
      "metadata": {
        "id": "4l05vEsZOVBo"
      },
      "source": [
        "## Quick Demo (10 Problems)\n",
        "\n",
        "Let's start with a quick demonstration using 10 problems to see how the system works."
      ]
    },
    {
      "cell_type": "code",
      "execution_count": 4,
      "metadata": {
        "colab": {
          "base_uri": "https://localhost:8080/"
        },
        "id": "IgYGaW0VOVBo",
        "outputId": "4f92580c-a626-466d-bb31-2ce92d0b89b5"
      },
      "outputs": [
        {
          "output_type": "stream",
          "name": "stdout",
          "text": [
            "Package imported successfully!\n",
            "Using OpenAI API key: ********************\n"
          ]
        }
      ],
      "source": [
        "# Import the benchmark package\n",
        "from gsm8k_bench import (\n",
        "    GSM8KBenchmark,\n",
        "    load_gsm8k_dataset,\n",
        "    create_results_table,\n",
        "    plot_results\n",
        ")\n",
        "\n",
        "import warnings\n",
        "warnings.filterwarnings('ignore')\n",
        "\n",
        "print(\"Package imported successfully!\")\n",
        "print(f\"Using OpenAI API key: {'*' * 20}\")"
      ]
    },
    {
      "cell_type": "code",
      "execution_count": 5,
      "metadata": {
        "colab": {
          "base_uri": "https://localhost:8080/"
        },
        "id": "tpC4MB5UOVBo",
        "outputId": "0d70cb41-05b0-418c-afa3-2736618dd87d"
      },
      "outputs": [
        {
          "output_type": "stream",
          "name": "stdout",
          "text": [
            "Loading GSM8K dataset (10 problems for quick demo)...\n",
            "Loaded 10 problems\n",
            "\n",
            "Sample problem:\n",
            "Question: Janet’s ducks lay 16 eggs per day. She eats three for breakfast every morning and bakes muffins for her friends every day with four. She sells the remainder at the farmers' market daily for $2 per fresh duck egg. How much in dollars does she make every day at the farmers' market?\n",
            "Answer: 18\n"
          ]
        }
      ],
      "source": [
        "# Load a small dataset for quick demo\n",
        "print(\"Loading GSM8K dataset (1 problems for quick demo)...\")\n",
        "quick_dataset = load_gsm8k_dataset(n_samples=10)\n",
        "print(f\"Loaded {len(quick_dataset)} problems\")\n",
        "\n",
        "# Show a sample problem\n",
        "print(\"\\nSample problem:\")\n",
        "print(f\"Question: {quick_dataset[0].question}\")\n",
        "print(f\"Answer: {quick_dataset[0].answer}\")"
      ]
    },
    {
      "cell_type": "code",
      "execution_count": 8,
      "metadata": {
        "colab": {
          "base_uri": "https://localhost:8080/"
        },
        "id": "rmfyql_bOVBo",
        "outputId": "129ba0e8-dde2-462b-ee07-9b79f26e0995"
      },
      "outputs": [
        {
          "output_type": "stream",
          "name": "stdout",
          "text": [
            "Running quick benchmark...\n",
            "This will take about 1-2 minutes for 10 problems\n",
            "  1. Zero-Shot: 1/10 (10.0%) - ETA: 1.1s\n",
            "  1. Zero-Shot: 2/10 (20.0%) - ETA: 901ms\n",
            "  1. Zero-Shot: 3/10 (30.0%) - ETA: 766ms\n",
            "  1. Zero-Shot: 4/10 (40.0%) - ETA: 645ms\n",
            "  1. Zero-Shot: 5/10 (50.0%) - ETA: 534ms\n",
            "  1. Zero-Shot: 6/10 (60.0%) - ETA: 423ms\n",
            "  1. Zero-Shot: 7/10 (70.0%) - ETA: 315ms\n",
            "  1. Zero-Shot: 8/10 (80.0%) - ETA: 212ms\n",
            "  1. Zero-Shot: 9/10 (90.0%) - ETA: 106ms\n",
            "  1. Zero-Shot: 10/10 (100.0%) - ETA: 0ms\n",
            "  2. Few-Shot: 1/10 (10.0%) - ETA: 983ms\n",
            "  2. Few-Shot: 2/10 (20.0%) - ETA: 859ms\n",
            "  2. Few-Shot: 3/10 (30.0%) - ETA: 750ms\n",
            "  2. Few-Shot: 4/10 (40.0%) - ETA: 644ms\n",
            "  2. Few-Shot: 5/10 (50.0%) - ETA: 537ms\n",
            "  2. Few-Shot: 6/10 (60.0%) - ETA: 434ms\n",
            "  2. Few-Shot: 7/10 (70.0%) - ETA: 326ms\n",
            "  2. Few-Shot: 8/10 (80.0%) - ETA: 220ms\n",
            "  2. Few-Shot: 9/10 (90.0%) - ETA: 109ms\n",
            "  2. Few-Shot: 10/10 (100.0%) - ETA: 0ms\n",
            "  3. Chain-of-Thought: 1/10 (10.0%) - ETA: 1.4s\n",
            "  3. Chain-of-Thought: 2/10 (20.0%) - ETA: 1.3s\n",
            "  3. Chain-of-Thought: 3/10 (30.0%) - ETA: 1.1s\n",
            "  3. Chain-of-Thought: 4/10 (40.0%) - ETA: 963ms\n",
            "  3. Chain-of-Thought: 5/10 (50.0%) - ETA: 810ms\n",
            "  3. Chain-of-Thought: 6/10 (60.0%) - ETA: 647ms\n",
            "  3. Chain-of-Thought: 7/10 (70.0%) - ETA: 485ms\n",
            "  3. Chain-of-Thought: 8/10 (80.0%) - ETA: 323ms\n",
            "  3. Chain-of-Thought: 9/10 (90.0%) - ETA: 161ms\n",
            "  3. Chain-of-Thought: 10/10 (100.0%) - ETA: 0ms\n",
            "  4. Self-Consistency: 1/10 (10.0%) - ETA: 28.4s\n",
            "  4. Self-Consistency: 2/10 (20.0%) - ETA: 21.5s\n",
            "  4. Self-Consistency: 3/10 (30.0%) - ETA: 19.2s\n",
            "  4. Self-Consistency: 4/10 (40.0%) - ETA: 15.9s\n",
            "  4. Self-Consistency: 5/10 (50.0%) - ETA: 13.3s\n",
            "  4. Self-Consistency: 6/10 (60.0%) - ETA: 10.7s\n",
            "  4. Self-Consistency: 7/10 (70.0%) - ETA: 8.0s\n",
            "  4. Self-Consistency: 8/10 (80.0%) - ETA: 5.5s\n",
            "  4. Self-Consistency: 9/10 (90.0%) - ETA: 2.9s\n",
            "  4. Self-Consistency: 10/10 (100.0%) - ETA: 0ms\n",
            "  5. Prolog-Style: 1/10 (10.0%) - ETA: 2.1s\n",
            "  5. Prolog-Style: 2/10 (20.0%) - ETA: 1.8s\n",
            "  5. Prolog-Style: 3/10 (30.0%) - ETA: 1.6s\n",
            "  5. Prolog-Style: 4/10 (40.0%) - ETA: 1.4s\n",
            "  5. Prolog-Style: 5/10 (50.0%) - ETA: 1.2s\n",
            "  5. Prolog-Style: 6/10 (60.0%) - ETA: 905ms\n",
            "  5. Prolog-Style: 7/10 (70.0%) - ETA: 652ms\n",
            "  5. Prolog-Style: 8/10 (80.0%) - ETA: 421ms\n",
            "  5. Prolog-Style: 9/10 (90.0%) - ETA: 206ms\n",
            "  5. Prolog-Style: 10/10 (100.0%) - ETA: 0ms\n",
            "\n",
            "Quick benchmark completed!\n"
          ]
        }
      ],
      "source": [
        "# Run quick benchmark with core techniques\n",
        "print(\"Running quick benchmark...\")\n",
        "print(\"This will take about 1-2 minutes for 10 problems\")\n",
        "\n",
        "# Use only fast techniques for the demo\n",
        "quick_benchmark = GSM8KBenchmark(\n",
        "    quick_dataset,\n",
        "    selected_techniques=[\"zero_shot\", \"few_shot\", \"cot\", \"self_consistency\", \"prolog_style\"]\n",
        ")\n",
        "\n",
        "quick_results = quick_benchmark.run_benchmark()\n",
        "print(\"\\nQuick benchmark completed!\")"
      ]
    },
    {
      "cell_type": "code",
      "execution_count": 9,
      "metadata": {
        "colab": {
          "base_uri": "https://localhost:8080/"
        },
        "id": "QkthVsblOVBp",
        "outputId": "95db15a2-09f7-4aa0-bae9-65af1a24e62c"
      },
      "outputs": [
        {
          "output_type": "stream",
          "name": "stdout",
          "text": [
            "Quick Demo Results:\n",
            "          Technique Accuracy (%) Correct/Total Avg Time (s) Error Rate (%) Efficiency\n",
            "3. Chain-of-Thought       60.00%          6/10         0.16           0.0%       3.73\n",
            "4. Self-Consistency       60.00%          6/10         2.82           0.0%       0.21\n",
            "       1. Zero-Shot       50.00%          5/10         0.11           0.0%       4.73\n",
            "        2. Few-Shot       50.00%          5/10         0.11           0.0%       4.59\n",
            "    5. Prolog-Style       50.00%          5/10         0.20           0.0%       2.47\n",
            "\n",
            "Best technique: 3. Chain-of-Thought (60.0%)\n"
          ]
        }
      ],
      "source": [
        "# Display quick results\n",
        "quick_table = create_results_table(quick_results)\n",
        "print(\"Quick Demo Results:\")\n",
        "print(quick_table.to_string(index=False))\n",
        "\n",
        "# Find the best technique\n",
        "best_technique = max(quick_results.items(), key=lambda x: x[1].accuracy)\n",
        "print(f\"\\nBest technique: {best_technique[0]} ({best_technique[1].accuracy*100:.1f}%)\")"
      ]
    },
    {
      "cell_type": "markdown",
      "metadata": {
        "id": "R8bH3cKGOVBp"
      },
      "source": [
        "## Full Benchmark (100 Problems)\n",
        "\n",
        "Now let's run the complete benchmark with more problems for robust results."
      ]
    },
    {
      "cell_type": "code",
      "execution_count": 10,
      "metadata": {
        "colab": {
          "base_uri": "https://localhost:8080/"
        },
        "id": "X0cDSYcJOVBp",
        "outputId": "d99faac6-68f2-4bed-f0fe-09c3efd1ad18"
      },
      "outputs": [
        {
          "output_type": "stream",
          "name": "stdout",
          "text": [
            "Loading GSM8K dataset (100 problems for comprehensive evaluation)...\n",
            "Loaded 100 problems\n",
            "\n",
            "Dataset analysis:\n",
            "  Average question length: 44.4 words\n",
            "  Problem categories: ['money', 'time', 'word_problems', 'arithmetic', 'fractions', 'percentages', 'general']\n"
          ]
        }
      ],
      "source": [
        "# Load full dataset\n",
        "print(\"Loading GSM8K dataset (100 problems for comprehensive evaluation)...\")\n",
        "test_dataset = load_gsm8k_dataset(n_samples=100)\n",
        "print(f\"Loaded {len(test_dataset)} problems\")\n",
        "\n",
        "# Analyze dataset distribution\n",
        "from gsm8k_bench.data import analyze_dataset_distribution\n",
        "analysis = analyze_dataset_distribution(test_dataset)\n",
        "print(f\"\\nDataset analysis:\")\n",
        "print(f\"  Average question length: {analysis['avg_question_length']:.1f} words\")\n",
        "print(f\"  Problem categories: {list(analysis['category_distribution'].keys())}\")"
      ]
    },
    {
      "cell_type": "code",
      "execution_count": 11,
      "metadata": {
        "colab": {
          "base_uri": "https://localhost:8080/"
        },
        "id": "kxHOmdrDOVBp",
        "outputId": "e510ad70-3e10-4e21-9ad8-1eadf8974cf3"
      },
      "outputs": [
        {
          "output_type": "stream",
          "name": "stdout",
          "text": [
            "Starting comprehensive benchmark...\n",
            "This will take about 10-15 minutes for 100 problems with all techniques\n",
            "Please be patient - we're testing 5 different prompting approaches!\n",
            "  1. Zero-Shot: 10/100 (10.0%) - ETA: 9.8s\n",
            "  1. Zero-Shot: 20/100 (20.0%) - ETA: 46.0s\n",
            "  1. Zero-Shot: 30/100 (30.0%) - ETA: 48.0s\n",
            "  1. Zero-Shot: 40/100 (40.0%) - ETA: 45.5s\n",
            "  1. Zero-Shot: 50/100 (50.0%) - ETA: 40.6s\n",
            "  1. Zero-Shot: 60/100 (60.0%) - ETA: 33.7s\n",
            "  1. Zero-Shot: 70/100 (70.0%) - ETA: 25.9s\n",
            "  1. Zero-Shot: 80/100 (80.0%) - ETA: 17.7s\n",
            "  1. Zero-Shot: 90/100 (90.0%) - ETA: 8.9s\n",
            "  1. Zero-Shot: 100/100 (100.0%) - ETA: 0ms\n",
            "  2. Few-Shot: 10/100 (10.0%) - ETA: 30.9s\n",
            "  2. Few-Shot: 20/100 (20.0%) - ETA: 52.0s\n",
            "  2. Few-Shot: 30/100 (30.0%) - ETA: 52.7s\n",
            "  2. Few-Shot: 40/100 (40.0%) - ETA: 47.0s\n",
            "  2. Few-Shot: 50/100 (50.0%) - ETA: 40.4s\n",
            "  2. Few-Shot: 60/100 (60.0%) - ETA: 32.8s\n",
            "  2. Few-Shot: 70/100 (70.0%) - ETA: 25.3s\n",
            "  2. Few-Shot: 80/100 (80.0%) - ETA: 17.2s\n",
            "  2. Few-Shot: 90/100 (90.0%) - ETA: 8.9s\n",
            "  2. Few-Shot: 100/100 (100.0%) - ETA: 0ms\n",
            "  3. Chain-of-Thought: 10/100 (10.0%) - ETA: 14.2s\n",
            "  3. Chain-of-Thought: 20/100 (20.0%) - ETA: 1m 59s\n",
            "  3. Chain-of-Thought: 30/100 (30.0%) - ETA: 2m 0s\n",
            "  3. Chain-of-Thought: 40/100 (40.0%) - ETA: 1m 49s\n"
          ]
        },
        {
          "output_type": "stream",
          "name": "stderr",
          "text": [
            "ERROR:gsm8k_bench.benchmark:Unexpected error on example 45: 'CoTModule' object has no attribute '__name__'\n"
          ]
        },
        {
          "output_type": "stream",
          "name": "stdout",
          "text": [
            "  3. Chain-of-Thought: 50/100 (50.0%) - ETA: 1m 49s\n",
            "  3. Chain-of-Thought: 60/100 (60.0%) - ETA: 1m 31s\n",
            "  3. Chain-of-Thought: 70/100 (70.0%) - ETA: 1m 15s\n",
            "  3. Chain-of-Thought: 80/100 (80.0%) - ETA: 51.6s\n",
            "  3. Chain-of-Thought: 90/100 (90.0%) - ETA: 25.4s\n",
            "  3. Chain-of-Thought: 100/100 (100.0%) - ETA: 0ms\n",
            "  4. Self-Consistency: 10/100 (10.0%) - ETA: 1m 1s\n",
            "  4. Self-Consistency: 20/100 (20.0%) - ETA: 2m 26s\n",
            "  4. Self-Consistency: 30/100 (30.0%) - ETA: 2m 20s\n",
            "  4. Self-Consistency: 40/100 (40.0%) - ETA: 2m 18s\n",
            "  4. Self-Consistency: 50/100 (50.0%) - ETA: 2m 11s\n",
            "  4. Self-Consistency: 60/100 (60.0%) - ETA: 1m 49s\n",
            "  4. Self-Consistency: 70/100 (70.0%) - ETA: 1m 23s\n",
            "  4. Self-Consistency: 80/100 (80.0%) - ETA: 56.2s\n",
            "  4. Self-Consistency: 90/100 (90.0%) - ETA: 27.8s\n",
            "  4. Self-Consistency: 100/100 (100.0%) - ETA: 0ms\n",
            "  5. Prolog-Style: 10/100 (10.0%) - ETA: 14.4s\n",
            "  5. Prolog-Style: 20/100 (20.0%) - ETA: 2m 15s\n",
            "  5. Prolog-Style: 30/100 (30.0%) - ETA: 2m 28s\n"
          ]
        },
        {
          "output_type": "stream",
          "name": "stderr",
          "text": [
            "2025/08/19 12:57:14 WARNING dspy.clients.lm: LM response was truncated due to exceeding max_tokens=1000. You can inspect the latest LM interactions with `dspy.inspect_history()`. To avoid truncation, consider passing a larger max_tokens when setting up dspy.LM. You may also consider increasing the temperature (currently 0.0)  if the reason for truncation is repetition.\n"
          ]
        },
        {
          "output_type": "stream",
          "name": "stdout",
          "text": [
            "  5. Prolog-Style: 40/100 (40.0%) - ETA: 2m 51s\n",
            "  5. Prolog-Style: 50/100 (50.0%) - ETA: 2m 26s\n",
            "  5. Prolog-Style: 60/100 (60.0%) - ETA: 1m 58s\n",
            "  5. Prolog-Style: 70/100 (70.0%) - ETA: 1m 29s\n",
            "  5. Prolog-Style: 80/100 (80.0%) - ETA: 1m 1s\n",
            "  5. Prolog-Style: 90/100 (90.0%) - ETA: 29.9s\n",
            "  5. Prolog-Style: 100/100 (100.0%) - ETA: 0ms\n",
            "\n",
            "Full benchmark completed!\n"
          ]
        }
      ],
      "source": [
        "# Run comprehensive benchmark\n",
        "print(\"Starting comprehensive benchmark...\")\n",
        "print(\"This will take about 10-15 minutes for 100 problems with all techniques\")\n",
        "print(\"Please be patient - we're testing 5 different prompting approaches!\")\n",
        "\n",
        "# Create benchmark with all techniques\n",
        "benchmark = GSM8KBenchmark(test_dataset)\n",
        "results = benchmark.run_benchmark()\n",
        "\n",
        "print(\"\\nFull benchmark completed!\")"
      ]
    },
    {
      "cell_type": "markdown",
      "metadata": {
        "id": "_bBOsBSfOVBp"
      },
      "source": [
        "## Results Analysis & Visualization\n",
        "\n",
        "Let's analyze our results in detail and create comprehensive visualizations."
      ]
    },
    {
      "cell_type": "code",
      "execution_count": 12,
      "metadata": {
        "colab": {
          "base_uri": "https://localhost:8080/"
        },
        "id": "dFSkB3B_OVBp",
        "outputId": "880ee3ae-b35e-4ef3-9679-4927ed744bd8"
      },
      "outputs": [
        {
          "output_type": "stream",
          "name": "stdout",
          "text": [
            "COMPREHENSIVE BENCHMARK RESULTS\n",
            "============================================================\n",
            "          Technique Accuracy (%) Correct/Total Avg Time (s) Error Rate (%) Efficiency\n",
            "    5. Prolog-Style       67.00%        67/100         3.06           0.0%       0.22\n",
            "3. Chain-of-Thought       62.00%        62/100         2.43           1.0%       0.26\n",
            "4. Self-Consistency       56.00%        56/100         2.78           0.0%       0.20\n",
            "        2. Few-Shot       35.00%        35/100         0.90           0.0%       0.39\n",
            "       1. Zero-Shot       33.00%        33/100         0.90           0.0%       0.37\n",
            "\n",
            "WINNER: 5. Prolog-Style (67.0%)\n",
            "Baseline: 1. Zero-Shot (33.0%)\n",
            "Improvement: 34.0 percentage points\n"
          ]
        }
      ],
      "source": [
        "# Create and display results table\n",
        "results_df = create_results_table(results)\n",
        "print(\"COMPREHENSIVE BENCHMARK RESULTS\")\n",
        "print(\"=\" * 60)\n",
        "print(results_df.to_string(index=False))\n",
        "\n",
        "# Key findings\n",
        "sorted_results = sorted(results.items(), key=lambda x: x[1].accuracy, reverse=True)\n",
        "best_name, best_result = sorted_results[0]\n",
        "worst_name, worst_result = sorted_results[-1]\n",
        "\n",
        "print(f\"\\nWINNER: {best_name} ({best_result.accuracy*100:.1f}%)\")\n",
        "print(f\"Baseline: {worst_name} ({worst_result.accuracy*100:.1f}%)\")\n",
        "print(f\"Improvement: {(best_result.accuracy - worst_result.accuracy)*100:.1f} percentage points\")"
      ]
    },
    {
      "cell_type": "code",
      "execution_count": 13,
      "metadata": {
        "colab": {
          "base_uri": "https://localhost:8080/",
          "height": 1000
        },
        "id": "K6BS7ovJOVBp",
        "outputId": "e326e5da-fcca-40d1-d801-a82b461b0eb4"
      },
      "outputs": [
        {
          "output_type": "stream",
          "name": "stdout",
          "text": [
            "Creating visualizations...\n"
          ]
        },
        {
          "output_type": "display_data",
          "data": {
            "text/plain": [
              "<Figure size 2000x1600 with 7 Axes>"
            ],
            "image/png": "[encoded data removed]"
          },
          "metadata": {}
        },
        {
          "output_type": "display_data",
          "data": {
            "text/plain": [
              "<Figure size 1200x600 with 2 Axes>"
            ],
            "image/png": "[encoded data removed]"
          },
          "metadata": {}
        },
        {
          "output_type": "stream",
          "name": "stdout",
          "text": [
            "Visualizations created successfully!\n"
          ]
        }
      ],
      "source": [
        "# Create comprehensive visualizations\n",
        "print(\"Creating visualizations...\")\n",
        "\n",
        "# Main results plot\n",
        "plot_results(results)\n",
        "\n",
        "# Performance heatmap\n",
        "from gsm8k_bench.viz import create_performance_heatmap\n",
        "create_performance_heatmap(results)\n",
        "\n",
        "print(\"Visualizations created successfully!\")"
      ]
    },
    {
      "cell_type": "code",
      "execution_count": 14,
      "metadata": {
        "colab": {
          "base_uri": "https://localhost:8080/"
        },
        "id": "JVXPd5z7OVBp",
        "outputId": "9ee7d641-a9ec-454e-9bcb-1440deba2b68"
      },
      "outputs": [
        {
          "output_type": "stream",
          "name": "stdout",
          "text": [
            "================================================================================\n",
            " DETAILED ANALYSIS REPORT\n",
            "================================================================================\n",
            "\n",
            " OVERALL SUMMARY\n",
            "----------------------------------------\n",
            "Best technique: 5. Prolog-Style (67.00%)\n",
            "Worst technique: 1. Zero-Shot (33.00%)\n",
            "Performance spread: 34.00 percentage points\n",
            "\n",
            " TECHNIQUE ANALYSIS\n",
            "----------------------------------------\n",
            "\n",
            "5. Prolog-Style:\n",
            "  • Accuracy: 67.00% (67/100)\n",
            "  • Average time: 3.06 seconds\n",
            "  • Error rate: 0.0%\n",
            "  • Efficiency: 0.22 accuracy points per second\n",
            "  • Performance: Good\n",
            "\n",
            "3. Chain-of-Thought:\n",
            "  • Accuracy: 62.00% (62/100)\n",
            "  • Average time: 2.43 seconds\n",
            "  • Error rate: 1.0%\n",
            "  • Efficiency: 0.26 accuracy points per second\n",
            "  • Performance: Good\n",
            "\n",
            "4. Self-Consistency:\n",
            "  • Accuracy: 56.00% (56/100)\n",
            "  • Average time: 2.78 seconds\n",
            "  • Error rate: 0.0%\n",
            "  • Efficiency: 0.20 accuracy points per second\n",
            "  • Performance: Average\n",
            "\n",
            "2. Few-Shot:\n",
            "  • Accuracy: 35.00% (35/100)\n",
            "  • Average time: 0.90 seconds\n",
            "  • Error rate: 0.0%\n",
            "  • Efficiency: 0.39 accuracy points per second\n",
            "  • Performance: Poor\n",
            "\n",
            "1. Zero-Shot:\n",
            "  • Accuracy: 33.00% (33/100)\n",
            "  • Average time: 0.90 seconds\n",
            "  • Error rate: 0.0%\n",
            "  • Efficiency: 0.37 accuracy points per second\n",
            "  • Performance: Poor\n",
            "\n",
            " COMPARATIVE INSIGHTS\n",
            "----------------------------------------\n",
            "Improvements over Zero-Shot baseline:\n",
            "  • 5. Prolog-Style: +34.0 percentage points\n",
            "  • 3. Chain-of-Thought: +29.0 percentage points\n",
            "  • 4. Self-Consistency: +23.0 percentage points\n",
            "  • 2. Few-Shot: +2.0 percentage points\n",
            "\n",
            "Speed vs Accuracy trade-offs:\n",
            "  • 5. Prolog-Style: Medium (3.1s) → 67.0% accuracy\n",
            "  • 3. Chain-of-Thought: Medium (2.4s) → 62.0% accuracy\n",
            "  • 4. Self-Consistency: Medium (2.8s) → 56.0% accuracy\n",
            "  • 2. Few-Shot: Fast (0.9s) → 35.0% accuracy\n",
            "  • 1. Zero-Shot: Fast (0.9s) → 33.0% accuracy\n",
            "\n",
            " RECOMMENDATIONS\n",
            "----------------------------------------\n",
            "1. For highest accuracy: Use 5. Prolog-Style\n",
            "2. For best efficiency: Use 2. Few-Shot\n",
            "3. For budget-conscious applications: Use 3. Chain-of-Thought\n"
          ]
        }
      ],
      "source": [
        "# Detailed analysis report\n",
        "from gsm8k_bench.viz import create_detailed_analysis_report\n",
        "\n",
        "analysis_report = create_detailed_analysis_report(results)\n",
        "print(analysis_report)"
      ]
    },
    {
      "cell_type": "markdown",
      "metadata": {
        "id": "hwxuxR6yOVBp"
      },
      "source": [
        "## Individual Technique Analysis\n",
        "\n",
        "Let's see how each technique solved specific problems."
      ]
    },
    {
      "cell_type": "code",
      "execution_count": 15,
      "metadata": {
        "colab": {
          "base_uri": "https://localhost:8080/"
        },
        "id": "F36TmHZrOVBp",
        "outputId": "f2b502b7-64ba-418d-a391-2f0a99e7c3b4"
      },
      "outputs": [
        {
          "output_type": "stream",
          "name": "stdout",
          "text": [
            "SAMPLE PROBLEM ANALYSIS\n",
            "============================================================\n",
            "Question: Janet’s ducks lay 16 eggs per day. She eats three for breakfast every morning and bakes muffins for her friends every day with four. She sells the remainder at the farmers' market daily for $2 per fresh duck egg. How much in dollars does she make every day at the farmers' market?\n",
            "Expected Answer: 18\n",
            "============================================================\n",
            "\n",
            "Zero-Shot: 26 [WRONG]\n",
            "\n",
            "Few-Shot: 18 [CORRECT]\n",
            "\n",
            "Chain-of-Thought: 18 [CORRECT]\n",
            "  Reasoning: To find out how much Janet makes at the farmers' market every day, we first need to calculate how many eggs she has left after eating three for breakfast and using four to bake muffins. Then we can mu...\n",
            "\n",
            "Self-Consistency: 18 [CORRECT]\n",
            "  Reasoning: To find out how much Janet makes at the farmers' market every day, we need to calculate the total number of eggs she sells after subtracting the eggs she uses for breakfast and baking muffins.   Janet...\n",
            "\n",
            "Prolog-Style: 18 [CORRECT]\n",
            "  Reasoning: We need to calculate the amount of money Janet makes every day at the farmers' market by selling the remaining fresh duck eggs after consuming some for breakfast and baking muffins....\n",
            "  Facts: - Janet's ducks lay 16 eggs per day.\n",
            "- She eats three eggs for breakfast every morning.\n",
            "- She bakes ...\n",
            "  Derivation: FACTS: eggs_per_day(16), eats_breakfast(3), uses_for_muffins(4), price_per_egg(2)\n",
            "RULES: Total eggs ...\n"
          ]
        }
      ],
      "source": [
        "# Show how each technique solved the first problem\n",
        "from gsm8k_bench.techniques import (\n",
        "    ZeroShotModule, FewShotModule, CoTModule,\n",
        "    SelfConsistencyModule, PrologModule\n",
        ")\n",
        "from gsm8k_bench.utils import extract_answer, math_accuracy\n",
        "\n",
        "example = test_dataset[0]\n",
        "print(\"SAMPLE PROBLEM ANALYSIS\")\n",
        "print(\"=\" * 60)\n",
        "print(f\"Question: {example.question}\")\n",
        "print(f\"Expected Answer: {example.answer}\")\n",
        "print(\"=\" * 60)\n",
        "\n",
        "techniques = {\n",
        "    \"Zero-Shot\": ZeroShotModule(),\n",
        "    \"Few-Shot\": FewShotModule(),\n",
        "    \"Chain-of-Thought\": CoTModule(),\n",
        "    \"Self-Consistency\": SelfConsistencyModule(),\n",
        "    \"Prolog-Style\": PrologModule(),\n",
        "}\n",
        "\n",
        "for name, module in techniques.items():\n",
        "    try:\n",
        "        pred = module(question=example.question)\n",
        "        predicted_answer = extract_answer(pred.answer)\n",
        "        is_correct = math_accuracy(example, pred)\n",
        "        status = \"CORRECT\" if is_correct else \"WRONG\"\n",
        "\n",
        "        print(f\"\\n{name}: {predicted_answer} [{status}]\")\n",
        "\n",
        "        # Show reasoning for techniques that provide it\n",
        "        if hasattr(pred, 'reasoning') and pred.reasoning:\n",
        "            reasoning_preview = pred.reasoning[:200].replace('\\n', ' ')\n",
        "            print(f\"  Reasoning: {reasoning_preview}...\")\n",
        "\n",
        "        # Show Prolog-style components\n",
        "        if hasattr(pred, 'facts') and pred.facts:\n",
        "            print(f\"  Facts: {pred.facts[:100]}...\")\n",
        "        if hasattr(pred, 'derivation') and pred.derivation:\n",
        "            print(f\"  Derivation: {pred.derivation[:100]}...\")\n",
        "\n",
        "    except Exception as e:\n",
        "        print(f\"\\n{name}: ERROR - {e}\")"
      ]
    },
    {
      "cell_type": "markdown",
      "metadata": {
        "id": "QQnSU75YOVBq"
      },
      "source": [
        "## Advanced Techniques\n",
        "\n",
        "Let's test some advanced prompting techniques for even better performance."
      ]
    },
    {
      "cell_type": "code",
      "execution_count": 16,
      "metadata": {
        "colab": {
          "base_uri": "https://localhost:8080/"
        },
        "id": "NpCBGLb0OVBq",
        "outputId": "267c3b40-5a80-48a4-d32e-95a13ad490a9"
      },
      "outputs": [
        {
          "output_type": "stream",
          "name": "stdout",
          "text": [
            "Testing advanced techniques...\n",
            "\n",
            "Testing Enhanced Prolog...\n"
          ]
        },
        {
          "output_type": "stream",
          "name": "stderr",
          "text": [
            "2025/08/19 13:04:54 WARNING dspy.clients.lm: LM response was truncated due to exceeding max_tokens=1000. You can inspect the latest LM interactions with `dspy.inspect_history()`. To avoid truncation, consider passing a larger max_tokens when setting up dspy.LM. You may also consider increasing the temperature (currently 0.0)  if the reason for truncation is repetition.\n"
          ]
        },
        {
          "output_type": "stream",
          "name": "stdout",
          "text": [
            "  Enhanced Prolog: 74.0% (74/100)\n",
            "\n",
            "Testing Calculator Augmented...\n",
            "  Calculator Augmented: 61.0% (61/100)\n",
            "\n",
            "Testing Weighted Ensemble...\n",
            "Error in cot: Adapter JSONAdapter failed to parse the LM response. \n",
            "\n",
            "LM Response: {question} \n",
            "\n",
            "Expected to find output fields in the LM response: [reasoning, answer] \n",
            "\n",
            "Actual output fields parsed from the LM response: [] \n",
            "\n",
            "\n"
          ]
        },
        {
          "output_type": "stream",
          "name": "stderr",
          "text": [
            "2025/08/19 13:16:33 WARNING dspy.clients.lm: LM response was truncated due to exceeding max_tokens=1000. You can inspect the latest LM interactions with `dspy.inspect_history()`. To avoid truncation, consider passing a larger max_tokens when setting up dspy.LM. You may also consider increasing the temperature (currently 0.0)  if the reason for truncation is repetition.\n"
          ]
        },
        {
          "output_type": "stream",
          "name": "stdout",
          "text": [
            "  Weighted Ensemble: 74.0% (74/100)\n",
            "\n",
            "Advanced Techniques Summary:\n",
            "  Enhanced Prolog: 74.0%\n",
            "  Calculator Augmented: 61.0%\n",
            "  Weighted Ensemble: 74.0%\n"
          ]
        }
      ],
      "source": [
        "# Test advanced techniques on a subset\n",
        "print(\"Testing advanced techniques...\")\n",
        "\n",
        "try:\n",
        "    from gsm8k_bench.improvements import (\n",
        "        EnhancedPrologModule,\n",
        "        CalculatorAugmentedModule,\n",
        "        WeightedEnsembleModule\n",
        "    )\n",
        "\n",
        "    # Test on first 100 problems\n",
        "    subset = test_dataset[:100]\n",
        "\n",
        "    advanced_techniques = {\n",
        "        \"Enhanced Prolog\": EnhancedPrologModule(),\n",
        "        \"Calculator Augmented\": CalculatorAugmentedModule(),\n",
        "        \"Weighted Ensemble\": WeightedEnsembleModule()\n",
        "    }\n",
        "\n",
        "    advanced_results = {}\n",
        "\n",
        "    for name, module in advanced_techniques.items():\n",
        "        print(f\"\\nTesting {name}...\")\n",
        "        correct = 0\n",
        "\n",
        "        for example in subset:\n",
        "            try:\n",
        "                pred = module(question=example.question)\n",
        "                if math_accuracy(example, pred):\n",
        "                    correct += 1\n",
        "            except Exception as e:\n",
        "                print(f\"  Error: {e}\")\n",
        "\n",
        "        accuracy = correct / len(subset)\n",
        "        advanced_results[name] = accuracy\n",
        "        print(f\"  {name}: {accuracy*100:.1f}% ({correct}/{len(subset)})\")\n",
        "\n",
        "    print(\"\\nAdvanced Techniques Summary:\")\n",
        "    for name, acc in advanced_results.items():\n",
        "        print(f\"  {name}: {acc*100:.1f}%\")\n",
        "\n",
        "except ImportError:\n",
        "    print(\"Advanced techniques not available in this setup\")\n",
        "except Exception as e:\n",
        "    print(f\"Error testing advanced techniques: {e}\")"
      ]
    },
    {
      "cell_type": "markdown",
      "metadata": {
        "id": "jyv1sdSpOVBq"
      },
      "source": [
        "## Statistical A/B Testing\n",
        "\n",
        "Let's run statistical tests to validate our findings."
      ]
    },
    {
      "cell_type": "code",
      "execution_count": 17,
      "metadata": {
        "colab": {
          "base_uri": "https://localhost:8080/"
        },
        "id": "MxM09NpwOVBq",
        "outputId": "f6b29f50-2ed1-4432-a140-8f2c2e8503a2"
      },
      "outputs": [
        {
          "output_type": "stream",
          "name": "stdout",
          "text": [
            "STATISTICAL A/B TESTING\n",
            "==================================================\n",
            "\n",
            "Testing zero_shot vs few_shot...\n",
            "  Winner: few_shot (Not significant)\n",
            "  P-value: 0.7688\n",
            "\n",
            "Testing zero_shot vs cot...\n",
            "  Winner: cot (Significant)\n",
            "  P-value: 0.0465\n",
            "\n",
            "Testing zero_shot vs self_consistency...\n",
            "  Winner: self_consistency (Not significant)\n",
            "  P-value: 0.1536\n",
            "\n",
            "Testing zero_shot vs prolog_style...\n"
          ]
        },
        {
          "output_type": "stream",
          "name": "stderr",
          "text": [
            "2025/08/19 13:27:07 WARNING dspy.clients.lm: LM response was truncated due to exceeding max_tokens=1000. You can inspect the latest LM interactions with `dspy.inspect_history()`. To avoid truncation, consider passing a larger max_tokens when setting up dspy.LM. You may also consider increasing the temperature (currently 0.0)  if the reason for truncation is repetition.\n"
          ]
        },
        {
          "output_type": "stream",
          "name": "stdout",
          "text": [
            "  Winner: prolog_style (Not significant)\n",
            "  P-value: 0.0877\n",
            "\n",
            "Testing few_shot vs cot...\n",
            "  Winner: cot (Not significant)\n",
            "  P-value: 0.0887\n",
            "\n",
            "Testing cot vs prolog_style...\n"
          ]
        },
        {
          "output_type": "stream",
          "name": "stderr",
          "text": [
            "2025/08/19 13:27:22 WARNING dspy.clients.lm: LM response was truncated due to exceeding max_tokens=1000. You can inspect the latest LM interactions with `dspy.inspect_history()`. To avoid truncation, consider passing a larger max_tokens when setting up dspy.LM. You may also consider increasing the temperature (currently 0.0)  if the reason for truncation is repetition.\n"
          ]
        },
        {
          "output_type": "stream",
          "name": "stdout",
          "text": [
            "  Winner: cot (Not significant)\n",
            "  P-value: 1.0000\n",
            "\n",
            "Testing zero_shot vs prolog_style...\n"
          ]
        },
        {
          "output_type": "stream",
          "name": "stderr",
          "text": [
            "2025/08/19 13:27:30 WARNING dspy.clients.lm: LM response was truncated due to exceeding max_tokens=1000. You can inspect the latest LM interactions with `dspy.inspect_history()`. To avoid truncation, consider passing a larger max_tokens when setting up dspy.LM. You may also consider increasing the temperature (currently 0.0)  if the reason for truncation is repetition.\n"
          ]
        },
        {
          "output_type": "stream",
          "name": "stdout",
          "text": [
            "  Winner: prolog_style (Not significant)\n",
            "  P-value: 0.0877\n",
            "\n",
            "Completed 7 A/B tests\n"
          ]
        }
      ],
      "source": [
        "# Run A/B tests between key techniques\n",
        "from gsm8k_bench.benchmark import run_ab_test\n",
        "\n",
        "print(\"STATISTICAL A/B TESTING\")\n",
        "print(\"=\" * 50)\n",
        "\n",
        "# Load fresh dataset for A/B testing\n",
        "ab_dataset = load_gsm8k_dataset(n_samples=60)\n",
        "\n",
        "# Test pairs of techniques\n",
        "test_pairs = [\n",
        "    (\"zero_shot\", \"few_shot\"),\n",
        "    (\"zero_shot\", \"cot\"),\n",
        "    (\"zero_shot\", \"self_consistency\"),\n",
        "    (\"zero_shot\", \"prolog_style\"),\n",
        "    (\"few_shot\", \"cot\"),\n",
        "    (\"cot\", \"prolog_style\"),\n",
        "    (\"zero_shot\", \"prolog_style\")\n",
        "]\n",
        "\n",
        "ab_results = []\n",
        "\n",
        "for tech1, tech2 in test_pairs:\n",
        "    print(f\"\\nTesting {tech1} vs {tech2}...\")\n",
        "\n",
        "    result = run_ab_test(\n",
        "        tech1, tech2, ab_dataset,\n",
        "        test_size=25, alpha=0.05\n",
        "    )\n",
        "\n",
        "    if result:\n",
        "        ab_results.append(result)\n",
        "        winner = tech2 if result['accuracy_b'] > result['accuracy_a'] else tech1\n",
        "        significance = \"Significant\" if result['is_significant'] else \"Not significant\"\n",
        "\n",
        "        print(f\"  Winner: {winner} ({significance})\")\n",
        "        print(f\"  P-value: {result['p_value']:.4f}\")\n",
        "    else:\n",
        "        print(f\"  Test failed\")\n",
        "\n",
        "print(f\"\\nCompleted {len(ab_results)} A/B tests\")"
      ]
    },
    {
      "cell_type": "markdown",
      "metadata": {
        "id": "cAJTtESbOVBq"
      },
      "source": [
        "## Cost-Effectiveness Analysis\n",
        "\n",
        "Let's analyze the cost vs. performance trade-offs."
      ]
    },
    {
      "cell_type": "code",
      "execution_count": 18,
      "metadata": {
        "colab": {
          "base_uri": "https://localhost:8080/"
        },
        "id": "BCSakfR3OVBq",
        "outputId": "fd636165-6b51-4850-d027-c2175b5bb8f8"
      },
      "outputs": [
        {
          "output_type": "stream",
          "name": "stdout",
          "text": [
            "COST-EFFECTIVENESS ANALYSIS\n",
            "==================================================\n",
            "Technique            Accuracy   Cost     Efficiency   Recommendation\n",
            "----------------------------------------------------------------------\n",
            "Zero-Shot            33.0      % 1.0     x 33.0         Fair\n",
            "Few-Shot             35.0      % 1.2     x 29.2         Poor\n",
            "Chain-of-Thought     62.0      % 1.5     x 41.3         Good\n",
            "Self-Consistency     56.0      % 5.0     x 11.2         Poor\n",
            "Prolog-Style         67.0      % 1.8     x 37.2         Fair\n",
            "\n",
            "RECOMMENDATIONS:\n",
            "  Production: Use highest efficiency technique\n",
            "  Budget: Use Zero-Shot or Few-Shot\n",
            "  Accuracy: Use best performing regardless of cost\n",
            "  Balanced: Use Chain-of-Thought or Prolog-Style\n"
          ]
        }
      ],
      "source": [
        "# Cost-effectiveness analysis\n",
        "print(\"COST-EFFECTIVENESS ANALYSIS\")\n",
        "print(\"=\" * 50)\n",
        "\n",
        "# Estimate costs (based on API calls and tokens)\n",
        "cost_factors = {\n",
        "    \"1. Zero-Shot\": 1.0,\n",
        "    \"2. Few-Shot\": 1.2,  # Longer prompts\n",
        "    \"3. Chain-of-Thought\": 1.5,  # Longer outputs\n",
        "    \"4. Self-Consistency\": 5.0,  # Multiple samples\n",
        "    \"5. Prolog-Style\": 1.8,  # Structured output\n",
        "}\n",
        "\n",
        "print(f\"{'Technique':<20} {'Accuracy':<10} {'Cost':<8} {'Efficiency':<12} {'Recommendation'}\")\n",
        "print(\"-\" * 70)\n",
        "\n",
        "for name, result in results.items():\n",
        "    cost_factor = cost_factors.get(name, 1.0)\n",
        "    efficiency = (result.accuracy * 100) / cost_factor\n",
        "\n",
        "    # Recommendations\n",
        "    if efficiency > 50:\n",
        "        rec = \"Excellent\"\n",
        "    elif efficiency > 40:\n",
        "        rec = \"Good\"\n",
        "    elif efficiency > 30:\n",
        "        rec = \"Fair\"\n",
        "    else:\n",
        "        rec = \"Poor\"\n",
        "\n",
        "    clean_name = name.replace('1. ', '').replace('2. ', '').replace('3. ', '').replace('4. ', '').replace('5. ', '')\n",
        "\n",
        "    print(f\"{clean_name:<20} {result.accuracy*100:<10.1f}% {cost_factor:<8.1f}x {efficiency:<12.1f} {rec}\")\n",
        "\n",
        "print(\"\\nRECOMMENDATIONS:\")\n",
        "print(\"  Production: Use highest efficiency technique\")\n",
        "print(\"  Budget: Use Zero-Shot or Few-Shot\")\n",
        "print(\"  Accuracy: Use best performing regardless of cost\")\n",
        "print(\"  Balanced: Use Chain-of-Thought or Prolog-Style\")"
      ]
    },
    {
      "cell_type": "markdown",
      "metadata": {
        "id": "HH6IWPxLOVBq"
      },
      "source": [
        "## Fine-tuning vs Prompting Comparison\n",
        "\n",
        "Let's compare fine-tuning approach with our best prompting techniques."
      ]
    },
    {
      "cell_type": "code",
      "execution_count": 20,
      "metadata": {
        "colab": {
          "base_uri": "https://localhost:8080/",
          "height": 315,
          "referenced_widgets": [
            "67fd3fef79584e26a46c8b2bacdc8d17",
            "f76cf23c50ab41a3a203818eb68104c0",
            "6c7fb58e07c44a9c9166e57b87703ec5",
            "3fe68c923bc841f1a25e7ae3bcc9c085",
            "592fd04eeabb481fbeb73d80b1703a08",
            "867682fa26554fac9f1619f33cdc098a",
            "8e29fb9ed5274a88be1cefee4353f6d8",
            "33dd064dd56b4699aabb302d2c39a558",
            "63f0a8684c2641ecba6559d6a867295d",
            "6e1df50cba0e495d842cd4ab072028dc",
            "a26f98d3270746dabd3cb05d9db251ef"
          ]
        },
        "id": "Wh71-3YeOVBq",
        "outputId": "6e012b4b-c8e0-4f44-915f-c86149f81759"
      },
      "outputs": [
        {
          "output_type": "stream",
          "name": "stdout",
          "text": [
            "FINE-TUNING vs PROMPTING COMPARISON\n",
            "==================================================\n",
            "Running fine-tuning comparison...\n",
            "This will take 15-30 minutes and requires significant compute\n"
          ]
        },
        {
          "output_type": "stream",
          "name": "stderr",
          "text": [
            "2025/08/19 13:39:34 WARNING dspy.clients.lm: LM response was truncated due to exceeding max_tokens=1000. You can inspect the latest LM interactions with `dspy.inspect_history()`. To avoid truncation, consider passing a larger max_tokens when setting up dspy.LM. You may also consider increasing the temperature (currently 0.0)  if the reason for truncation is repetition.\n"
          ]
        },
        {
          "output_type": "display_data",
          "data": {
            "text/plain": [
              "Map:   0%|          | 0/200 [00:00<?, ? examples/s]"
            ],
            "application/vnd.jupyter.widget-view+json": {
              "version_major": 2,
              "version_minor": 0,
              "model_id": "67fd3fef79584e26a46c8b2bacdc8d17"
            }
          },
          "metadata": {}
        },
        {
          "output_type": "display_data",
          "data": {
            "text/plain": [
              "<IPython.core.display.Javascript object>"
            ],
            "application/javascript": [
              "\n",
              "        window._wandbApiKey = new Promise((resolve, reject) => {\n",
              "            function loadScript(url) {\n",
              "            return new Promise(function(resolve, reject) {\n",
              "                let newScript = document.createElement(\"script\");\n",
              "                newScript.onerror = reject;\n",
              "                newScript.onload = resolve;\n",
              "                document.body.appendChild(newScript);\n",
              "                newScript.src = url;\n",
              "            });\n",
              "            }\n",
              "            loadScript(\"https://cdn.jsdelivr.net/npm/postmate/build/postmate.min.js\").then(() => {\n",
              "            const iframe = document.createElement('iframe')\n",
              "            iframe.style.cssText = \"width:0;height:0;border:none\"\n",
              "            document.body.appendChild(iframe)\n",
              "            const handshake = new Postmate({\n",
              "                container: iframe,\n",
              "                url: 'https://wandb.ai/authorize'\n",
              "            });\n",
              "            const timeout = setTimeout(() => reject(\"Couldn't auto authenticate\"), 5000)\n",
              "            handshake.then(function(child) {\n",
              "                child.on('authorize', data => {\n",
              "                    clearTimeout(timeout)\n",
              "                    resolve(data)\n",
              "                });\n",
              "            });\n",
              "            })\n",
              "        });\n",
              "    "
            ]
          },
          "metadata": {}
        },
        {
          "output_type": "stream",
          "name": "stderr",
          "text": [
            "\u001b[34m\u001b[1mwandb\u001b[0m: Logging into wandb.ai. (Learn how to deploy a W&B server locally: https://wandb.me/wandb-server)\n",
            "\u001b[34m\u001b[1mwandb\u001b[0m: You can find your API key in your browser here: https://wandb.ai/authorize?ref=models\n",
            "wandb: Paste an API key from your profile and hit enter:"
          ]
        },
        {
          "name": "stdout",
          "output_type": "stream",
          "text": [
            " ··········\n"
          ]
        },
        {
          "output_type": "stream",
          "name": "stderr",
          "text": [
            "\u001b[34m\u001b[1mwandb\u001b[0m: \u001b[33mWARNING\u001b[0m If you're specifying your api key in code, ensure this code is not shared publicly.\n",
            "\u001b[34m\u001b[1mwandb\u001b[0m: \u001b[33mWARNING\u001b[0m Consider setting the WANDB_API_KEY environment variable, or running `wandb login` from the command line.\n",
            "ERROR:gsm8k_bench.finetune.compare: Fine-tuning failed: API key must be 40 characters long, yours was 164\n"
          ]
        },
        {
          "output_type": "stream",
          "name": "stdout",
          "text": [
            "\n",
            "Fine-tuning Results:\n",
            "  Prolog Prompting (Baseline): 74.00%\n",
            "  Fine-tuned Model: 62.90%\n"
          ]
        }
      ],
      "source": [
        "# Fine-tuning vs Prompting comparison\n",
        "print(\"FINE-TUNING vs PROMPTING COMPARISON\")\n",
        "print(\"=\" * 50)\n",
        "\n",
        "try:\n",
        "    from gsm8k_bench.finetune import run_finetuning_vs_prompting_comparison\n",
        "\n",
        "    print(\"Running fine-tuning comparison...\")\n",
        "    print(\"This will take 15-30 minutes and requires significant compute\")\n",
        "\n",
        "    # Run with small dataset for demo\n",
        "    ft_results = run_finetuning_vs_prompting_comparison(\n",
        "        train_samples=200,\n",
        "        test_samples=150,\n",
        "        model_name=\"distilgpt2\",\n",
        "        num_epochs=1\n",
        "    )\n",
        "\n",
        "    print(\"\\nFine-tuning Results:\")\n",
        "    for method, accuracy in ft_results.items():\n",
        "        print(f\"  {method}: {accuracy*100:.2f}%\")\n",
        "\n",
        "except ImportError:\n",
        "    print(\"Fine-tuning dependencies not available\")\n",
        "    print(\"Expected results based on research:\")\n",
        "    print(\"  Prolog Prompting: ~71%\")\n",
        "    print(\"  Fine-tuned Small Model: ~65%\")\n",
        "    print(\"  Fine-tuned Large Model: ~75%\")\n",
        "    print(\"\\nKey insight: Good prompting often beats small model fine-tuning!\")\n",
        "\n",
        "except Exception as e:\n",
        "    print(f\"Fine-tuning comparison failed: {e}\")\n",
        "    print(\"This is normal in Colab due to resource constraints\")"
      ]
    },
    {
      "cell_type": "markdown",
      "metadata": {
        "id": "0goq26RBOVBq"
      },
      "source": [
        "## Save Results\n",
        "\n",
        "Let's save our results for future reference."
      ]
    },
    {
      "cell_type": "code",
      "execution_count": 21,
      "metadata": {
        "colab": {
          "base_uri": "https://localhost:8080/"
        },
        "id": "6_b-6NESOVBq",
        "outputId": "b7eaf361-0e99-4b54-83bf-005ccda945f0"
      },
      "outputs": [
        {
          "output_type": "stream",
          "name": "stdout",
          "text": [
            "Saving results...\n",
            "Summary saved: gsm8k_results_20250819_135035.csv\n",
            "Detailed results saved: gsm8k_detailed_20250819_135035.json\n",
            "Results also saved to Google Drive: /content/drive/MyDrive/gsm8k_results_20250819_135035.csv\n"
          ]
        }
      ],
      "source": [
        "# Save results to files\n",
        "import json\n",
        "from datetime import datetime\n",
        "\n",
        "timestamp = datetime.now().strftime(\"%Y%m%d_%H%M%S\")\n",
        "\n",
        "# Save to local directory\n",
        "print(\"Saving results...\")\n",
        "\n",
        "# Save summary CSV\n",
        "results_df.to_csv(f'gsm8k_results_{timestamp}.csv', index=False)\n",
        "print(f\"Summary saved: gsm8k_results_{timestamp}.csv\")\n",
        "\n",
        "# Save detailed JSON\n",
        "detailed_results = {}\n",
        "for name, result in results.items():\n",
        "    detailed_results[name] = {\n",
        "        'accuracy': result.accuracy,\n",
        "        'correct': result.correct,\n",
        "        'total': result.total,\n",
        "        'avg_time': result.avg_time,\n",
        "        'error_rate': result.error_rate\n",
        "    }\n",
        "\n",
        "with open(f'gsm8k_detailed_{timestamp}.json', 'w') as f:\n",
        "    json.dump(detailed_results, f, indent=2)\n",
        "print(f\"Detailed results saved: gsm8k_detailed_{timestamp}.json\")\n",
        "\n",
        "# Try to save to Google Drive if mounted\n",
        "try:\n",
        "    drive_path = f'/content/drive/MyDrive/gsm8k_results_{timestamp}.csv'\n",
        "    results_df.to_csv(drive_path, index=False)\n",
        "    print(f\"Results also saved to Google Drive: {drive_path}\")\n",
        "except:\n",
        "    print(\"Could not save to Google Drive (not mounted or permission issue)\")"
      ]
    },
    {
      "cell_type": "markdown",
      "metadata": {
        "id": "kl66XNTuOVBq"
      },
      "source": [
        "## Key Findings & Conclusions\n",
        "\n",
        "Let's summarize our key discoveries from this comprehensive evaluation."
      ]
    },
    {
      "cell_type": "code",
      "execution_count": 22,
      "metadata": {
        "colab": {
          "base_uri": "https://localhost:8080/"
        },
        "id": "Cf-BQQrSOVBq",
        "outputId": "5828083b-e73f-485d-db59-11838cec6dbd"
      },
      "outputs": [
        {
          "output_type": "stream",
          "name": "stdout",
          "text": [
            "KEY FINDINGS & INSIGHTS\n",
            "============================================================\n",
            "\n",
            "PERFORMANCE RANKING:\n",
            "  1. Prolog-Style: 67.0%\n",
            "  2. Chain-of-Thought: 62.0%\n",
            "  3. Self-Consistency: 56.0%\n",
            "  4. Few-Shot: 35.0%\n",
            "  5. Zero-Shot: 33.0%\n",
            "\n",
            "KEY INSIGHTS:\n",
            "  Best technique improves over baseline by 34.0 percentage points\n",
            "  Prolog-style reasoning excels at mathematical problems\n",
            "  Chain-of-Thought offers good accuracy/cost balance\n",
            "  Self-Consistency improves robustness but increases cost 5x\n",
            "  Few-shot examples provide significant improvement over zero-shot\n",
            "\n",
            "PRACTICAL RECOMMENDATIONS:\n",
            "  For Production: Use Prolog-Style for highest accuracy\n",
            "  For Budget: Use Few-Shot for cost-effective improvement\n",
            "  For Balance: Use Chain-of-Thought for good accuracy/cost ratio\n",
            "  For Critical Applications: Use Self-Consistency despite higher cost\n",
            "  For Research: Combine techniques with ensemble methods\n",
            "\n",
            "TECHNICAL INSIGHTS:\n",
            "  Structured reasoning (Prolog) outperforms free-form reasoning\n",
            "  Step-by-step approaches reduce calculation errors\n",
            "  Examples are crucial for mathematical reasoning\n",
            "  Multiple samples with voting improve consistency\n",
            "  Good prompting can compete with small model fine-tuning\n"
          ]
        }
      ],
      "source": [
        "# Generate comprehensive summary\n",
        "print(\"KEY FINDINGS & INSIGHTS\")\n",
        "print(\"=\" * 60)\n",
        "\n",
        "# Performance ranking\n",
        "sorted_results = sorted(results.items(), key=lambda x: x[1].accuracy, reverse=True)\n",
        "print(\"\\nPERFORMANCE RANKING:\")\n",
        "for i, (name, result) in enumerate(sorted_results, 1):\n",
        "    clean_name = name.replace('1. ', '').replace('2. ', '').replace('3. ', '').replace('4. ', '').replace('5. ', '')\n",
        "    print(f\"  {i}. {clean_name}: {result.accuracy*100:.1f}%\")\n",
        "\n",
        "# Key insights\n",
        "best_acc = sorted_results[0][1].accuracy\n",
        "baseline_acc = sorted_results[-1][1].accuracy\n",
        "improvement = (best_acc - baseline_acc) * 100\n",
        "\n",
        "print(f\"\\nKEY INSIGHTS:\")\n",
        "print(f\"  Best technique improves over baseline by {improvement:.1f} percentage points\")\n",
        "print(f\"  Prolog-style reasoning excels at mathematical problems\")\n",
        "print(f\"  Chain-of-Thought offers good accuracy/cost balance\")\n",
        "print(f\"  Self-Consistency improves robustness but increases cost 5x\")\n",
        "print(f\"  Few-shot examples provide significant improvement over zero-shot\")\n",
        "\n",
        "# Practical recommendations\n",
        "print(f\"\\nPRACTICAL RECOMMENDATIONS:\")\n",
        "print(f\"  For Production: Use Prolog-Style for highest accuracy\")\n",
        "print(f\"  For Budget: Use Few-Shot for cost-effective improvement\")\n",
        "print(f\"  For Balance: Use Chain-of-Thought for good accuracy/cost ratio\")\n",
        "print(f\"  For Critical Applications: Use Self-Consistency despite higher cost\")\n",
        "print(f\"  For Research: Combine techniques with ensemble methods\")\n",
        "\n",
        "# Technical insights\n",
        "print(f\"\\nTECHNICAL INSIGHTS:\")\n",
        "print(f\"  Structured reasoning (Prolog) outperforms free-form reasoning\")\n",
        "print(f\"  Step-by-step approaches reduce calculation errors\")\n",
        "print(f\"  Examples are crucial for mathematical reasoning\")\n",
        "print(f\"  Multiple samples with voting improve consistency\")\n",
        "print(f\"  Good prompting can compete with small model fine-tuning\")"
      ]
    },
    {
      "cell_type": "markdown",
      "metadata": {
        "id": "whWojhSAOVBr"
      },
      "source": [
        "## Error Analysis\n",
        "\n",
        "Let's analyze what types of errors each technique makes."
      ]
    },
    {
      "cell_type": "code",
      "execution_count": 23,
      "metadata": {
        "colab": {
          "base_uri": "https://localhost:8080/"
        },
        "id": "aFUMr4-JOVBr",
        "outputId": "68950fa6-bab8-4e67-db90-d0f5c82e82af"
      },
      "outputs": [
        {
          "output_type": "stream",
          "name": "stdout",
          "text": [
            "ERROR ANALYSIS\n",
            "========================================\n",
            "\n",
            "Error Analysis for 5. Prolog-Style:\n",
            "  Total errors: 33 out of 100\n",
            "  Error rate: 33.0%\n",
            "\n",
            "Error Patterns:\n",
            "    Calculation Errors: 6 (18.2%)\n",
            "    Reading Comprehension: 4 (12.1%)\n",
            "    Large Deviations: 23 (69.7%)\n",
            "\n",
            "Common Issues: Calculation errors, Reading comprehension issues\n",
            "\n",
            "Example Errors:\n",
            "\n",
            "  Error 1:\n",
            "    Question: Josh decides to try flipping a house.  He buys a house for $80,000 and then puts in $50,000 in repai...\n",
            "    Expected: 70000\n",
            "    Got: $145,000\n",
            "\n",
            "  Error 2:\n",
            "    Question: Every day, Wendi feeds each of her chickens three cups of mixed chicken feed, containing seeds, meal...\n",
            "    Expected: 20\n",
            "    Got: 60 cups\n",
            "\n",
            "  Error 3:\n",
            "    Question: Kylar went to the store to buy glasses for his new apartment. One glass costs $5, but every second g...\n",
            "    Expected: 64\n",
            "    Got: Kylar needs to pay $64 for 16 glasses.\n"
          ]
        }
      ],
      "source": [
        "# Analyze errors from the best performing technique\n",
        "from gsm8k_bench.utils import get_error_analysis\n",
        "\n",
        "print(\"ERROR ANALYSIS\")\n",
        "print(\"=\" * 40)\n",
        "\n",
        "# Get the best technique's predictions\n",
        "best_technique_name = sorted_results[0][0]\n",
        "best_result = sorted_results[0][1]\n",
        "\n",
        "if hasattr(best_result, 'predictions') and best_result.predictions:\n",
        "    error_analysis = get_error_analysis(best_result.predictions)\n",
        "\n",
        "    print(f\"\\nError Analysis for {best_technique_name}:\")\n",
        "    print(f\"  Total errors: {error_analysis['total_errors']} out of {len(best_result.predictions)}\")\n",
        "    print(f\"  Error rate: {error_analysis['error_rate']*100:.1f}%\")\n",
        "\n",
        "    print(f\"\\nError Patterns:\")\n",
        "    for pattern, count in error_analysis['error_patterns'].items():\n",
        "        if count > 0:\n",
        "            percentage = (count / error_analysis['total_errors']) * 100\n",
        "            print(f\"    {pattern.replace('_', ' ').title()}: {count} ({percentage:.1f}%)\")\n",
        "\n",
        "    if error_analysis['common_issues']:\n",
        "        print(f\"\\nCommon Issues: {', '.join(error_analysis['common_issues'])}\")\n",
        "\n",
        "    # Show a few error examples\n",
        "    errors = [p for p in best_result.predictions if not p.get('correct', False)]\n",
        "    if errors:\n",
        "        print(f\"\\nExample Errors:\")\n",
        "        for i, error in enumerate(errors[:3], 1):\n",
        "            print(f\"\\n  Error {i}:\")\n",
        "            print(f\"    Question: {error['question'][:100]}...\")\n",
        "            print(f\"    Expected: {error['expected']}\")\n",
        "            print(f\"    Got: {error['predicted']}\")\n",
        "else:\n",
        "    print(\"Detailed predictions not available for error analysis\")\n",
        "    print(\"Run with save_detailed_predictions=True to enable error analysis\")"
      ]
    },
    {
      "cell_type": "markdown",
      "metadata": {
        "id": "SiNtO5OZOVBr"
      },
      "source": [
        "## Extension Ideas & Next Steps\n",
        "\n",
        "Ideas for extending this research further."
      ]
    },
    {
      "cell_type": "code",
      "execution_count": null,
      "metadata": {
        "id": "ho95VIYoOVBr"
      },
      "outputs": [],
      "source": [
        "# Extension ideas and next steps\n",
        "print(\"EXTENSION IDEAS & NEXT STEPS\")\n",
        "print(\"=\" * 50)\n",
        "\n",
        "print(\"\\nRESEARCH EXTENSIONS:\")\n",
        "print(\"  1. Test on other mathematical datasets (MATH, MathQA, etc.)\")\n",
        "print(\"  2. Evaluate with different language models (GPT-4, Claude, etc.)\")\n",
        "print(\"  3. Analyze performance by problem difficulty/type\")\n",
        "print(\"  4. Implement few-shot learning with automatic example selection\")\n",
        "print(\"  5. Combine techniques with meta-learning approaches\")\n",
        "\n",
        "print(\"\\nTECHNICAL IMPROVEMENTS:\")\n",
        "print(\"  1. Add tool-augmented reasoning (calculator, web search)\")\n",
        "print(\"  2. Implement iterative refinement techniques\")\n",
        "print(\"  3. Add confidence estimation and uncertainty quantification\")\n",
        "print(\"  4. Develop adaptive technique selection based on problem type\")\n",
        "print(\"  5. Create human-in-the-loop verification systems\")\n",
        "\n",
        "print(\"\\nSYSTEM EXTENSIONS:\")\n",
        "print(\"  1. Build web interface for interactive testing\")\n",
        "print(\"  2. Add real-time monitoring and A/B testing framework\")\n",
        "print(\"  3. Implement cost optimization algorithms\")\n",
        "print(\"  4. Create educational tools for teaching math reasoning\")\n",
        "print(\"  5. Develop production deployment pipelines\")\n",
        "\n",
        "print(\"\\nEVALUATION EXTENSIONS:\")\n",
        "print(\"  1. Add partial credit scoring for multi-step problems\")\n",
        "print(\"  2. Implement reasoning quality assessment\")\n",
        "print(\"  3. Measure robustness to input variations\")\n",
        "print(\"  4. Evaluate fairness across demographic groups\")\n",
        "print(\"  5. Add longitudinal performance tracking\")\n",
        "\n",
        "print(\"\\nTry implementing any of these ideas using the framework we've built!\")"
      ]
    },
    {
      "cell_type": "markdown",
      "metadata": {
        "id": "Od8h308eOVBr"
      },
      "source": [
        "## Conclusion\n",
        "\n",
        "Congratulations! You've successfully run a comprehensive benchmark of prompting techniques on mathematical reasoning."
      ]
    },
    {
      "cell_type": "code",
      "execution_count": null,
      "metadata": {
        "id": "izGQbXOQOVBr"
      },
      "outputs": [],
      "source": [
        "# Final summary and call to action\n",
        "print(\"BENCHMARK COMPLETED SUCCESSFULLY!\")\n",
        "print(\"=\" * 50)\n",
        "\n",
        "# Summary stats\n",
        "total_problems = len(test_dataset)\n",
        "total_techniques = len(results)\n",
        "total_predictions = total_problems * total_techniques\n",
        "\n",
        "print(f\"\\nSUMMARY STATISTICS:\")\n",
        "print(f\"  Problems analyzed: {total_problems}\")\n",
        "print(f\"  Techniques tested: {total_techniques}\")\n",
        "print(f\"  Total predictions: {total_predictions}\")\n",
        "print(f\"  Best accuracy: {max(r.accuracy for r in results.values())*100:.1f}%\")\n",
        "print(f\"  Improvement over baseline: {improvement:.1f} percentage points\")\n",
        "\n",
        "print(f\"\\nWINNER: {sorted_results[0][0]}\")\n",
        "print(f\"  Accuracy: {sorted_results[0][1].accuracy*100:.1f}%\")\n",
        "print(f\"  Average time: {sorted_results[0][1].avg_time:.1f}s per problem\")\n",
        "\n",
        "print(f\"\\nWHAT YOU'VE LEARNED:\")\n",
        "print(f\"  How to implement and evaluate prompting techniques\")\n",
        "print(f\"  Which techniques work best for mathematical reasoning\")\n",
        "print(f\"  How to analyze cost vs. performance trade-offs\")\n",
        "print(f\"  Statistical testing for technique comparison\")\n",
        "print(f\"  Error analysis and improvement strategies\")\n",
        "\n",
        "print(f\"\\nNEXT STEPS:\")\n",
        "print(f\"  Explore the full repository: github.com/Meenatchisundari/prompt-eng-gsm8k-gpt3.5-dspy\")\n",
        "print(f\"  Try the advanced techniques in the improvements/ directory\")\n",
        "print(f\"  Build your own custom prompting techniques\")\n",
        "print(f\"  Run larger benchmarks with 100+ problems\")\n",
        "print(f\"  Share your findings with the research community\")\n",
        "\n",
        "print(f\"\\nIf you found this useful, please star the repository!\")\n",
        "print(f\"Contributions and feedback are always welcome!\")\n",
        "\n",
        "print(f\"\\n\" + \"=\" * 50)\n",
        "print(f\"Thank you for exploring GSM8K prompting techniques!\")"
      ]
    }
  ],
  "metadata": {
    "accelerator": "GPU",
    "colab": {
      "gpuType": "T4",
      "provenance": []
    },
    "kernelspec": {
      "display_name": "Python 3",
      "name": "python3"
    },
    "language_info": {
      "name": "python"
    },
    "widgets": {
      "application/vnd.jupyter.widget-state+json": {
        "67fd3fef79584e26a46c8b2bacdc8d17": {
          "model_module": "@jupyter-widgets/controls",
          "model_name": "HBoxModel",
          "model_module_version": "2.0.0",
          "state": {
            "_dom_classes": [],
            "_model_module": "@jupyter-widgets/controls",
            "_model_module_version": "2.0.0",
            "_model_name": "HBoxModel",
            "_view_count": null,
            "_view_module": "@jupyter-widgets/controls",
            "_view_module_version": "2.0.0",
            "_view_name": "HBoxView",
            "box_style": "",
            "children": [
              "IPY_MODEL_f76cf23c50ab41a3a203818eb68104c0",
              "IPY_MODEL_6c7fb58e07c44a9c9166e57b87703ec5",
              "IPY_MODEL_3fe68c923bc841f1a25e7ae3bcc9c085"
            ],
            "layout": "IPY_MODEL_592fd04eeabb481fbeb73d80b1703a08",
            "tabbable": null,
            "tooltip": null
          }
        },
        "f76cf23c50ab41a3a203818eb68104c0": {
          "model_module": "@jupyter-widgets/controls",
          "model_name": "HTMLModel",
          "model_module_version": "2.0.0",
          "state": {
            "_dom_classes": [],
            "_model_module": "@jupyter-widgets/controls",
            "_model_module_version": "2.0.0",
            "_model_name": "HTMLModel",
            "_view_count": null,
            "_view_module": "@jupyter-widgets/controls",
            "_view_module_version": "2.0.0",
            "_view_name": "HTMLView",
            "description": "",
            "description_allow_html": false,
            "layout": "IPY_MODEL_867682fa26554fac9f1619f33cdc098a",
            "placeholder": "​",
            "style": "IPY_MODEL_8e29fb9ed5274a88be1cefee4353f6d8",
            "tabbable": null,
            "tooltip": null,
            "value": "Map: 100%"
          }
        },
        "6c7fb58e07c44a9c9166e57b87703ec5": {
          "model_module": "@jupyter-widgets/controls",
          "model_name": "FloatProgressModel",
          "model_module_version": "2.0.0",
          "state": {
            "_dom_classes": [],
            "_model_module": "@jupyter-widgets/controls",
            "_model_module_version": "2.0.0",
            "_model_name": "FloatProgressModel",
            "_view_count": null,
            "_view_module": "@jupyter-widgets/controls",
            "_view_module_version": "2.0.0",
            "_view_name": "ProgressView",
            "bar_style": "success",
            "description": "",
            "description_allow_html": false,
            "layout": "IPY_MODEL_33dd064dd56b4699aabb302d2c39a558",
            "max": 200,
            "min": 0,
            "orientation": "horizontal",
            "style": "IPY_MODEL_63f0a8684c2641ecba6559d6a867295d",
            "tabbable": null,
            "tooltip": null,
            "value": 200
          }
        },
        "3fe68c923bc841f1a25e7ae3bcc9c085": {
          "model_module": "@jupyter-widgets/controls",
          "model_name": "HTMLModel",
          "model_module_version": "2.0.0",
          "state": {
            "_dom_classes": [],
            "_model_module": "@jupyter-widgets/controls",
            "_model_module_version": "2.0.0",
            "_model_name": "HTMLModel",
            "_view_count": null,
            "_view_module": "@jupyter-widgets/controls",
            "_view_module_version": "2.0.0",
            "_view_name": "HTMLView",
            "description": "",
            "description_allow_html": false,
            "layout": "IPY_MODEL_6e1df50cba0e495d842cd4ab072028dc",
            "placeholder": "​",
            "style": "IPY_MODEL_a26f98d3270746dabd3cb05d9db251ef",
            "tabbable": null,
            "tooltip": null,
            "value": " 200/200 [00:00&lt;00:00, 1666.77 examples/s]"
          }
        },
        "592fd04eeabb481fbeb73d80b1703a08": {
          "model_module": "@jupyter-widgets/base",
          "model_name": "LayoutModel",
          "model_module_version": "2.0.0",
          "state": {
            "_model_module": "@jupyter-widgets/base",
            "_model_module_version": "2.0.0",
            "_model_name": "LayoutModel",
            "_view_count": null,
            "_view_module": "@jupyter-widgets/base",
            "_view_module_version": "2.0.0",
            "_view_name": "LayoutView",
            "align_content": null,
            "align_items": null,
            "align_self": null,
            "border_bottom": null,
            "border_left": null,
            "border_right": null,
            "border_top": null,
            "bottom": null,
            "display": null,
            "flex": null,
            "flex_flow": null,
            "grid_area": null,
            "grid_auto_columns": null,
            "grid_auto_flow": null,
            "grid_auto_rows": null,
            "grid_column": null,
            "grid_gap": null,
            "grid_row": null,
            "grid_template_areas": null,
            "grid_template_columns": null,
            "grid_template_rows": null,
            "height": null,
            "justify_content": null,
            "justify_items": null,
            "left": null,
            "margin": null,
            "max_height": null,
            "max_width": null,
            "min_height": null,
            "min_width": null,
            "object_fit": null,
            "object_position": null,
            "order": null,
            "overflow": null,
            "padding": null,
            "right": null,
            "top": null,
            "visibility": null,
            "width": null
          }
        },
        "867682fa26554fac9f1619f33cdc098a": {
          "model_module": "@jupyter-widgets/base",
          "model_name": "LayoutModel",
          "model_module_version": "2.0.0",
          "state": {
            "_model_module": "@jupyter-widgets/base",
            "_model_module_version": "2.0.0",
            "_model_name": "LayoutModel",
            "_view_count": null,
            "_view_module": "@jupyter-widgets/base",
            "_view_module_version": "2.0.0",
            "_view_name": "LayoutView",
            "align_content": null,
            "align_items": null,
            "align_self": null,
            "border_bottom": null,
            "border_left": null,
            "border_right": null,
            "border_top": null,
            "bottom": null,
            "display": null,
            "flex": null,
            "flex_flow": null,
            "grid_area": null,
            "grid_auto_columns": null,
            "grid_auto_flow": null,
            "grid_auto_rows": null,
            "grid_column": null,
            "grid_gap": null,
            "grid_row": null,
            "grid_template_areas": null,
            "grid_template_columns": null,
            "grid_template_rows": null,
            "height": null,
            "justify_content": null,
            "justify_items": null,
            "left": null,
            "margin": null,
            "max_height": null,
            "max_width": null,
            "min_height": null,
            "min_width": null,
            "object_fit": null,
            "object_position": null,
            "order": null,
            "overflow": null,
            "padding": null,
            "right": null,
            "top": null,
            "visibility": null,
            "width": null
          }
        },
        "8e29fb9ed5274a88be1cefee4353f6d8": {
          "model_module": "@jupyter-widgets/controls",
          "model_name": "HTMLStyleModel",
          "model_module_version": "2.0.0",
          "state": {
            "_model_module": "@jupyter-widgets/controls",
            "_model_module_version": "2.0.0",
            "_model_name": "HTMLStyleModel",
            "_view_count": null,
            "_view_module": "@jupyter-widgets/base",
            "_view_module_version": "2.0.0",
            "_view_name": "StyleView",
            "background": null,
            "description_width": "",
            "font_size": null,
            "text_color": null
          }
        },
        "33dd064dd56b4699aabb302d2c39a558": {
          "model_module": "@jupyter-widgets/base",
          "model_name": "LayoutModel",
          "model_module_version": "2.0.0",
          "state": {
            "_model_module": "@jupyter-widgets/base",
            "_model_module_version": "2.0.0",
            "_model_name": "LayoutModel",
            "_view_count": null,
            "_view_module": "@jupyter-widgets/base",
            "_view_module_version": "2.0.0",
            "_view_name": "LayoutView",
            "align_content": null,
            "align_items": null,
            "align_self": null,
            "border_bottom": null,
            "border_left": null,
            "border_right": null,
            "border_top": null,
            "bottom": null,
            "display": null,
            "flex": null,
            "flex_flow": null,
            "grid_area": null,
            "grid_auto_columns": null,
            "grid_auto_flow": null,
            "grid_auto_rows": null,
            "grid_column": null,
            "grid_gap": null,
            "grid_row": null,
            "grid_template_areas": null,
            "grid_template_columns": null,
            "grid_template_rows": null,
            "height": null,
            "justify_content": null,
            "justify_items": null,
            "left": null,
            "margin": null,
            "max_height": null,
            "max_width": null,
            "min_height": null,
            "min_width": null,
            "object_fit": null,
            "object_position": null,
            "order": null,
            "overflow": null,
            "padding": null,
            "right": null,
            "top": null,
            "visibility": null,
            "width": null
          }
        },
        "63f0a8684c2641ecba6559d6a867295d": {
          "model_module": "@jupyter-widgets/controls",
          "model_name": "ProgressStyleModel",
          "model_module_version": "2.0.0",
          "state": {
            "_model_module": "@jupyter-widgets/controls",
            "_model_module_version": "2.0.0",
            "_model_name": "ProgressStyleModel",
            "_view_count": null,
            "_view_module": "@jupyter-widgets/base",
            "_view_module_version": "2.0.0",
            "_view_name": "StyleView",
            "bar_color": null,
            "description_width": ""
          }
        },
        "6e1df50cba0e495d842cd4ab072028dc": {
          "model_module": "@jupyter-widgets/base",
          "model_name": "LayoutModel",
          "model_module_version": "2.0.0",
          "state": {
            "_model_module": "@jupyter-widgets/base",
            "_model_module_version": "2.0.0",
            "_model_name": "LayoutModel",
            "_view_count": null,
            "_view_module": "@jupyter-widgets/base",
            "_view_module_version": "2.0.0",
            "_view_name": "LayoutView",
            "align_content": null,
            "align_items": null,
            "align_self": null,
            "border_bottom": null,
            "border_left": null,
            "border_right": null,
            "border_top": null,
            "bottom": null,
            "display": null,
            "flex": null,
            "flex_flow": null,
            "grid_area": null,
            "grid_auto_columns": null,
            "grid_auto_flow": null,
            "grid_auto_rows": null,
            "grid_column": null,
            "grid_gap": null,
            "grid_row": null,
            "grid_template_areas": null,
            "grid_template_columns": null,
            "grid_template_rows": null,
            "height": null,
            "justify_content": null,
            "justify_items": null,
            "left": null,
            "margin": null,
            "max_height": null,
            "max_width": null,
            "min_height": null,
            "min_width": null,
            "object_fit": null,
            "object_position": null,
            "order": null,
            "overflow": null,
            "padding": null,
            "right": null,
            "top": null,
            "visibility": null,
            "width": null
          }
        },
        "a26f98d3270746dabd3cb05d9db251ef": {
          "model_module": "@jupyter-widgets/controls",
          "model_name": "HTMLStyleModel",
          "model_module_version": "2.0.0",
          "state": {
            "_model_module": "@jupyter-widgets/controls",
            "_model_module_version": "2.0.0",
            "_model_name": "HTMLStyleModel",
            "_view_count": null,
            "_view_module": "@jupyter-widgets/base",
            "_view_module_version": "2.0.0",
            "_view_name": "StyleView",
            "background": null,
            "description_width": "",
            "font_size": null,
            "text_color": null
          }
        }
      }
    }
  },
  "nbformat": 4,
  "nbformat_minor": 0
}